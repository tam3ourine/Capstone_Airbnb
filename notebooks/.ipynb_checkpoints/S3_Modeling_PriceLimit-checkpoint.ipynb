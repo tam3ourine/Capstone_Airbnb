{
 "cells": [
  {
   "cell_type": "markdown",
   "id": "2574470e-e6d7-4471-8bf6-330e758c15d9",
   "metadata": {
    "tags": []
   },
   "source": [
    "# S2: AirBnb NYC 2024 Listings\n",
    "by: Tam Trinh           \n",
    "March 24, 2025         "
   ]
  },
  {
   "cell_type": "markdown",
   "id": "0510d005-5b83-4e24-b898-c24ea1e62d4a",
   "metadata": {
    "tags": []
   },
   "source": [
    "<a id=\"0\"></a> <br>\n",
    "## Table of Contents  \n",
    "\n",
    "- [Sprint Goals](#6)\n",
    "- [Introduction](#1)\n",
    "- [Set-up and Dataset Overview](#7)\n",
    "- [Part 1: EDA](#2)\n",
    "- [Part 2: Preprocessing](#3)   \n",
    "- [Part 3: Modeling](#4) \n",
    "- [Stylized Visualizations](#8) \n",
    "- [Conclusion](#5)"
   ]
  },
  {
   "cell_type": "markdown",
   "id": "9bd5170e-5e4d-4e0a-8268-edc017ba4f8a",
   "metadata": {
    "tags": []
   },
   "source": [
    "<a id=\"7\"></a>\n",
    "## Set-up and Dataset Overview"
   ]
  },
  {
   "cell_type": "code",
   "execution_count": 54,
   "id": "ecec72af-b297-497b-8c40-fbd6df1080f1",
   "metadata": {
    "tags": []
   },
   "outputs": [],
   "source": [
    "# imports for functionality and plotting\n",
    "import numpy as np\n",
    "import pandas as pd\n",
    "import matplotlib.pyplot as plt\n",
    "import seaborn as sns\n",
    "\n",
    "# optional imports\n",
    "import warnings\n",
    "import pickle\n",
    "\n",
    "# imports for preprocessing\n",
    "from sklearn.preprocessing import OneHotEncoder\n",
    "from sklearn.preprocessing import StandardScaler\n",
    "from sklearn.decomposition import PCA\n",
    "\n",
    "# imports for modeling\n",
    "from sklearn.model_selection import train_test_split\n",
    "from sklearn.pipeline import Pipeline\n",
    "from tempfile import mkdtemp\n",
    "from sklearn.model_selection import GridSearchCV\n",
    "from sklearn.linear_model import LinearRegression\n",
    "from sklearn.ensemble import RandomForestRegressor\n",
    "from xgboost import XGBRegressor\n",
    "\n",
    "from sklearn.metrics import mean_squared_error\n",
    "from sklearn.metrics import mean_absolute_error\n",
    "from sklearn.inspection import permutation_importance"
   ]
  },
  {
   "cell_type": "code",
   "execution_count": 55,
   "id": "794e0583-0a1c-4fec-92c6-589b71814538",
   "metadata": {
    "tags": []
   },
   "outputs": [],
   "source": [
    "# ignore warnings\n",
    "from warnings import filterwarnings\n",
    "warnings.filterwarnings('ignore')"
   ]
  },
  {
   "cell_type": "code",
   "execution_count": 56,
   "id": "5609c1db-573b-48dd-a404-53106fb340c7",
   "metadata": {
    "tags": []
   },
   "outputs": [],
   "source": [
    "# load cleaned dataset\n",
    "cleaned_airbnb = pd.read_csv(\"../data/cleaned_airbnb.csv\")"
   ]
  },
  {
   "cell_type": "code",
   "execution_count": 57,
   "id": "440bf298-d4eb-4515-b3c2-6911167173ca",
   "metadata": {
    "tags": []
   },
   "outputs": [],
   "source": [
    "cleaned_limit500 = cleaned_airbnb[cleaned_airbnb[\"price\"] <= 500]"
   ]
  },
  {
   "cell_type": "code",
   "execution_count": 58,
   "id": "9596132c-c565-404f-a050-fd0af6f25451",
   "metadata": {},
   "outputs": [],
   "source": [
    "cleaned_limit1000 = cleaned_airbnb[cleaned_airbnb[\"price\"] <= 1000]"
   ]
  },
  {
   "cell_type": "code",
   "execution_count": null,
   "id": "36d6c0a5-9d49-4d5d-b0e3-ec6d0b0f7cc9",
   "metadata": {},
   "outputs": [],
   "source": []
  },
  {
   "cell_type": "markdown",
   "id": "f6bd6297-8210-445e-894b-059fc4ddf36d",
   "metadata": {},
   "source": [
    "__________________"
   ]
  },
  {
   "cell_type": "markdown",
   "id": "630eb708-cd46-43b9-8495-0848978a1279",
   "metadata": {
    "tags": []
   },
   "source": [
    "<a id=\"4\"></a>\n",
    "## Part 3: Modeling"
   ]
  },
  {
   "cell_type": "markdown",
   "id": "af41d98b-72a8-47cd-819e-9a228d336286",
   "metadata": {},
   "source": [
    "### Train/test split"
   ]
  },
  {
   "cell_type": "code",
   "execution_count": 59,
   "id": "ac4e2060-694a-49a8-8e37-986f70625bde",
   "metadata": {
    "tags": []
   },
   "outputs": [],
   "source": [
    "# split the data into train and test sets\n",
    "X = cleaned_limit500.loc[:, cleaned_airbnb.columns != \"price\"]\n",
    "y = cleaned_limit500[\"price\"]\n",
    "\n",
    "X_train, X_test, y_train, y_test = train_test_split(X, y, test_size=0.2, random_state=1)"
   ]
  },
  {
   "cell_type": "code",
   "execution_count": 60,
   "id": "7d78adac-fef1-4a97-86db-084295b4f0b7",
   "metadata": {
    "tags": []
   },
   "outputs": [],
   "source": [
    "# optional:\n",
    "\n",
    "# # sample for quicker test runs\n",
    "# sample_airbnb = cleaned_airbnb.sample(n=5000, random_state=1)\n",
    "\n",
    "# # split the data into train and test sets\n",
    "# X = sample_airbnb.loc[:, sample_airbnb.columns != \"price\"]\n",
    "# y = sample_airbnb[\"price\"]\n",
    "\n",
    "# X_train, X_test, y_train, y_test = train_test_split(X, y, test_size=0.2, random_state=1)"
   ]
  },
  {
   "cell_type": "markdown",
   "id": "9b2c74ad-edf8-45a6-af28-b23404a28c1a",
   "metadata": {
    "tags": []
   },
   "source": [
    "### Linear Regression Modeling"
   ]
  },
  {
   "cell_type": "markdown",
   "id": "28a8ed33-0149-46d2-abe3-42aa8045d5a5",
   "metadata": {},
   "source": [
    "#### Fit initial linear regression model"
   ]
  },
  {
   "cell_type": "code",
   "execution_count": 61,
   "id": "e8c1c37b-e96c-407b-8998-d3a389c92544",
   "metadata": {
    "tags": []
   },
   "outputs": [
    {
     "name": "stdout",
     "output_type": "stream",
     "text": [
      "Train score: 0.4164109391444635\n",
      "Test score: 0.3862578018771333\n"
     ]
    }
   ],
   "source": [
    "# initialize linear regression model\n",
    "linreg = LinearRegression()\n",
    "\n",
    "# fit logistic regression model to xtrain\n",
    "linreg.fit(X_train, y_train)\n",
    "\n",
    "# get scores for train and test\n",
    "print(f\"Train score: {linreg.score(X_train, y_train)}\")\n",
    "print(f\"Test score: {linreg.score(X_test, y_test)}\")"
   ]
  },
  {
   "cell_type": "markdown",
   "id": "78b18703-19d4-43de-9f9f-32795d065c88",
   "metadata": {},
   "source": [
    "An initial testing of a linear regression model is performed to poor results. Surprisingly, the test score performed better than the train score."
   ]
  },
  {
   "cell_type": "markdown",
   "id": "de4b0898-1aca-42d9-87b8-0bad6fa059a1",
   "metadata": {},
   "source": [
    "#### Feature Coefficients"
   ]
  },
  {
   "cell_type": "code",
   "execution_count": 62,
   "id": "20f6fb83-23da-412e-869b-fb3bf341ddba",
   "metadata": {
    "tags": []
   },
   "outputs": [],
   "source": [
    "linreg_coef = pd.Series(linreg.coef_, index=X_test.columns)"
   ]
  },
  {
   "cell_type": "code",
   "execution_count": 63,
   "id": "1eb03bb4-7d19-4903-8cbf-fdb64c81990f",
   "metadata": {
    "tags": []
   },
   "outputs": [
    {
     "data": {
      "text/plain": [
       "roomtype_Entire home/apt           30.330792\n",
       "roomtype_Hotel room                27.704304\n",
       "bedrooms                           25.789968\n",
       "ratings_5                          22.455410\n",
       "ratings_4.8                        20.073054\n",
       "neighgroup_Queens                  18.331859\n",
       "latitude                           16.148882\n",
       "neighgroup_Manhattan               14.843848\n",
       "license_Has License                13.724171\n",
       "license_Exempt                     13.418323\n",
       "baths                              13.384154\n",
       "beds                               12.657458\n",
       "ratings_No rating                   8.003885\n",
       "neighgroup_Bronx                    6.514783\n",
       "ratings_4.6                         3.941798\n",
       "neighgroup_Brooklyn                 3.363830\n",
       "reviews_per_month                   0.961540\n",
       "neighborhood_avgprice               0.254980\n",
       "availability_365                    0.028248\n",
       "minimum_nights                     -0.009709\n",
       "calculated_host_listings_count     -0.020297\n",
       "number_of_reviews                  -0.036622\n",
       "number_of_reviews_ltm              -0.084888\n",
       "last_review_month                  -0.520513\n",
       "month                              -0.520513\n",
       "last_review_year                   -3.241074\n",
       "ratings_4.4                        -4.733481\n",
       "ratings_less3                      -6.345995\n",
       "ratings_4.0                        -7.174335\n",
       "ratings_4.2                        -7.938333\n",
       "ratings_New                        -8.945463\n",
       "ratings_3.0                       -19.336541\n",
       "roomtype_Private room             -26.662257\n",
       "license_No License                -27.142494\n",
       "roomtype_Shared room              -31.372838\n",
       "neighgroup_Staten Island          -43.054320\n",
       "longitude                        -185.922670\n",
       "dtype: float64"
      ]
     },
     "execution_count": 63,
     "metadata": {},
     "output_type": "execute_result"
    }
   ],
   "source": [
    "linreg_coef.sort_values(ascending=False)"
   ]
  },
  {
   "cell_type": "markdown",
   "id": "89a8a054-1e42-48f7-835a-fcaca2e50231",
   "metadata": {},
   "source": [
    "#### Set-up pipeline and gridsearch"
   ]
  },
  {
   "cell_type": "code",
   "execution_count": 64,
   "id": "bfe382ce-1bb1-47fe-a078-752e0af2c8ed",
   "metadata": {
    "tags": []
   },
   "outputs": [],
   "source": [
    "estimators = [(\"scaler\", StandardScaler()),\n",
    "              (\"pca\", PCA()),\n",
    "              ('linreg', LinearRegression())]\n",
    "\n",
    "cachedir = mkdtemp()\n",
    "pipe = Pipeline(estimators, memory=cachedir)\n",
    "\n",
    "params = {\"scaler\": [StandardScaler(), None], \n",
    "          \"pca__n_components\": [5, 10, 20,]\n",
    "}\n",
    "\n",
    "grid_search = GridSearchCV(pipe, param_grid=params, cv=5)\n"
   ]
  },
  {
   "cell_type": "markdown",
   "id": "9065f09d-55e3-4d5e-891b-9c7e0e8dbac6",
   "metadata": {},
   "source": [
    "A pipeline and gridsearch structure is built to run the model through. The StandardScaler, PCA, and Linear Regression are used. "
   ]
  },
  {
   "cell_type": "markdown",
   "id": "766d56ea-6120-4eb3-ad49-224de629d62c",
   "metadata": {},
   "source": [
    "#### Fit the gridsearch best fit model"
   ]
  },
  {
   "cell_type": "code",
   "execution_count": 65,
   "id": "8462c1ec-51e8-4a1a-a971-0142cb06cd07",
   "metadata": {
    "tags": []
   },
   "outputs": [],
   "source": [
    "linreg_best = grid_search.fit(X_train, y_train)"
   ]
  },
  {
   "cell_type": "code",
   "execution_count": 66,
   "id": "81b393e2-15b3-4ce7-9dd8-35d7ebe4c4fb",
   "metadata": {
    "tags": []
   },
   "outputs": [
    {
     "data": {
      "text/html": [
       "<style>#sk-container-id-4 {color: black;}#sk-container-id-4 pre{padding: 0;}#sk-container-id-4 div.sk-toggleable {background-color: white;}#sk-container-id-4 label.sk-toggleable__label {cursor: pointer;display: block;width: 100%;margin-bottom: 0;padding: 0.3em;box-sizing: border-box;text-align: center;}#sk-container-id-4 label.sk-toggleable__label-arrow:before {content: \"▸\";float: left;margin-right: 0.25em;color: #696969;}#sk-container-id-4 label.sk-toggleable__label-arrow:hover:before {color: black;}#sk-container-id-4 div.sk-estimator:hover label.sk-toggleable__label-arrow:before {color: black;}#sk-container-id-4 div.sk-toggleable__content {max-height: 0;max-width: 0;overflow: hidden;text-align: left;background-color: #f0f8ff;}#sk-container-id-4 div.sk-toggleable__content pre {margin: 0.2em;color: black;border-radius: 0.25em;background-color: #f0f8ff;}#sk-container-id-4 input.sk-toggleable__control:checked~div.sk-toggleable__content {max-height: 200px;max-width: 100%;overflow: auto;}#sk-container-id-4 input.sk-toggleable__control:checked~label.sk-toggleable__label-arrow:before {content: \"▾\";}#sk-container-id-4 div.sk-estimator input.sk-toggleable__control:checked~label.sk-toggleable__label {background-color: #d4ebff;}#sk-container-id-4 div.sk-label input.sk-toggleable__control:checked~label.sk-toggleable__label {background-color: #d4ebff;}#sk-container-id-4 input.sk-hidden--visually {border: 0;clip: rect(1px 1px 1px 1px);clip: rect(1px, 1px, 1px, 1px);height: 1px;margin: -1px;overflow: hidden;padding: 0;position: absolute;width: 1px;}#sk-container-id-4 div.sk-estimator {font-family: monospace;background-color: #f0f8ff;border: 1px dotted black;border-radius: 0.25em;box-sizing: border-box;margin-bottom: 0.5em;}#sk-container-id-4 div.sk-estimator:hover {background-color: #d4ebff;}#sk-container-id-4 div.sk-parallel-item::after {content: \"\";width: 100%;border-bottom: 1px solid gray;flex-grow: 1;}#sk-container-id-4 div.sk-label:hover label.sk-toggleable__label {background-color: #d4ebff;}#sk-container-id-4 div.sk-serial::before {content: \"\";position: absolute;border-left: 1px solid gray;box-sizing: border-box;top: 0;bottom: 0;left: 50%;z-index: 0;}#sk-container-id-4 div.sk-serial {display: flex;flex-direction: column;align-items: center;background-color: white;padding-right: 0.2em;padding-left: 0.2em;position: relative;}#sk-container-id-4 div.sk-item {position: relative;z-index: 1;}#sk-container-id-4 div.sk-parallel {display: flex;align-items: stretch;justify-content: center;background-color: white;position: relative;}#sk-container-id-4 div.sk-item::before, #sk-container-id-4 div.sk-parallel-item::before {content: \"\";position: absolute;border-left: 1px solid gray;box-sizing: border-box;top: 0;bottom: 0;left: 50%;z-index: -1;}#sk-container-id-4 div.sk-parallel-item {display: flex;flex-direction: column;z-index: 1;position: relative;background-color: white;}#sk-container-id-4 div.sk-parallel-item:first-child::after {align-self: flex-end;width: 50%;}#sk-container-id-4 div.sk-parallel-item:last-child::after {align-self: flex-start;width: 50%;}#sk-container-id-4 div.sk-parallel-item:only-child::after {width: 0;}#sk-container-id-4 div.sk-dashed-wrapped {border: 1px dashed gray;margin: 0 0.4em 0.5em 0.4em;box-sizing: border-box;padding-bottom: 0.4em;background-color: white;}#sk-container-id-4 div.sk-label label {font-family: monospace;font-weight: bold;display: inline-block;line-height: 1.2em;}#sk-container-id-4 div.sk-label-container {text-align: center;}#sk-container-id-4 div.sk-container {/* jupyter's `normalize.less` sets `[hidden] { display: none; }` but bootstrap.min.css set `[hidden] { display: none !important; }` so we also need the `!important` here to be able to override the default hidden behavior on the sphinx rendered scikit-learn.org. See: https://github.com/scikit-learn/scikit-learn/issues/21755 */display: inline-block !important;position: relative;}#sk-container-id-4 div.sk-text-repr-fallback {display: none;}</style><div id=\"sk-container-id-4\" class=\"sk-top-container\"><div class=\"sk-text-repr-fallback\"><pre>Pipeline(memory=&#x27;/var/folders/s2/vdwvjj2j24d4tg5yz10ycr080000gn/T/tmp8n3yzy_j&#x27;,\n",
       "         steps=[(&#x27;scaler&#x27;, None), (&#x27;pca&#x27;, PCA(n_components=20)),\n",
       "                (&#x27;linreg&#x27;, LinearRegression())])</pre><b>In a Jupyter environment, please rerun this cell to show the HTML representation or trust the notebook. <br />On GitHub, the HTML representation is unable to render, please try loading this page with nbviewer.org.</b></div><div class=\"sk-container\" hidden><div class=\"sk-item sk-dashed-wrapped\"><div class=\"sk-label-container\"><div class=\"sk-label sk-toggleable\"><input class=\"sk-toggleable__control sk-hidden--visually\" id=\"sk-estimator-id-13\" type=\"checkbox\" ><label for=\"sk-estimator-id-13\" class=\"sk-toggleable__label sk-toggleable__label-arrow\">Pipeline</label><div class=\"sk-toggleable__content\"><pre>Pipeline(memory=&#x27;/var/folders/s2/vdwvjj2j24d4tg5yz10ycr080000gn/T/tmp8n3yzy_j&#x27;,\n",
       "         steps=[(&#x27;scaler&#x27;, None), (&#x27;pca&#x27;, PCA(n_components=20)),\n",
       "                (&#x27;linreg&#x27;, LinearRegression())])</pre></div></div></div><div class=\"sk-serial\"><div class=\"sk-item\"><div class=\"sk-estimator sk-toggleable\"><input class=\"sk-toggleable__control sk-hidden--visually\" id=\"sk-estimator-id-14\" type=\"checkbox\" ><label for=\"sk-estimator-id-14\" class=\"sk-toggleable__label sk-toggleable__label-arrow\">None</label><div class=\"sk-toggleable__content\"><pre>None</pre></div></div></div><div class=\"sk-item\"><div class=\"sk-estimator sk-toggleable\"><input class=\"sk-toggleable__control sk-hidden--visually\" id=\"sk-estimator-id-15\" type=\"checkbox\" ><label for=\"sk-estimator-id-15\" class=\"sk-toggleable__label sk-toggleable__label-arrow\">PCA</label><div class=\"sk-toggleable__content\"><pre>PCA(n_components=20)</pre></div></div></div><div class=\"sk-item\"><div class=\"sk-estimator sk-toggleable\"><input class=\"sk-toggleable__control sk-hidden--visually\" id=\"sk-estimator-id-16\" type=\"checkbox\" ><label for=\"sk-estimator-id-16\" class=\"sk-toggleable__label sk-toggleable__label-arrow\">LinearRegression</label><div class=\"sk-toggleable__content\"><pre>LinearRegression()</pre></div></div></div></div></div></div></div>"
      ],
      "text/plain": [
       "Pipeline(memory='/var/folders/s2/vdwvjj2j24d4tg5yz10ycr080000gn/T/tmp8n3yzy_j',\n",
       "         steps=[('scaler', None), ('pca', PCA(n_components=20)),\n",
       "                ('linreg', LinearRegression())])"
      ]
     },
     "execution_count": 66,
     "metadata": {},
     "output_type": "execute_result"
    }
   ],
   "source": [
    "linreg_best.best_estimator_\n"
   ]
  },
  {
   "cell_type": "code",
   "execution_count": 67,
   "id": "debe9da2-0cb0-4c0a-a752-49cc98706372",
   "metadata": {
    "tags": []
   },
   "outputs": [
    {
     "name": "stdout",
     "output_type": "stream",
     "text": [
      "The best fit scaler is: None\n",
      "The best fit number of PCA components is: PCA(n_components=20)\n",
      "The best fit model is: LinearRegression()\n"
     ]
    }
   ],
   "source": [
    "print(f\"The best fit scaler is: {linreg_best.best_estimator_[0]}\")\n",
    "print(f\"The best fit number of PCA components is: {linreg_best.best_estimator_[1]}\")\n",
    "print(f\"The best fit model is: {linreg_best.best_estimator_[2]}\")"
   ]
  },
  {
   "cell_type": "markdown",
   "id": "adf3a66c-44bf-44a5-91ad-3feb061383c1",
   "metadata": {},
   "source": [
    "The gridsearch parameters improved the test score from 0.12 to 0.13, being able to explain 13% of the price information. For the gridsearch the StandardScaler performed better than no scaler, and PCA 10 components performed the best. Since the lowest number of PCA performed the best, this can indicate that the features might not be helping with the price prediction. Perhaps they are not linearly correlated with price. Furthur analysis can look into non-linear relationship modeling. "
   ]
  },
  {
   "cell_type": "code",
   "execution_count": 68,
   "id": "e6a78ab4-115c-4757-8eea-c22f3443856e",
   "metadata": {
    "tags": []
   },
   "outputs": [
    {
     "name": "stdout",
     "output_type": "stream",
     "text": [
      "Train score: 0.40423060791755516\n",
      "Test score: 0.37443973415133924\n"
     ]
    }
   ],
   "source": [
    "# linreg_best train and test scores\n",
    "print(f\"Train score: {linreg_best.score(X_train, y_train)}\")\n",
    "print(f\"Test score: {linreg_best.score(X_test, y_test)}\")"
   ]
  },
  {
   "cell_type": "code",
   "execution_count": 69,
   "id": "97c9e44a-16c7-4ee0-b061-b04899d22be6",
   "metadata": {
    "tags": []
   },
   "outputs": [],
   "source": [
    "# make array of y_pred\n",
    "y_pred = linreg_best.predict(X_test)"
   ]
  },
  {
   "cell_type": "code",
   "execution_count": 70,
   "id": "bfe4402c-512a-44b6-8a92-0afd4a140570",
   "metadata": {
    "tags": []
   },
   "outputs": [
    {
     "name": "stdout",
     "output_type": "stream",
     "text": [
      "RMSE: 72.18248892105767\n"
     ]
    }
   ],
   "source": [
    "# Calculate MSE\n",
    "mse = mean_squared_error(y_test, y_pred)\n",
    "\n",
    "# Calculate RMSE\n",
    "rmse = np.sqrt(mse)\n",
    "\n",
    "print(\"RMSE:\", rmse)"
   ]
  },
  {
   "cell_type": "code",
   "execution_count": 71,
   "id": "aa2195d6-4865-416f-a7b9-4330ce5ffd2c",
   "metadata": {
    "tags": []
   },
   "outputs": [
    {
     "name": "stdout",
     "output_type": "stream",
     "text": [
      "MAE: 51.79853408510059\n"
     ]
    }
   ],
   "source": [
    "# Calculate MAE\n",
    "mae = mean_absolute_error(y_test, y_pred)\n",
    "\n",
    "print(\"MAE:\", mae)"
   ]
  },
  {
   "cell_type": "code",
   "execution_count": 72,
   "id": "a83360ac-dc17-4825-aa46-1854f5ded163",
   "metadata": {},
   "outputs": [
    {
     "data": {
      "text/html": [
       "<div>\n",
       "<style scoped>\n",
       "    .dataframe tbody tr th:only-of-type {\n",
       "        vertical-align: middle;\n",
       "    }\n",
       "\n",
       "    .dataframe tbody tr th {\n",
       "        vertical-align: top;\n",
       "    }\n",
       "\n",
       "    .dataframe thead th {\n",
       "        text-align: right;\n",
       "    }\n",
       "</style>\n",
       "<table border=\"1\" class=\"dataframe\">\n",
       "  <thead>\n",
       "    <tr style=\"text-align: right;\">\n",
       "      <th></th>\n",
       "      <th>True_y</th>\n",
       "      <th>Pred_y</th>\n",
       "    </tr>\n",
       "  </thead>\n",
       "  <tbody>\n",
       "    <tr>\n",
       "      <th>16115</th>\n",
       "      <td>357.0</td>\n",
       "      <td>189.387640</td>\n",
       "    </tr>\n",
       "    <tr>\n",
       "      <th>1289</th>\n",
       "      <td>85.0</td>\n",
       "      <td>132.338482</td>\n",
       "    </tr>\n",
       "    <tr>\n",
       "      <th>2465</th>\n",
       "      <td>190.0</td>\n",
       "      <td>194.921987</td>\n",
       "    </tr>\n",
       "    <tr>\n",
       "      <th>9515</th>\n",
       "      <td>286.0</td>\n",
       "      <td>297.640414</td>\n",
       "    </tr>\n",
       "    <tr>\n",
       "      <th>12319</th>\n",
       "      <td>180.0</td>\n",
       "      <td>148.020145</td>\n",
       "    </tr>\n",
       "    <tr>\n",
       "      <th>...</th>\n",
       "      <td>...</td>\n",
       "      <td>...</td>\n",
       "    </tr>\n",
       "    <tr>\n",
       "      <th>13030</th>\n",
       "      <td>150.0</td>\n",
       "      <td>183.723788</td>\n",
       "    </tr>\n",
       "    <tr>\n",
       "      <th>15081</th>\n",
       "      <td>229.0</td>\n",
       "      <td>151.007193</td>\n",
       "    </tr>\n",
       "    <tr>\n",
       "      <th>9385</th>\n",
       "      <td>100.0</td>\n",
       "      <td>135.687127</td>\n",
       "    </tr>\n",
       "    <tr>\n",
       "      <th>3356</th>\n",
       "      <td>214.0</td>\n",
       "      <td>169.025282</td>\n",
       "    </tr>\n",
       "    <tr>\n",
       "      <th>1808</th>\n",
       "      <td>106.0</td>\n",
       "      <td>160.821056</td>\n",
       "    </tr>\n",
       "  </tbody>\n",
       "</table>\n",
       "<p>4006 rows × 2 columns</p>\n",
       "</div>"
      ],
      "text/plain": [
       "       True_y      Pred_y\n",
       "16115   357.0  189.387640\n",
       "1289     85.0  132.338482\n",
       "2465    190.0  194.921987\n",
       "9515    286.0  297.640414\n",
       "12319   180.0  148.020145\n",
       "...       ...         ...\n",
       "13030   150.0  183.723788\n",
       "15081   229.0  151.007193\n",
       "9385    100.0  135.687127\n",
       "3356    214.0  169.025282\n",
       "1808    106.0  160.821056\n",
       "\n",
       "[4006 rows x 2 columns]"
      ]
     },
     "execution_count": 72,
     "metadata": {},
     "output_type": "execute_result"
    }
   ],
   "source": [
    "# compare y_pred to y_true\n",
    "\n",
    "# add to df\n",
    "y_truevspred = pd.DataFrame({\"True_y\": y_test, \"Pred_y\": y_pred})\n",
    "\n",
    "# display\n",
    "y_truevspred"
   ]
  },
  {
   "cell_type": "markdown",
   "id": "e546ea2b-afee-4782-90b2-2adb7bc8d3ce",
   "metadata": {
    "tags": []
   },
   "source": [
    "#### Plots of predicted vs actual"
   ]
  },
  {
   "cell_type": "code",
   "execution_count": 73,
   "id": "625fd164-c424-4634-ad31-730d7d579397",
   "metadata": {
    "tags": []
   },
   "outputs": [
    {
     "data": {
      "image/png": "[encoded data removed]",
      "text/plain": [
       "<Figure size 600x400 with 1 Axes>"
      ]
     },
     "metadata": {},
     "output_type": "display_data"
    }
   ],
   "source": [
    "# scatterplot\n",
    "\n",
    "plt.figure(figsize=(6,4))\n",
    "ax = sns.scatterplot(x=y_pred, y=y_test)\n",
    "plt.suptitle(\"Scatterplot of y_pred and y_test\")\n",
    "plt.xlabel(\"y_pred\")\n",
    "plt.ylabel(\"y_test\")\n",
    "\n",
    "x_vals = np.linspace(y_pred.min(), y_pred.max(), 100)\n",
    "ax.plot(x_vals, x_vals, color='red', linestyle='--', linewidth=2) \n",
    "\n",
    "plt.show()\n"
   ]
  },
  {
   "cell_type": "markdown",
   "id": "5338ebea-85d2-409e-9928-a41966f54054",
   "metadata": {},
   "source": [
    "In this scatterplot of the predicted price values versus the actual price values, the predicted was capped at about 3,000, meanwhile the actual value went as high as 10,000. In linear regression, this punishes the model severely as the large values of error are squared, giving more weight to outliers. In the case of this dataset, the outliers are already large, and this magnifies the effect of the outliers, further punishing the model. Further analysis could look into handling the outliers."
   ]
  },
  {
   "cell_type": "code",
   "execution_count": 74,
   "id": "c49add50-d6d3-4a1c-8fc2-cf4f872f4f9a",
   "metadata": {
    "tags": []
   },
   "outputs": [
    {
     "data": {
      "image/png": "[encoded data removed]",
      "text/plain": [
       "<Figure size 600x400 with 1 Axes>"
      ]
     },
     "metadata": {},
     "output_type": "display_data"
    }
   ],
   "source": [
    "# scatterplot\n",
    "\n",
    "plt.figure(figsize=(6,4))\n",
    "ax = sns.scatterplot(x=y_pred, y=y_test)\n",
    "plt.suptitle(\"Scatterplot of y_pred and y_test\")\n",
    "plt.xlabel(\"y_pred\")\n",
    "plt.ylabel(\"y_test\")\n",
    "\n",
    "x_vals = np.linspace(y_pred.min(), y_pred.max(), 100)\n",
    "ax.plot(x_vals, x_vals, color='red', linestyle='--', linewidth=2) \n",
    "\n",
    "plt.xlim(0, 1000)\n",
    "plt.ylim(0, 1000)\n",
    "\n",
    "plt.show()\n"
   ]
  },
  {
   "cell_type": "markdown",
   "id": "e1bf41ff-8db2-497d-a7cb-06a54545ab2e",
   "metadata": {},
   "source": [
    "When zooming into the values less than 1,000, the model seemed to performed much better. With similar amounts above the line, showing when actual price is higher than predicted price, and a similar amount under the line, showing when predicted price is higher than actual price."
   ]
  },
  {
   "cell_type": "markdown",
   "id": "c7e0b3f1-a4d8-4c70-9696-db2521e3c9c0",
   "metadata": {},
   "source": [
    "#### Pickle and save model"
   ]
  },
  {
   "cell_type": "code",
   "execution_count": 75,
   "id": "b768ae25-b6e9-4148-a8a4-72a1407501b2",
   "metadata": {
    "tags": []
   },
   "outputs": [],
   "source": [
    "pickle.dump(linreg_best, open(\"../models/linreg_model.pkl\",\"wb\"))"
   ]
  },
  {
   "cell_type": "code",
   "execution_count": 76,
   "id": "4fc9e2d4-8663-4b96-a03d-485e97832a4c",
   "metadata": {},
   "outputs": [],
   "source": [
    "# # to load model (optional)\n",
    "# linreg_model = pickle.load(open(\"../models/linreg_model.pkl\",\"rb\"))"
   ]
  },
  {
   "cell_type": "markdown",
   "id": "841a19d2-5d3e-480b-ab3a-71a5fcd01a3c",
   "metadata": {
    "tags": []
   },
   "source": [
    "***"
   ]
  },
  {
   "cell_type": "markdown",
   "id": "7cc0ece8-ff7f-4dea-a39f-1ccf1f244c26",
   "metadata": {},
   "source": [
    "### XGBoost Modeling"
   ]
  },
  {
   "cell_type": "code",
   "execution_count": 77,
   "id": "d6a1088d-84ae-4359-a015-fe4c494aafe1",
   "metadata": {
    "tags": []
   },
   "outputs": [
    {
     "name": "stdout",
     "output_type": "stream",
     "text": [
      "Train score: 0.7979406803824365\n",
      "Test score: 0.5248005633205888\n"
     ]
    }
   ],
   "source": [
    "# initialize xgboost model\n",
    "xgb_model = XGBRegressor()\n",
    "\n",
    "# fit logistic regression model to xtrain\n",
    "xgb_model.fit(X_train, y_train)\n",
    "\n",
    "# get scores for train and test\n",
    "print(f\"Train score: {xgb_model.score(X_train, y_train)}\")\n",
    "print(f\"Test score: {xgb_model.score(X_test, y_test)}\")"
   ]
  },
  {
   "cell_type": "markdown",
   "id": "e2eab4e2-a49b-4e7c-a043-7fed10a1996d",
   "metadata": {},
   "source": [
    "An initial testing of a linear regression model is performed to poor results. Surprisingly, the test score performed better than the train score."
   ]
  },
  {
   "cell_type": "markdown",
   "id": "9b560c62-9189-403e-b630-6b1780246b7d",
   "metadata": {},
   "source": [
    "#### Feature Importance"
   ]
  },
  {
   "cell_type": "code",
   "execution_count": 78,
   "id": "86492bff-4613-42ef-9b8d-9d23c80753bb",
   "metadata": {
    "tags": []
   },
   "outputs": [
    {
     "data": {
      "text/plain": [
       "roomtype_Entire home/apt          0.293657\n",
       "license_No License                0.248750\n",
       "baths                             0.095256\n",
       "bedrooms                          0.041803\n",
       "roomtype_Hotel room               0.025196\n",
       "license_Exempt                    0.022942\n",
       "beds                              0.022604\n",
       "neighborhood_avgprice             0.019371\n",
       "calculated_host_listings_count    0.017419\n",
       "ratings_No rating                 0.016141\n",
       "ratings_4.8                       0.014345\n",
       "neighgroup_Manhattan              0.013910\n",
       "minimum_nights                    0.013362\n",
       "ratings_5                         0.012782\n",
       "longitude                         0.010837\n",
       "reviews_per_month                 0.009672\n",
       "availability_365                  0.009060\n",
       "ratings_3.0                       0.008836\n",
       "number_of_reviews_ltm             0.007052\n",
       "latitude                          0.006933\n",
       "ratings_4.2                       0.006909\n",
       "neighgroup_Queens                 0.006892\n",
       "neighgroup_Brooklyn               0.006827\n",
       "month                             0.006735\n",
       "last_review_year                  0.006628\n",
       "roomtype_Shared room              0.006622\n",
       "ratings_4.0                       0.006504\n",
       "ratings_4.6                       0.006493\n",
       "roomtype_Private room             0.006448\n",
       "ratings_less3                     0.006426\n",
       "number_of_reviews                 0.005840\n",
       "ratings_New                       0.005237\n",
       "license_Has License               0.005148\n",
       "ratings_4.4                       0.004205\n",
       "neighgroup_Bronx                  0.003156\n",
       "neighgroup_Staten Island          0.000000\n",
       "last_review_month                 0.000000\n",
       "dtype: float32"
      ]
     },
     "execution_count": 78,
     "metadata": {},
     "output_type": "execute_result"
    }
   ],
   "source": [
    "importances = xgb_model.feature_importances_\n",
    "\n",
    "feature_importances = pd.Series(importances, index=X_test.columns)\n",
    "\n",
    "feature_importances.sort_values(ascending=False)"
   ]
  },
  {
   "cell_type": "code",
   "execution_count": 79,
   "id": "0b6f5bb4-0072-4ded-b568-8a6075efb9b0",
   "metadata": {
    "tags": []
   },
   "outputs": [
    {
     "data": {
      "text/html": [
       "<div>\n",
       "<style scoped>\n",
       "    .dataframe tbody tr th:only-of-type {\n",
       "        vertical-align: middle;\n",
       "    }\n",
       "\n",
       "    .dataframe tbody tr th {\n",
       "        vertical-align: top;\n",
       "    }\n",
       "\n",
       "    .dataframe thead th {\n",
       "        text-align: right;\n",
       "    }\n",
       "</style>\n",
       "<table border=\"1\" class=\"dataframe\">\n",
       "  <thead>\n",
       "    <tr style=\"text-align: right;\">\n",
       "      <th></th>\n",
       "      <th>Importance</th>\n",
       "    </tr>\n",
       "  </thead>\n",
       "  <tbody>\n",
       "    <tr>\n",
       "      <th>ratings_3.0</th>\n",
       "      <td>15870.599609</td>\n",
       "    </tr>\n",
       "    <tr>\n",
       "      <th>license_No License</th>\n",
       "      <td>6737.636230</td>\n",
       "    </tr>\n",
       "    <tr>\n",
       "      <th>roomtype_Shared room</th>\n",
       "      <td>6666.000000</td>\n",
       "    </tr>\n",
       "    <tr>\n",
       "      <th>ratings_less3</th>\n",
       "      <td>6263.500000</td>\n",
       "    </tr>\n",
       "    <tr>\n",
       "      <th>ratings_New</th>\n",
       "      <td>5838.399902</td>\n",
       "    </tr>\n",
       "    <tr>\n",
       "      <th>license_Has License</th>\n",
       "      <td>4449.643066</td>\n",
       "    </tr>\n",
       "    <tr>\n",
       "      <th>last_review_year</th>\n",
       "      <td>3768.469971</td>\n",
       "    </tr>\n",
       "    <tr>\n",
       "      <th>ratings_4.8</th>\n",
       "      <td>3704.600098</td>\n",
       "    </tr>\n",
       "    <tr>\n",
       "      <th>ratings_4.0</th>\n",
       "      <td>2962.866699</td>\n",
       "    </tr>\n",
       "    <tr>\n",
       "      <th>ratings_4.2</th>\n",
       "      <td>2381.933350</td>\n",
       "    </tr>\n",
       "    <tr>\n",
       "      <th>roomtype_Entire home/apt</th>\n",
       "      <td>2172.188477</td>\n",
       "    </tr>\n",
       "    <tr>\n",
       "      <th>number_of_reviews_ltm</th>\n",
       "      <td>2160.847412</td>\n",
       "    </tr>\n",
       "    <tr>\n",
       "      <th>calculated_host_listings_count</th>\n",
       "      <td>2114.356934</td>\n",
       "    </tr>\n",
       "    <tr>\n",
       "      <th>minimum_nights</th>\n",
       "      <td>2071.958740</td>\n",
       "    </tr>\n",
       "    <tr>\n",
       "      <th>ratings_5</th>\n",
       "      <td>2050.399902</td>\n",
       "    </tr>\n",
       "    <tr>\n",
       "      <th>longitude</th>\n",
       "      <td>2009.608887</td>\n",
       "    </tr>\n",
       "    <tr>\n",
       "      <th>number_of_reviews</th>\n",
       "      <td>1976.989014</td>\n",
       "    </tr>\n",
       "    <tr>\n",
       "      <th>availability_365</th>\n",
       "      <td>1957.030151</td>\n",
       "    </tr>\n",
       "    <tr>\n",
       "      <th>reviews_per_month</th>\n",
       "      <td>1833.272461</td>\n",
       "    </tr>\n",
       "    <tr>\n",
       "      <th>baths</th>\n",
       "      <td>1832.636353</td>\n",
       "    </tr>\n",
       "    <tr>\n",
       "      <th>latitude</th>\n",
       "      <td>1764.436890</td>\n",
       "    </tr>\n",
       "    <tr>\n",
       "      <th>neighborhood_avgprice</th>\n",
       "      <td>1719.569336</td>\n",
       "    </tr>\n",
       "    <tr>\n",
       "      <th>beds</th>\n",
       "      <td>1716.331299</td>\n",
       "    </tr>\n",
       "    <tr>\n",
       "      <th>bedrooms</th>\n",
       "      <td>1594.840698</td>\n",
       "    </tr>\n",
       "    <tr>\n",
       "      <th>month</th>\n",
       "      <td>1505.770142</td>\n",
       "    </tr>\n",
       "    <tr>\n",
       "      <th>roomtype_Hotel room</th>\n",
       "      <td>1436.599976</td>\n",
       "    </tr>\n",
       "    <tr>\n",
       "      <th>roomtype_Private room</th>\n",
       "      <td>1397.681763</td>\n",
       "    </tr>\n",
       "    <tr>\n",
       "      <th>neighgroup_Manhattan</th>\n",
       "      <td>1385.300049</td>\n",
       "    </tr>\n",
       "    <tr>\n",
       "      <th>neighgroup_Brooklyn</th>\n",
       "      <td>1354.727295</td>\n",
       "    </tr>\n",
       "    <tr>\n",
       "      <th>ratings_4.4</th>\n",
       "      <td>1335.500000</td>\n",
       "    </tr>\n",
       "    <tr>\n",
       "      <th>ratings_No rating</th>\n",
       "      <td>1149.000000</td>\n",
       "    </tr>\n",
       "    <tr>\n",
       "      <th>license_Exempt</th>\n",
       "      <td>963.187500</td>\n",
       "    </tr>\n",
       "    <tr>\n",
       "      <th>ratings_4.6</th>\n",
       "      <td>946.500000</td>\n",
       "    </tr>\n",
       "    <tr>\n",
       "      <th>neighgroup_Queens</th>\n",
       "      <td>483.750000</td>\n",
       "    </tr>\n",
       "    <tr>\n",
       "      <th>neighgroup_Bronx</th>\n",
       "      <td>133.333328</td>\n",
       "    </tr>\n",
       "  </tbody>\n",
       "</table>\n",
       "</div>"
      ],
      "text/plain": [
       "                                  Importance\n",
       "ratings_3.0                     15870.599609\n",
       "license_No License               6737.636230\n",
       "roomtype_Shared room             6666.000000\n",
       "ratings_less3                    6263.500000\n",
       "ratings_New                      5838.399902\n",
       "license_Has License              4449.643066\n",
       "last_review_year                 3768.469971\n",
       "ratings_4.8                      3704.600098\n",
       "ratings_4.0                      2962.866699\n",
       "ratings_4.2                      2381.933350\n",
       "roomtype_Entire home/apt         2172.188477\n",
       "number_of_reviews_ltm            2160.847412\n",
       "calculated_host_listings_count   2114.356934\n",
       "minimum_nights                   2071.958740\n",
       "ratings_5                        2050.399902\n",
       "longitude                        2009.608887\n",
       "number_of_reviews                1976.989014\n",
       "availability_365                 1957.030151\n",
       "reviews_per_month                1833.272461\n",
       "baths                            1832.636353\n",
       "latitude                         1764.436890\n",
       "neighborhood_avgprice            1719.569336\n",
       "beds                             1716.331299\n",
       "bedrooms                         1594.840698\n",
       "month                            1505.770142\n",
       "roomtype_Hotel room              1436.599976\n",
       "roomtype_Private room            1397.681763\n",
       "neighgroup_Manhattan             1385.300049\n",
       "neighgroup_Brooklyn              1354.727295\n",
       "ratings_4.4                      1335.500000\n",
       "ratings_No rating                1149.000000\n",
       "license_Exempt                    963.187500\n",
       "ratings_4.6                       946.500000\n",
       "neighgroup_Queens                 483.750000\n",
       "neighgroup_Bronx                  133.333328"
      ]
     },
     "execution_count": 79,
     "metadata": {},
     "output_type": "execute_result"
    }
   ],
   "source": [
    "# alternative booster importance\n",
    "booster = xgb_model.get_booster()\n",
    "importance_dict = booster.get_score(importance_type='cover')  \n",
    "\n",
    "# display\n",
    "importance_df = pd.DataFrame.from_dict(importance_dict, orient='index', columns=['Importance'])\n",
    "importance_df = importance_df.sort_values(by='Importance', ascending=False)\n",
    "importance_df"
   ]
  },
  {
   "cell_type": "markdown",
   "id": "b6618628-278d-4940-84a2-a83fed757c29",
   "metadata": {},
   "source": [
    "#### Set-up pipeline and gridsearch"
   ]
  },
  {
   "cell_type": "code",
   "execution_count": 80,
   "id": "5744abde-81f9-4aa0-80a5-36b1760e6a21",
   "metadata": {
    "tags": []
   },
   "outputs": [],
   "source": [
    "estimators = [(\"scaler\", StandardScaler()),\n",
    "              (\"pca\", PCA()),\n",
    "              ('xgb', XGBRegressor())]\n",
    "\n",
    "cachedir = mkdtemp()\n",
    "pipe = Pipeline(estimators, memory=cachedir)\n",
    "\n",
    "params = {\"scaler\": [StandardScaler(), None], \n",
    "          \"pca__n_components\": [5, 10, 20,]\n",
    "}\n",
    "\n",
    "grid_search = GridSearchCV(pipe, param_grid=params, cv=5)\n"
   ]
  },
  {
   "cell_type": "markdown",
   "id": "0368ece1-c195-4f04-b4d2-4fadc208761f",
   "metadata": {},
   "source": [
    "A pipeline and gridsearch structure is built to run the model through. The StandardScaler, PCA, and Linear Regression are used. "
   ]
  },
  {
   "cell_type": "markdown",
   "id": "436063eb-1220-40b9-aa3b-31e70df119ee",
   "metadata": {},
   "source": [
    "#### Fit the gridsearch best fit model"
   ]
  },
  {
   "cell_type": "code",
   "execution_count": 81,
   "id": "04e5acb5-bfc0-4fb4-bac1-eb70a854244f",
   "metadata": {
    "tags": []
   },
   "outputs": [],
   "source": [
    "xgb_best = grid_search.fit(X_train, y_train)"
   ]
  },
  {
   "cell_type": "code",
   "execution_count": 82,
   "id": "60dff8d3-5ea8-4016-becc-b3f428f60a8d",
   "metadata": {
    "tags": []
   },
   "outputs": [
    {
     "data": {
      "text/html": [
       "<style>#sk-container-id-5 {color: black;}#sk-container-id-5 pre{padding: 0;}#sk-container-id-5 div.sk-toggleable {background-color: white;}#sk-container-id-5 label.sk-toggleable__label {cursor: pointer;display: block;width: 100%;margin-bottom: 0;padding: 0.3em;box-sizing: border-box;text-align: center;}#sk-container-id-5 label.sk-toggleable__label-arrow:before {content: \"▸\";float: left;margin-right: 0.25em;color: #696969;}#sk-container-id-5 label.sk-toggleable__label-arrow:hover:before {color: black;}#sk-container-id-5 div.sk-estimator:hover label.sk-toggleable__label-arrow:before {color: black;}#sk-container-id-5 div.sk-toggleable__content {max-height: 0;max-width: 0;overflow: hidden;text-align: left;background-color: #f0f8ff;}#sk-container-id-5 div.sk-toggleable__content pre {margin: 0.2em;color: black;border-radius: 0.25em;background-color: #f0f8ff;}#sk-container-id-5 input.sk-toggleable__control:checked~div.sk-toggleable__content {max-height: 200px;max-width: 100%;overflow: auto;}#sk-container-id-5 input.sk-toggleable__control:checked~label.sk-toggleable__label-arrow:before {content: \"▾\";}#sk-container-id-5 div.sk-estimator input.sk-toggleable__control:checked~label.sk-toggleable__label {background-color: #d4ebff;}#sk-container-id-5 div.sk-label input.sk-toggleable__control:checked~label.sk-toggleable__label {background-color: #d4ebff;}#sk-container-id-5 input.sk-hidden--visually {border: 0;clip: rect(1px 1px 1px 1px);clip: rect(1px, 1px, 1px, 1px);height: 1px;margin: -1px;overflow: hidden;padding: 0;position: absolute;width: 1px;}#sk-container-id-5 div.sk-estimator {font-family: monospace;background-color: #f0f8ff;border: 1px dotted black;border-radius: 0.25em;box-sizing: border-box;margin-bottom: 0.5em;}#sk-container-id-5 div.sk-estimator:hover {background-color: #d4ebff;}#sk-container-id-5 div.sk-parallel-item::after {content: \"\";width: 100%;border-bottom: 1px solid gray;flex-grow: 1;}#sk-container-id-5 div.sk-label:hover label.sk-toggleable__label {background-color: #d4ebff;}#sk-container-id-5 div.sk-serial::before {content: \"\";position: absolute;border-left: 1px solid gray;box-sizing: border-box;top: 0;bottom: 0;left: 50%;z-index: 0;}#sk-container-id-5 div.sk-serial {display: flex;flex-direction: column;align-items: center;background-color: white;padding-right: 0.2em;padding-left: 0.2em;position: relative;}#sk-container-id-5 div.sk-item {position: relative;z-index: 1;}#sk-container-id-5 div.sk-parallel {display: flex;align-items: stretch;justify-content: center;background-color: white;position: relative;}#sk-container-id-5 div.sk-item::before, #sk-container-id-5 div.sk-parallel-item::before {content: \"\";position: absolute;border-left: 1px solid gray;box-sizing: border-box;top: 0;bottom: 0;left: 50%;z-index: -1;}#sk-container-id-5 div.sk-parallel-item {display: flex;flex-direction: column;z-index: 1;position: relative;background-color: white;}#sk-container-id-5 div.sk-parallel-item:first-child::after {align-self: flex-end;width: 50%;}#sk-container-id-5 div.sk-parallel-item:last-child::after {align-self: flex-start;width: 50%;}#sk-container-id-5 div.sk-parallel-item:only-child::after {width: 0;}#sk-container-id-5 div.sk-dashed-wrapped {border: 1px dashed gray;margin: 0 0.4em 0.5em 0.4em;box-sizing: border-box;padding-bottom: 0.4em;background-color: white;}#sk-container-id-5 div.sk-label label {font-family: monospace;font-weight: bold;display: inline-block;line-height: 1.2em;}#sk-container-id-5 div.sk-label-container {text-align: center;}#sk-container-id-5 div.sk-container {/* jupyter's `normalize.less` sets `[hidden] { display: none; }` but bootstrap.min.css set `[hidden] { display: none !important; }` so we also need the `!important` here to be able to override the default hidden behavior on the sphinx rendered scikit-learn.org. See: https://github.com/scikit-learn/scikit-learn/issues/21755 */display: inline-block !important;position: relative;}#sk-container-id-5 div.sk-text-repr-fallback {display: none;}</style><div id=\"sk-container-id-5\" class=\"sk-top-container\"><div class=\"sk-text-repr-fallback\"><pre>Pipeline(memory=&#x27;/var/folders/s2/vdwvjj2j24d4tg5yz10ycr080000gn/T/tmp8a9ylobk&#x27;,\n",
       "         steps=[(&#x27;scaler&#x27;, None), (&#x27;pca&#x27;, PCA(n_components=20)),\n",
       "                (&#x27;xgb&#x27;,\n",
       "                 XGBRegressor(base_score=None, booster=None, callbacks=None,\n",
       "                              colsample_bylevel=None, colsample_bynode=None,\n",
       "                              colsample_bytree=None, early_stopping_rounds=None,\n",
       "                              enable_categorical=False, eval_metric=None,\n",
       "                              feature_types=None,...e,\n",
       "                              grow_policy=None, importance_type=None,\n",
       "                              interaction_constraints=None, learning_rate=None,\n",
       "                              max_bin=None, max_cat_threshold=None,\n",
       "                              max_cat_to_onehot=None, max_delta_step=None,\n",
       "                              max_depth=None, max_leaves=None,\n",
       "                              min_child_weight=None, missing=nan,\n",
       "                              monotone_constraints=None, n_estimators=100,\n",
       "                              n_jobs=None, num_parallel_tree=None,\n",
       "                              predictor=None, random_state=None, ...))])</pre><b>In a Jupyter environment, please rerun this cell to show the HTML representation or trust the notebook. <br />On GitHub, the HTML representation is unable to render, please try loading this page with nbviewer.org.</b></div><div class=\"sk-container\" hidden><div class=\"sk-item sk-dashed-wrapped\"><div class=\"sk-label-container\"><div class=\"sk-label sk-toggleable\"><input class=\"sk-toggleable__control sk-hidden--visually\" id=\"sk-estimator-id-17\" type=\"checkbox\" ><label for=\"sk-estimator-id-17\" class=\"sk-toggleable__label sk-toggleable__label-arrow\">Pipeline</label><div class=\"sk-toggleable__content\"><pre>Pipeline(memory=&#x27;/var/folders/s2/vdwvjj2j24d4tg5yz10ycr080000gn/T/tmp8a9ylobk&#x27;,\n",
       "         steps=[(&#x27;scaler&#x27;, None), (&#x27;pca&#x27;, PCA(n_components=20)),\n",
       "                (&#x27;xgb&#x27;,\n",
       "                 XGBRegressor(base_score=None, booster=None, callbacks=None,\n",
       "                              colsample_bylevel=None, colsample_bynode=None,\n",
       "                              colsample_bytree=None, early_stopping_rounds=None,\n",
       "                              enable_categorical=False, eval_metric=None,\n",
       "                              feature_types=None,...e,\n",
       "                              grow_policy=None, importance_type=None,\n",
       "                              interaction_constraints=None, learning_rate=None,\n",
       "                              max_bin=None, max_cat_threshold=None,\n",
       "                              max_cat_to_onehot=None, max_delta_step=None,\n",
       "                              max_depth=None, max_leaves=None,\n",
       "                              min_child_weight=None, missing=nan,\n",
       "                              monotone_constraints=None, n_estimators=100,\n",
       "                              n_jobs=None, num_parallel_tree=None,\n",
       "                              predictor=None, random_state=None, ...))])</pre></div></div></div><div class=\"sk-serial\"><div class=\"sk-item\"><div class=\"sk-estimator sk-toggleable\"><input class=\"sk-toggleable__control sk-hidden--visually\" id=\"sk-estimator-id-18\" type=\"checkbox\" ><label for=\"sk-estimator-id-18\" class=\"sk-toggleable__label sk-toggleable__label-arrow\">None</label><div class=\"sk-toggleable__content\"><pre>None</pre></div></div></div><div class=\"sk-item\"><div class=\"sk-estimator sk-toggleable\"><input class=\"sk-toggleable__control sk-hidden--visually\" id=\"sk-estimator-id-19\" type=\"checkbox\" ><label for=\"sk-estimator-id-19\" class=\"sk-toggleable__label sk-toggleable__label-arrow\">PCA</label><div class=\"sk-toggleable__content\"><pre>PCA(n_components=20)</pre></div></div></div><div class=\"sk-item\"><div class=\"sk-estimator sk-toggleable\"><input class=\"sk-toggleable__control sk-hidden--visually\" id=\"sk-estimator-id-20\" type=\"checkbox\" ><label for=\"sk-estimator-id-20\" class=\"sk-toggleable__label sk-toggleable__label-arrow\">XGBRegressor</label><div class=\"sk-toggleable__content\"><pre>XGBRegressor(base_score=None, booster=None, callbacks=None,\n",
       "             colsample_bylevel=None, colsample_bynode=None,\n",
       "             colsample_bytree=None, early_stopping_rounds=None,\n",
       "             enable_categorical=False, eval_metric=None, feature_types=None,\n",
       "             gamma=None, gpu_id=None, grow_policy=None, importance_type=None,\n",
       "             interaction_constraints=None, learning_rate=None, max_bin=None,\n",
       "             max_cat_threshold=None, max_cat_to_onehot=None,\n",
       "             max_delta_step=None, max_depth=None, max_leaves=None,\n",
       "             min_child_weight=None, missing=nan, monotone_constraints=None,\n",
       "             n_estimators=100, n_jobs=None, num_parallel_tree=None,\n",
       "             predictor=None, random_state=None, ...)</pre></div></div></div></div></div></div></div>"
      ],
      "text/plain": [
       "Pipeline(memory='/var/folders/s2/vdwvjj2j24d4tg5yz10ycr080000gn/T/tmp8a9ylobk',\n",
       "         steps=[('scaler', None), ('pca', PCA(n_components=20)),\n",
       "                ('xgb',\n",
       "                 XGBRegressor(base_score=None, booster=None, callbacks=None,\n",
       "                              colsample_bylevel=None, colsample_bynode=None,\n",
       "                              colsample_bytree=None, early_stopping_rounds=None,\n",
       "                              enable_categorical=False, eval_metric=None,\n",
       "                              feature_types=None,...e,\n",
       "                              grow_policy=None, importance_type=None,\n",
       "                              interaction_constraints=None, learning_rate=None,\n",
       "                              max_bin=None, max_cat_threshold=None,\n",
       "                              max_cat_to_onehot=None, max_delta_step=None,\n",
       "                              max_depth=None, max_leaves=None,\n",
       "                              min_child_weight=None, missing=nan,\n",
       "                              monotone_constraints=None, n_estimators=100,\n",
       "                              n_jobs=None, num_parallel_tree=None,\n",
       "                              predictor=None, random_state=None, ...))])"
      ]
     },
     "execution_count": 82,
     "metadata": {},
     "output_type": "execute_result"
    }
   ],
   "source": [
    "xgb_best.best_estimator_"
   ]
  },
  {
   "cell_type": "code",
   "execution_count": 83,
   "id": "349e6697-ae7b-402d-bbc7-553e61fea6ad",
   "metadata": {
    "tags": []
   },
   "outputs": [
    {
     "name": "stdout",
     "output_type": "stream",
     "text": [
      "The best fit scaler is: None\n",
      "The best fit number of PCA components is: PCA(n_components=20)\n",
      "The best fit model is: XGBRegressor(base_score=None, booster=None, callbacks=None,\n",
      "             colsample_bylevel=None, colsample_bynode=None,\n",
      "             colsample_bytree=None, early_stopping_rounds=None,\n",
      "             enable_categorical=False, eval_metric=None, feature_types=None,\n",
      "             gamma=None, gpu_id=None, grow_policy=None, importance_type=None,\n",
      "             interaction_constraints=None, learning_rate=None, max_bin=None,\n",
      "             max_cat_threshold=None, max_cat_to_onehot=None,\n",
      "             max_delta_step=None, max_depth=None, max_leaves=None,\n",
      "             min_child_weight=None, missing=nan, monotone_constraints=None,\n",
      "             n_estimators=100, n_jobs=None, num_parallel_tree=None,\n",
      "             predictor=None, random_state=None, ...)\n"
     ]
    }
   ],
   "source": [
    "print(f\"The best fit scaler is: {xgb_best.best_estimator_[0]}\")\n",
    "print(f\"The best fit number of PCA components is: {xgb_best.best_estimator_[1]}\")\n",
    "print(f\"The best fit model is: {xgb_best.best_estimator_[2]}\")"
   ]
  },
  {
   "cell_type": "markdown",
   "id": "72549c4b-9d99-4b53-9dd0-0e0e24534543",
   "metadata": {},
   "source": [
    "The gridsearch parameters improved the test score from 0.12 to 0.13, being able to explain 13% of the price information. For the gridsearch the StandardScaler performed better than no scaler, and PCA 10 components performed the best. Since the lowest number of PCA performed the best, this can indicate that the features might not be helping with the price prediction. Perhaps they are not linearly correlated with price. Furthur analysis can look into non-linear relationship modeling. "
   ]
  },
  {
   "cell_type": "code",
   "execution_count": 84,
   "id": "e13353c1-aea3-4a0d-8775-4a6d09ab5d22",
   "metadata": {
    "tags": []
   },
   "outputs": [
    {
     "name": "stdout",
     "output_type": "stream",
     "text": [
      "Train score: 0.8161786494978427\n",
      "Test score: 0.4365508465710929\n"
     ]
    }
   ],
   "source": [
    "# linreg_best train and test scores\n",
    "print(f\"Train score: {xgb_best.score(X_train, y_train)}\")\n",
    "print(f\"Test score: {xgb_best.score(X_test, y_test)}\")"
   ]
  },
  {
   "cell_type": "code",
   "execution_count": 85,
   "id": "a5a71257-e5a4-4b72-91dd-8d07285e1c84",
   "metadata": {
    "tags": []
   },
   "outputs": [],
   "source": [
    "# make array of y_pred\n",
    "y_pred = xgb_best.predict(X_test)"
   ]
  },
  {
   "cell_type": "code",
   "execution_count": 86,
   "id": "ad5c363c-a26f-49d5-8913-1a35d5f981ce",
   "metadata": {
    "tags": []
   },
   "outputs": [
    {
     "name": "stdout",
     "output_type": "stream",
     "text": [
      "RMSE: 68.50537380848395\n"
     ]
    }
   ],
   "source": [
    "# Calculate MSE\n",
    "mse = mean_squared_error(y_test, y_pred)\n",
    "\n",
    "# Calculate RMSE\n",
    "rmse = np.sqrt(mse)\n",
    "\n",
    "print(\"RMSE:\", rmse)"
   ]
  },
  {
   "cell_type": "code",
   "execution_count": 87,
   "id": "df4ef141-7039-42f7-a144-063a3327b2f6",
   "metadata": {
    "tags": []
   },
   "outputs": [
    {
     "name": "stdout",
     "output_type": "stream",
     "text": [
      "MAE: 47.70032455727153\n"
     ]
    }
   ],
   "source": [
    "# Calculate MAE\n",
    "mae = mean_absolute_error(y_test, y_pred)\n",
    "\n",
    "print(\"MAE:\", mae)"
   ]
  },
  {
   "cell_type": "code",
   "execution_count": 88,
   "id": "47fb6f62-645f-4186-b9f7-a8fdb86f7da4",
   "metadata": {},
   "outputs": [
    {
     "data": {
      "text/html": [
       "<div>\n",
       "<style scoped>\n",
       "    .dataframe tbody tr th:only-of-type {\n",
       "        vertical-align: middle;\n",
       "    }\n",
       "\n",
       "    .dataframe tbody tr th {\n",
       "        vertical-align: top;\n",
       "    }\n",
       "\n",
       "    .dataframe thead th {\n",
       "        text-align: right;\n",
       "    }\n",
       "</style>\n",
       "<table border=\"1\" class=\"dataframe\">\n",
       "  <thead>\n",
       "    <tr style=\"text-align: right;\">\n",
       "      <th></th>\n",
       "      <th>True_y</th>\n",
       "      <th>Pred_y</th>\n",
       "    </tr>\n",
       "  </thead>\n",
       "  <tbody>\n",
       "    <tr>\n",
       "      <th>16115</th>\n",
       "      <td>357.0</td>\n",
       "      <td>174.377472</td>\n",
       "    </tr>\n",
       "    <tr>\n",
       "      <th>1289</th>\n",
       "      <td>85.0</td>\n",
       "      <td>95.883728</td>\n",
       "    </tr>\n",
       "    <tr>\n",
       "      <th>2465</th>\n",
       "      <td>190.0</td>\n",
       "      <td>214.942947</td>\n",
       "    </tr>\n",
       "    <tr>\n",
       "      <th>9515</th>\n",
       "      <td>286.0</td>\n",
       "      <td>301.650085</td>\n",
       "    </tr>\n",
       "    <tr>\n",
       "      <th>12319</th>\n",
       "      <td>180.0</td>\n",
       "      <td>176.558411</td>\n",
       "    </tr>\n",
       "    <tr>\n",
       "      <th>...</th>\n",
       "      <td>...</td>\n",
       "      <td>...</td>\n",
       "    </tr>\n",
       "    <tr>\n",
       "      <th>13030</th>\n",
       "      <td>150.0</td>\n",
       "      <td>170.870850</td>\n",
       "    </tr>\n",
       "    <tr>\n",
       "      <th>15081</th>\n",
       "      <td>229.0</td>\n",
       "      <td>152.403931</td>\n",
       "    </tr>\n",
       "    <tr>\n",
       "      <th>9385</th>\n",
       "      <td>100.0</td>\n",
       "      <td>116.372253</td>\n",
       "    </tr>\n",
       "    <tr>\n",
       "      <th>3356</th>\n",
       "      <td>214.0</td>\n",
       "      <td>146.458832</td>\n",
       "    </tr>\n",
       "    <tr>\n",
       "      <th>1808</th>\n",
       "      <td>106.0</td>\n",
       "      <td>130.216339</td>\n",
       "    </tr>\n",
       "  </tbody>\n",
       "</table>\n",
       "<p>4006 rows × 2 columns</p>\n",
       "</div>"
      ],
      "text/plain": [
       "       True_y      Pred_y\n",
       "16115   357.0  174.377472\n",
       "1289     85.0   95.883728\n",
       "2465    190.0  214.942947\n",
       "9515    286.0  301.650085\n",
       "12319   180.0  176.558411\n",
       "...       ...         ...\n",
       "13030   150.0  170.870850\n",
       "15081   229.0  152.403931\n",
       "9385    100.0  116.372253\n",
       "3356    214.0  146.458832\n",
       "1808    106.0  130.216339\n",
       "\n",
       "[4006 rows x 2 columns]"
      ]
     },
     "execution_count": 88,
     "metadata": {},
     "output_type": "execute_result"
    }
   ],
   "source": [
    "# compare y_pred to y_true\n",
    "\n",
    "# add to df\n",
    "y_truevspred = pd.DataFrame({\"True_y\": y_test, \"Pred_y\": y_pred})\n",
    "\n",
    "# display\n",
    "y_truevspred"
   ]
  },
  {
   "cell_type": "markdown",
   "id": "2c0ad152-814d-4bbb-81a8-6c5ef2c1456b",
   "metadata": {
    "tags": []
   },
   "source": [
    "#### Plots of predicted vs actual"
   ]
  },
  {
   "cell_type": "code",
   "execution_count": 89,
   "id": "fee144bb-16a0-4600-8507-173825a96c99",
   "metadata": {
    "tags": []
   },
   "outputs": [
    {
     "data": {
      "image/png": "[encoded data removed]",
      "text/plain": [
       "<Figure size 600x400 with 1 Axes>"
      ]
     },
     "metadata": {},
     "output_type": "display_data"
    }
   ],
   "source": [
    "# scatterplot\n",
    "\n",
    "plt.figure(figsize=(6,4))\n",
    "ax = sns.scatterplot(x=y_pred, y=y_test)\n",
    "plt.suptitle(\"Scatterplot of y_pred and y_test\")\n",
    "plt.xlabel(\"y_pred\")\n",
    "plt.ylabel(\"y_test\")\n",
    "\n",
    "x_vals = np.linspace(y_pred.min(), y_pred.max(), 100)\n",
    "ax.plot(x_vals, x_vals, color='red', linestyle='--', linewidth=2) \n",
    "\n",
    "plt.show()\n"
   ]
  },
  {
   "cell_type": "markdown",
   "id": "3323494e-4d2c-4b9e-b89a-27473c08060b",
   "metadata": {},
   "source": [
    "In this scatterplot of the predicted price values versus the actual price values, the predicted was capped at about 3,000, meanwhile the actual value went as high as 10,000. In linear regression, this punishes the model severely as the large values of error are squared, giving more weight to outliers. In the case of this dataset, the outliers are already large, and this magnifies the effect of the outliers, further punishing the model. Further analysis could look into handling the outliers."
   ]
  },
  {
   "cell_type": "code",
   "execution_count": 90,
   "id": "3ee8a409-43a3-48db-93d5-9d457d908b86",
   "metadata": {
    "tags": []
   },
   "outputs": [
    {
     "data": {
      "image/png": "[encoded data removed]",
      "text/plain": [
       "<Figure size 600x400 with 1 Axes>"
      ]
     },
     "metadata": {},
     "output_type": "display_data"
    }
   ],
   "source": [
    "# scatterplot\n",
    "\n",
    "plt.figure(figsize=(6,4))\n",
    "ax = sns.scatterplot(x=y_pred, y=y_test)\n",
    "plt.suptitle(\"Scatterplot of y_pred and y_test\")\n",
    "plt.xlabel(\"y_pred\")\n",
    "plt.ylabel(\"y_test\")\n",
    "\n",
    "x_vals = np.linspace(y_pred.min(), y_pred.max(), 100)\n",
    "ax.plot(x_vals, x_vals, color='red', linestyle='--', linewidth=2) \n",
    "\n",
    "plt.xlim(0, 1000)\n",
    "plt.ylim(0, 1000)\n",
    "\n",
    "plt.show()\n"
   ]
  },
  {
   "cell_type": "markdown",
   "id": "b7458a81-a1d5-4995-9215-51f73c118976",
   "metadata": {},
   "source": [
    "When zooming into the values less than 1,000, the model seemed to performed much better. With similar amounts above the line, showing when actual price is higher than predicted price, and a similar amount under the line, showing when predicted price is higher than actual price."
   ]
  },
  {
   "cell_type": "markdown",
   "id": "2b8ca139-1ab7-4ddf-995a-c958d7c9807c",
   "metadata": {},
   "source": [
    "#### Pickle and save model"
   ]
  },
  {
   "cell_type": "code",
   "execution_count": 91,
   "id": "76b0b747-6d7e-491b-91b9-b780619278de",
   "metadata": {
    "tags": []
   },
   "outputs": [],
   "source": [
    "pickle.dump(xgb_best, open(\"../models/xgb_model.pkl\",\"wb\"))"
   ]
  },
  {
   "cell_type": "markdown",
   "id": "5856bc3d-4748-4a7e-acb3-cf8b410b0e1e",
   "metadata": {},
   "source": [
    "_________________________________"
   ]
  },
  {
   "cell_type": "markdown",
   "id": "2a687140-9c27-4717-b39b-25b4e168e7de",
   "metadata": {},
   "source": [
    "### Random Forest Modeling"
   ]
  },
  {
   "cell_type": "code",
   "execution_count": 92,
   "id": "1aade341-5545-4e4c-9fc9-90d12991fbd5",
   "metadata": {
    "tags": []
   },
   "outputs": [
    {
     "name": "stdout",
     "output_type": "stream",
     "text": [
      "Train score: 0.9361203517131793\n",
      "Test score: 0.5166320698074791\n"
     ]
    }
   ],
   "source": [
    "# initialize rforest\n",
    "rforest_model = RandomForestRegressor()\n",
    "\n",
    "# fit logistic regression model to xtrain\n",
    "rforest_model.fit(X_train, y_train)\n",
    "\n",
    "# get scores for train and test\n",
    "print(f\"Train score: {rforest_model.score(X_train, y_train)}\")\n",
    "print(f\"Test score: {rforest_model.score(X_test, y_test)}\")"
   ]
  },
  {
   "cell_type": "markdown",
   "id": "a126eacf-9547-44a4-b3f5-2bf220a2a2a8",
   "metadata": {},
   "source": [
    "An initial testing of a linear regression model is performed to poor results. Surprisingly, the test score performed better than the train score."
   ]
  },
  {
   "cell_type": "markdown",
   "id": "fc24f64c-ecc0-4959-b9cb-2ff5fd26b9c7",
   "metadata": {},
   "source": [
    "#### Feature Importance"
   ]
  },
  {
   "cell_type": "code",
   "execution_count": 93,
   "id": "a2e526f7-641a-430a-a8d0-a1eb44b2be15",
   "metadata": {
    "tags": []
   },
   "outputs": [
    {
     "data": {
      "text/plain": [
       "roomtype_Entire home/apt          0.174629\n",
       "longitude                         0.090820\n",
       "baths                             0.082908\n",
       "latitude                          0.081089\n",
       "neighborhood_avgprice             0.074148\n",
       "reviews_per_month                 0.065475\n",
       "bedrooms                          0.060658\n",
       "availability_365                  0.057860\n",
       "calculated_host_listings_count    0.053356\n",
       "number_of_reviews                 0.042452\n",
       "beds                              0.033402\n",
       "number_of_reviews_ltm             0.028835\n",
       "license_No License                0.026150\n",
       "minimum_nights                    0.018815\n",
       "roomtype_Private room             0.017763\n",
       "month                             0.016145\n",
       "last_review_month                 0.016077\n",
       "last_review_year                  0.011189\n",
       "ratings_5                         0.008083\n",
       "ratings_4.8                       0.006468\n",
       "ratings_4.6                       0.005759\n",
       "ratings_4.4                       0.004006\n",
       "license_Exempt                    0.003928\n",
       "neighgroup_Manhattan              0.003035\n",
       "ratings_4.2                       0.002983\n",
       "ratings_No rating                 0.002306\n",
       "ratings_4.0                       0.002247\n",
       "neighgroup_Brooklyn               0.001992\n",
       "neighgroup_Queens                 0.001833\n",
       "license_Has License               0.001411\n",
       "roomtype_Shared room              0.001269\n",
       "ratings_3.0                       0.000814\n",
       "ratings_New                       0.000618\n",
       "neighgroup_Bronx                  0.000597\n",
       "roomtype_Hotel room               0.000561\n",
       "ratings_less3                     0.000173\n",
       "neighgroup_Staten Island          0.000148\n",
       "dtype: float64"
      ]
     },
     "execution_count": 93,
     "metadata": {},
     "output_type": "execute_result"
    }
   ],
   "source": [
    "importances = rforest_model.feature_importances_\n",
    "\n",
    "feature_importances = pd.Series(importances, index=X_test.columns)\n",
    "\n",
    "feature_importances.sort_values(ascending=False)"
   ]
  },
  {
   "cell_type": "code",
   "execution_count": 94,
   "id": "5e7a9309-c384-47d5-9d2b-ad5ecfc0e3a9",
   "metadata": {
    "tags": []
   },
   "outputs": [
    {
     "data": {
      "text/plain": [
       "latitude                          4.761770e-02\n",
       "longitude                         1.017462e-01\n",
       "minimum_nights                    1.744200e-02\n",
       "number_of_reviews                 1.042748e-02\n",
       "reviews_per_month                 3.399922e-02\n",
       "calculated_host_listings_count    9.320358e-02\n",
       "availability_365                  3.258727e-02\n",
       "number_of_reviews_ltm             1.150017e-02\n",
       "bedrooms                          1.041782e-01\n",
       "beds                              4.917367e-02\n",
       "baths                             7.961522e-02\n",
       "month                             8.397811e-06\n",
       "neighborhood_avgprice             8.762492e-02\n",
       "last_review_month                -2.206594e-04\n",
       "last_review_year                  2.884077e-03\n",
       "neighgroup_Bronx                  1.479292e-04\n",
       "neighgroup_Brooklyn               4.068807e-04\n",
       "neighgroup_Manhattan              3.556784e-03\n",
       "neighgroup_Queens                -2.387325e-04\n",
       "neighgroup_Staten Island          1.070151e-04\n",
       "roomtype_Entire home/apt          2.456139e-01\n",
       "roomtype_Hotel room               4.046394e-04\n",
       "roomtype_Private room             1.277381e-03\n",
       "roomtype_Shared room              3.731673e-04\n",
       "license_Exempt                    3.144078e-03\n",
       "license_Has License               6.124084e-04\n",
       "license_No License                6.379701e-02\n",
       "ratings_3.0                      -1.401946e-04\n",
       "ratings_4.0                       2.267223e-04\n",
       "ratings_4.2                      -2.003942e-04\n",
       "ratings_4.4                      -2.407677e-04\n",
       "ratings_4.6                       2.406962e-04\n",
       "ratings_4.8                       2.257198e-03\n",
       "ratings_5                         4.671436e-03\n",
       "ratings_New                      -2.912729e-04\n",
       "ratings_No rating                -3.756143e-05\n",
       "ratings_less3                     1.634497e-07\n",
       "dtype: float64"
      ]
     },
     "execution_count": 94,
     "metadata": {},
     "output_type": "execute_result"
    }
   ],
   "source": [
    "# Compute permutation importance\n",
    "result = permutation_importance(rforest_model, X_test, y_test, n_repeats=10, random_state=0)\n",
    "\n",
    "# Convert to Series for plotting\n",
    "perm_importances = pd.Series(result.importances_mean, index=X.columns)\n",
    "perm_importances"
   ]
  },
  {
   "cell_type": "markdown",
   "id": "6ed6f6ca-8ecf-46d4-9d89-1bd3924c97c8",
   "metadata": {},
   "source": [
    "#### Set-up pipeline and gridsearch"
   ]
  },
  {
   "cell_type": "code",
   "execution_count": 95,
   "id": "6a16c2d2-a3b3-47e4-be80-2c4c2a87b129",
   "metadata": {
    "tags": []
   },
   "outputs": [],
   "source": [
    "estimators = [(\"scaler\", StandardScaler()),\n",
    "              (\"pca\", PCA()),\n",
    "              ('rf', RandomForestRegressor())]\n",
    "\n",
    "cachedir = mkdtemp()\n",
    "pipe = Pipeline(estimators, memory=cachedir)\n",
    "\n",
    "params = {\"scaler\": [StandardScaler(), None], \n",
    "          \"pca__n_components\": [5, 10, 20,]\n",
    "}\n",
    "\n",
    "grid_search = GridSearchCV(pipe, param_grid=params, cv=5)\n"
   ]
  },
  {
   "cell_type": "markdown",
   "id": "e0eefabf-fefc-4db7-926f-4fc52af4bb54",
   "metadata": {},
   "source": [
    "A pipeline and gridsearch structure is built to run the model through. The StandardScaler, PCA, and Linear Regression are used. "
   ]
  },
  {
   "cell_type": "markdown",
   "id": "91788898-a005-46a0-87fc-316934c1562a",
   "metadata": {},
   "source": [
    "#### Fit the gridsearch best fit model"
   ]
  },
  {
   "cell_type": "code",
   "execution_count": 96,
   "id": "317f23d6-b57a-4503-97f7-0247e83e5e0e",
   "metadata": {
    "tags": []
   },
   "outputs": [
    {
     "ename": "KeyboardInterrupt",
     "evalue": "",
     "output_type": "error",
     "traceback": [
      "\u001b[0;31m---------------------------------------------------------------------------\u001b[0m",
      "\u001b[0;31mKeyboardInterrupt\u001b[0m                         Traceback (most recent call last)",
      "Cell \u001b[0;32mIn[96], line 1\u001b[0m\n\u001b[0;32m----> 1\u001b[0m rforest_best \u001b[38;5;241m=\u001b[39m grid_search\u001b[38;5;241m.\u001b[39mfit(X_train, y_train)\n",
      "File \u001b[0;32m/opt/anaconda3/envs/ml_env/lib/python3.11/site-packages/sklearn/base.py:1151\u001b[0m, in \u001b[0;36m_fit_context.<locals>.decorator.<locals>.wrapper\u001b[0;34m(estimator, *args, **kwargs)\u001b[0m\n\u001b[1;32m   1144\u001b[0m     estimator\u001b[38;5;241m.\u001b[39m_validate_params()\n\u001b[1;32m   1146\u001b[0m \u001b[38;5;28;01mwith\u001b[39;00m config_context(\n\u001b[1;32m   1147\u001b[0m     skip_parameter_validation\u001b[38;5;241m=\u001b[39m(\n\u001b[1;32m   1148\u001b[0m         prefer_skip_nested_validation \u001b[38;5;129;01mor\u001b[39;00m global_skip_validation\n\u001b[1;32m   1149\u001b[0m     )\n\u001b[1;32m   1150\u001b[0m ):\n\u001b[0;32m-> 1151\u001b[0m     \u001b[38;5;28;01mreturn\u001b[39;00m fit_method(estimator, \u001b[38;5;241m*\u001b[39margs, \u001b[38;5;241m*\u001b[39m\u001b[38;5;241m*\u001b[39mkwargs)\n",
      "File \u001b[0;32m/opt/anaconda3/envs/ml_env/lib/python3.11/site-packages/sklearn/model_selection/_search.py:898\u001b[0m, in \u001b[0;36mBaseSearchCV.fit\u001b[0;34m(self, X, y, groups, **fit_params)\u001b[0m\n\u001b[1;32m    892\u001b[0m     results \u001b[38;5;241m=\u001b[39m \u001b[38;5;28mself\u001b[39m\u001b[38;5;241m.\u001b[39m_format_results(\n\u001b[1;32m    893\u001b[0m         all_candidate_params, n_splits, all_out, all_more_results\n\u001b[1;32m    894\u001b[0m     )\n\u001b[1;32m    896\u001b[0m     \u001b[38;5;28;01mreturn\u001b[39;00m results\n\u001b[0;32m--> 898\u001b[0m \u001b[38;5;28mself\u001b[39m\u001b[38;5;241m.\u001b[39m_run_search(evaluate_candidates)\n\u001b[1;32m    900\u001b[0m \u001b[38;5;66;03m# multimetric is determined here because in the case of a callable\u001b[39;00m\n\u001b[1;32m    901\u001b[0m \u001b[38;5;66;03m# self.scoring the return type is only known after calling\u001b[39;00m\n\u001b[1;32m    902\u001b[0m first_test_score \u001b[38;5;241m=\u001b[39m all_out[\u001b[38;5;241m0\u001b[39m][\u001b[38;5;124m\"\u001b[39m\u001b[38;5;124mtest_scores\u001b[39m\u001b[38;5;124m\"\u001b[39m]\n",
      "File \u001b[0;32m/opt/anaconda3/envs/ml_env/lib/python3.11/site-packages/sklearn/model_selection/_search.py:1419\u001b[0m, in \u001b[0;36mGridSearchCV._run_search\u001b[0;34m(self, evaluate_candidates)\u001b[0m\n\u001b[1;32m   1417\u001b[0m \u001b[38;5;28;01mdef\u001b[39;00m \u001b[38;5;21m_run_search\u001b[39m(\u001b[38;5;28mself\u001b[39m, evaluate_candidates):\n\u001b[1;32m   1418\u001b[0m \u001b[38;5;250m    \u001b[39m\u001b[38;5;124;03m\"\"\"Search all candidates in param_grid\"\"\"\u001b[39;00m\n\u001b[0;32m-> 1419\u001b[0m     evaluate_candidates(ParameterGrid(\u001b[38;5;28mself\u001b[39m\u001b[38;5;241m.\u001b[39mparam_grid))\n",
      "File \u001b[0;32m/opt/anaconda3/envs/ml_env/lib/python3.11/site-packages/sklearn/model_selection/_search.py:845\u001b[0m, in \u001b[0;36mBaseSearchCV.fit.<locals>.evaluate_candidates\u001b[0;34m(candidate_params, cv, more_results)\u001b[0m\n\u001b[1;32m    837\u001b[0m \u001b[38;5;28;01mif\u001b[39;00m \u001b[38;5;28mself\u001b[39m\u001b[38;5;241m.\u001b[39mverbose \u001b[38;5;241m>\u001b[39m \u001b[38;5;241m0\u001b[39m:\n\u001b[1;32m    838\u001b[0m     \u001b[38;5;28mprint\u001b[39m(\n\u001b[1;32m    839\u001b[0m         \u001b[38;5;124m\"\u001b[39m\u001b[38;5;124mFitting \u001b[39m\u001b[38;5;132;01m{0}\u001b[39;00m\u001b[38;5;124m folds for each of \u001b[39m\u001b[38;5;132;01m{1}\u001b[39;00m\u001b[38;5;124m candidates,\u001b[39m\u001b[38;5;124m\"\u001b[39m\n\u001b[1;32m    840\u001b[0m         \u001b[38;5;124m\"\u001b[39m\u001b[38;5;124m totalling \u001b[39m\u001b[38;5;132;01m{2}\u001b[39;00m\u001b[38;5;124m fits\u001b[39m\u001b[38;5;124m\"\u001b[39m\u001b[38;5;241m.\u001b[39mformat(\n\u001b[1;32m    841\u001b[0m             n_splits, n_candidates, n_candidates \u001b[38;5;241m*\u001b[39m n_splits\n\u001b[1;32m    842\u001b[0m         )\n\u001b[1;32m    843\u001b[0m     )\n\u001b[0;32m--> 845\u001b[0m out \u001b[38;5;241m=\u001b[39m parallel(\n\u001b[1;32m    846\u001b[0m     delayed(_fit_and_score)(\n\u001b[1;32m    847\u001b[0m         clone(base_estimator),\n\u001b[1;32m    848\u001b[0m         X,\n\u001b[1;32m    849\u001b[0m         y,\n\u001b[1;32m    850\u001b[0m         train\u001b[38;5;241m=\u001b[39mtrain,\n\u001b[1;32m    851\u001b[0m         test\u001b[38;5;241m=\u001b[39mtest,\n\u001b[1;32m    852\u001b[0m         parameters\u001b[38;5;241m=\u001b[39mparameters,\n\u001b[1;32m    853\u001b[0m         split_progress\u001b[38;5;241m=\u001b[39m(split_idx, n_splits),\n\u001b[1;32m    854\u001b[0m         candidate_progress\u001b[38;5;241m=\u001b[39m(cand_idx, n_candidates),\n\u001b[1;32m    855\u001b[0m         \u001b[38;5;241m*\u001b[39m\u001b[38;5;241m*\u001b[39mfit_and_score_kwargs,\n\u001b[1;32m    856\u001b[0m     )\n\u001b[1;32m    857\u001b[0m     \u001b[38;5;28;01mfor\u001b[39;00m (cand_idx, parameters), (split_idx, (train, test)) \u001b[38;5;129;01min\u001b[39;00m product(\n\u001b[1;32m    858\u001b[0m         \u001b[38;5;28menumerate\u001b[39m(candidate_params), \u001b[38;5;28menumerate\u001b[39m(cv\u001b[38;5;241m.\u001b[39msplit(X, y, groups))\n\u001b[1;32m    859\u001b[0m     )\n\u001b[1;32m    860\u001b[0m )\n\u001b[1;32m    862\u001b[0m \u001b[38;5;28;01mif\u001b[39;00m \u001b[38;5;28mlen\u001b[39m(out) \u001b[38;5;241m<\u001b[39m \u001b[38;5;241m1\u001b[39m:\n\u001b[1;32m    863\u001b[0m     \u001b[38;5;28;01mraise\u001b[39;00m \u001b[38;5;167;01mValueError\u001b[39;00m(\n\u001b[1;32m    864\u001b[0m         \u001b[38;5;124m\"\u001b[39m\u001b[38;5;124mNo fits were performed. \u001b[39m\u001b[38;5;124m\"\u001b[39m\n\u001b[1;32m    865\u001b[0m         \u001b[38;5;124m\"\u001b[39m\u001b[38;5;124mWas the CV iterator empty? \u001b[39m\u001b[38;5;124m\"\u001b[39m\n\u001b[1;32m    866\u001b[0m         \u001b[38;5;124m\"\u001b[39m\u001b[38;5;124mWere there no candidates?\u001b[39m\u001b[38;5;124m\"\u001b[39m\n\u001b[1;32m    867\u001b[0m     )\n",
      "File \u001b[0;32m/opt/anaconda3/envs/ml_env/lib/python3.11/site-packages/sklearn/utils/parallel.py:65\u001b[0m, in \u001b[0;36mParallel.__call__\u001b[0;34m(self, iterable)\u001b[0m\n\u001b[1;32m     60\u001b[0m config \u001b[38;5;241m=\u001b[39m get_config()\n\u001b[1;32m     61\u001b[0m iterable_with_config \u001b[38;5;241m=\u001b[39m (\n\u001b[1;32m     62\u001b[0m     (_with_config(delayed_func, config), args, kwargs)\n\u001b[1;32m     63\u001b[0m     \u001b[38;5;28;01mfor\u001b[39;00m delayed_func, args, kwargs \u001b[38;5;129;01min\u001b[39;00m iterable\n\u001b[1;32m     64\u001b[0m )\n\u001b[0;32m---> 65\u001b[0m \u001b[38;5;28;01mreturn\u001b[39;00m \u001b[38;5;28msuper\u001b[39m()\u001b[38;5;241m.\u001b[39m\u001b[38;5;21m__call__\u001b[39m(iterable_with_config)\n",
      "File \u001b[0;32m/opt/anaconda3/envs/ml_env/lib/python3.11/site-packages/joblib/parallel.py:1088\u001b[0m, in \u001b[0;36mParallel.__call__\u001b[0;34m(self, iterable)\u001b[0m\n\u001b[1;32m   1085\u001b[0m \u001b[38;5;28;01mif\u001b[39;00m \u001b[38;5;28mself\u001b[39m\u001b[38;5;241m.\u001b[39mdispatch_one_batch(iterator):\n\u001b[1;32m   1086\u001b[0m     \u001b[38;5;28mself\u001b[39m\u001b[38;5;241m.\u001b[39m_iterating \u001b[38;5;241m=\u001b[39m \u001b[38;5;28mself\u001b[39m\u001b[38;5;241m.\u001b[39m_original_iterator \u001b[38;5;129;01mis\u001b[39;00m \u001b[38;5;129;01mnot\u001b[39;00m \u001b[38;5;28;01mNone\u001b[39;00m\n\u001b[0;32m-> 1088\u001b[0m \u001b[38;5;28;01mwhile\u001b[39;00m \u001b[38;5;28mself\u001b[39m\u001b[38;5;241m.\u001b[39mdispatch_one_batch(iterator):\n\u001b[1;32m   1089\u001b[0m     \u001b[38;5;28;01mpass\u001b[39;00m\n\u001b[1;32m   1091\u001b[0m \u001b[38;5;28;01mif\u001b[39;00m pre_dispatch \u001b[38;5;241m==\u001b[39m \u001b[38;5;124m\"\u001b[39m\u001b[38;5;124mall\u001b[39m\u001b[38;5;124m\"\u001b[39m \u001b[38;5;129;01mor\u001b[39;00m n_jobs \u001b[38;5;241m==\u001b[39m \u001b[38;5;241m1\u001b[39m:\n\u001b[1;32m   1092\u001b[0m     \u001b[38;5;66;03m# The iterable was consumed all at once by the above for loop.\u001b[39;00m\n\u001b[1;32m   1093\u001b[0m     \u001b[38;5;66;03m# No need to wait for async callbacks to trigger to\u001b[39;00m\n\u001b[1;32m   1094\u001b[0m     \u001b[38;5;66;03m# consumption.\u001b[39;00m\n",
      "File \u001b[0;32m/opt/anaconda3/envs/ml_env/lib/python3.11/site-packages/joblib/parallel.py:901\u001b[0m, in \u001b[0;36mParallel.dispatch_one_batch\u001b[0;34m(self, iterator)\u001b[0m\n\u001b[1;32m    899\u001b[0m     \u001b[38;5;28;01mreturn\u001b[39;00m \u001b[38;5;28;01mFalse\u001b[39;00m\n\u001b[1;32m    900\u001b[0m \u001b[38;5;28;01melse\u001b[39;00m:\n\u001b[0;32m--> 901\u001b[0m     \u001b[38;5;28mself\u001b[39m\u001b[38;5;241m.\u001b[39m_dispatch(tasks)\n\u001b[1;32m    902\u001b[0m     \u001b[38;5;28;01mreturn\u001b[39;00m \u001b[38;5;28;01mTrue\u001b[39;00m\n",
      "File \u001b[0;32m/opt/anaconda3/envs/ml_env/lib/python3.11/site-packages/joblib/parallel.py:819\u001b[0m, in \u001b[0;36mParallel._dispatch\u001b[0;34m(self, batch)\u001b[0m\n\u001b[1;32m    817\u001b[0m \u001b[38;5;28;01mwith\u001b[39;00m \u001b[38;5;28mself\u001b[39m\u001b[38;5;241m.\u001b[39m_lock:\n\u001b[1;32m    818\u001b[0m     job_idx \u001b[38;5;241m=\u001b[39m \u001b[38;5;28mlen\u001b[39m(\u001b[38;5;28mself\u001b[39m\u001b[38;5;241m.\u001b[39m_jobs)\n\u001b[0;32m--> 819\u001b[0m     job \u001b[38;5;241m=\u001b[39m \u001b[38;5;28mself\u001b[39m\u001b[38;5;241m.\u001b[39m_backend\u001b[38;5;241m.\u001b[39mapply_async(batch, callback\u001b[38;5;241m=\u001b[39mcb)\n\u001b[1;32m    820\u001b[0m     \u001b[38;5;66;03m# A job can complete so quickly than its callback is\u001b[39;00m\n\u001b[1;32m    821\u001b[0m     \u001b[38;5;66;03m# called before we get here, causing self._jobs to\u001b[39;00m\n\u001b[1;32m    822\u001b[0m     \u001b[38;5;66;03m# grow. To ensure correct results ordering, .insert is\u001b[39;00m\n\u001b[1;32m    823\u001b[0m     \u001b[38;5;66;03m# used (rather than .append) in the following line\u001b[39;00m\n\u001b[1;32m    824\u001b[0m     \u001b[38;5;28mself\u001b[39m\u001b[38;5;241m.\u001b[39m_jobs\u001b[38;5;241m.\u001b[39minsert(job_idx, job)\n",
      "File \u001b[0;32m/opt/anaconda3/envs/ml_env/lib/python3.11/site-packages/joblib/_parallel_backends.py:208\u001b[0m, in \u001b[0;36mSequentialBackend.apply_async\u001b[0;34m(self, func, callback)\u001b[0m\n\u001b[1;32m    206\u001b[0m \u001b[38;5;28;01mdef\u001b[39;00m \u001b[38;5;21mapply_async\u001b[39m(\u001b[38;5;28mself\u001b[39m, func, callback\u001b[38;5;241m=\u001b[39m\u001b[38;5;28;01mNone\u001b[39;00m):\n\u001b[1;32m    207\u001b[0m \u001b[38;5;250m    \u001b[39m\u001b[38;5;124;03m\"\"\"Schedule a func to be run\"\"\"\u001b[39;00m\n\u001b[0;32m--> 208\u001b[0m     result \u001b[38;5;241m=\u001b[39m ImmediateResult(func)\n\u001b[1;32m    209\u001b[0m     \u001b[38;5;28;01mif\u001b[39;00m callback:\n\u001b[1;32m    210\u001b[0m         callback(result)\n",
      "File \u001b[0;32m/opt/anaconda3/envs/ml_env/lib/python3.11/site-packages/joblib/_parallel_backends.py:597\u001b[0m, in \u001b[0;36mImmediateResult.__init__\u001b[0;34m(self, batch)\u001b[0m\n\u001b[1;32m    594\u001b[0m \u001b[38;5;28;01mdef\u001b[39;00m \u001b[38;5;21m__init__\u001b[39m(\u001b[38;5;28mself\u001b[39m, batch):\n\u001b[1;32m    595\u001b[0m     \u001b[38;5;66;03m# Don't delay the application, to avoid keeping the input\u001b[39;00m\n\u001b[1;32m    596\u001b[0m     \u001b[38;5;66;03m# arguments in memory\u001b[39;00m\n\u001b[0;32m--> 597\u001b[0m     \u001b[38;5;28mself\u001b[39m\u001b[38;5;241m.\u001b[39mresults \u001b[38;5;241m=\u001b[39m batch()\n",
      "File \u001b[0;32m/opt/anaconda3/envs/ml_env/lib/python3.11/site-packages/joblib/parallel.py:288\u001b[0m, in \u001b[0;36mBatchedCalls.__call__\u001b[0;34m(self)\u001b[0m\n\u001b[1;32m    284\u001b[0m \u001b[38;5;28;01mdef\u001b[39;00m \u001b[38;5;21m__call__\u001b[39m(\u001b[38;5;28mself\u001b[39m):\n\u001b[1;32m    285\u001b[0m     \u001b[38;5;66;03m# Set the default nested backend to self._backend but do not set the\u001b[39;00m\n\u001b[1;32m    286\u001b[0m     \u001b[38;5;66;03m# change the default number of processes to -1\u001b[39;00m\n\u001b[1;32m    287\u001b[0m     \u001b[38;5;28;01mwith\u001b[39;00m parallel_backend(\u001b[38;5;28mself\u001b[39m\u001b[38;5;241m.\u001b[39m_backend, n_jobs\u001b[38;5;241m=\u001b[39m\u001b[38;5;28mself\u001b[39m\u001b[38;5;241m.\u001b[39m_n_jobs):\n\u001b[0;32m--> 288\u001b[0m         \u001b[38;5;28;01mreturn\u001b[39;00m [func(\u001b[38;5;241m*\u001b[39margs, \u001b[38;5;241m*\u001b[39m\u001b[38;5;241m*\u001b[39mkwargs)\n\u001b[1;32m    289\u001b[0m                 \u001b[38;5;28;01mfor\u001b[39;00m func, args, kwargs \u001b[38;5;129;01min\u001b[39;00m \u001b[38;5;28mself\u001b[39m\u001b[38;5;241m.\u001b[39mitems]\n",
      "File \u001b[0;32m/opt/anaconda3/envs/ml_env/lib/python3.11/site-packages/joblib/parallel.py:288\u001b[0m, in \u001b[0;36m<listcomp>\u001b[0;34m(.0)\u001b[0m\n\u001b[1;32m    284\u001b[0m \u001b[38;5;28;01mdef\u001b[39;00m \u001b[38;5;21m__call__\u001b[39m(\u001b[38;5;28mself\u001b[39m):\n\u001b[1;32m    285\u001b[0m     \u001b[38;5;66;03m# Set the default nested backend to self._backend but do not set the\u001b[39;00m\n\u001b[1;32m    286\u001b[0m     \u001b[38;5;66;03m# change the default number of processes to -1\u001b[39;00m\n\u001b[1;32m    287\u001b[0m     \u001b[38;5;28;01mwith\u001b[39;00m parallel_backend(\u001b[38;5;28mself\u001b[39m\u001b[38;5;241m.\u001b[39m_backend, n_jobs\u001b[38;5;241m=\u001b[39m\u001b[38;5;28mself\u001b[39m\u001b[38;5;241m.\u001b[39m_n_jobs):\n\u001b[0;32m--> 288\u001b[0m         \u001b[38;5;28;01mreturn\u001b[39;00m [func(\u001b[38;5;241m*\u001b[39margs, \u001b[38;5;241m*\u001b[39m\u001b[38;5;241m*\u001b[39mkwargs)\n\u001b[1;32m    289\u001b[0m                 \u001b[38;5;28;01mfor\u001b[39;00m func, args, kwargs \u001b[38;5;129;01min\u001b[39;00m \u001b[38;5;28mself\u001b[39m\u001b[38;5;241m.\u001b[39mitems]\n",
      "File \u001b[0;32m/opt/anaconda3/envs/ml_env/lib/python3.11/site-packages/sklearn/utils/parallel.py:127\u001b[0m, in \u001b[0;36m_FuncWrapper.__call__\u001b[0;34m(self, *args, **kwargs)\u001b[0m\n\u001b[1;32m    125\u001b[0m     config \u001b[38;5;241m=\u001b[39m {}\n\u001b[1;32m    126\u001b[0m \u001b[38;5;28;01mwith\u001b[39;00m config_context(\u001b[38;5;241m*\u001b[39m\u001b[38;5;241m*\u001b[39mconfig):\n\u001b[0;32m--> 127\u001b[0m     \u001b[38;5;28;01mreturn\u001b[39;00m \u001b[38;5;28mself\u001b[39m\u001b[38;5;241m.\u001b[39mfunction(\u001b[38;5;241m*\u001b[39margs, \u001b[38;5;241m*\u001b[39m\u001b[38;5;241m*\u001b[39mkwargs)\n",
      "File \u001b[0;32m/opt/anaconda3/envs/ml_env/lib/python3.11/site-packages/sklearn/model_selection/_validation.py:732\u001b[0m, in \u001b[0;36m_fit_and_score\u001b[0;34m(estimator, X, y, scorer, train, test, verbose, parameters, fit_params, return_train_score, return_parameters, return_n_test_samples, return_times, return_estimator, split_progress, candidate_progress, error_score)\u001b[0m\n\u001b[1;32m    730\u001b[0m         estimator\u001b[38;5;241m.\u001b[39mfit(X_train, \u001b[38;5;241m*\u001b[39m\u001b[38;5;241m*\u001b[39mfit_params)\n\u001b[1;32m    731\u001b[0m     \u001b[38;5;28;01melse\u001b[39;00m:\n\u001b[0;32m--> 732\u001b[0m         estimator\u001b[38;5;241m.\u001b[39mfit(X_train, y_train, \u001b[38;5;241m*\u001b[39m\u001b[38;5;241m*\u001b[39mfit_params)\n\u001b[1;32m    734\u001b[0m \u001b[38;5;28;01mexcept\u001b[39;00m \u001b[38;5;167;01mException\u001b[39;00m:\n\u001b[1;32m    735\u001b[0m     \u001b[38;5;66;03m# Note fit time as time until error\u001b[39;00m\n\u001b[1;32m    736\u001b[0m     fit_time \u001b[38;5;241m=\u001b[39m time\u001b[38;5;241m.\u001b[39mtime() \u001b[38;5;241m-\u001b[39m start_time\n",
      "File \u001b[0;32m/opt/anaconda3/envs/ml_env/lib/python3.11/site-packages/sklearn/base.py:1151\u001b[0m, in \u001b[0;36m_fit_context.<locals>.decorator.<locals>.wrapper\u001b[0;34m(estimator, *args, **kwargs)\u001b[0m\n\u001b[1;32m   1144\u001b[0m     estimator\u001b[38;5;241m.\u001b[39m_validate_params()\n\u001b[1;32m   1146\u001b[0m \u001b[38;5;28;01mwith\u001b[39;00m config_context(\n\u001b[1;32m   1147\u001b[0m     skip_parameter_validation\u001b[38;5;241m=\u001b[39m(\n\u001b[1;32m   1148\u001b[0m         prefer_skip_nested_validation \u001b[38;5;129;01mor\u001b[39;00m global_skip_validation\n\u001b[1;32m   1149\u001b[0m     )\n\u001b[1;32m   1150\u001b[0m ):\n\u001b[0;32m-> 1151\u001b[0m     \u001b[38;5;28;01mreturn\u001b[39;00m fit_method(estimator, \u001b[38;5;241m*\u001b[39margs, \u001b[38;5;241m*\u001b[39m\u001b[38;5;241m*\u001b[39mkwargs)\n",
      "File \u001b[0;32m/opt/anaconda3/envs/ml_env/lib/python3.11/site-packages/sklearn/pipeline.py:420\u001b[0m, in \u001b[0;36mPipeline.fit\u001b[0;34m(self, X, y, **fit_params)\u001b[0m\n\u001b[1;32m    418\u001b[0m     \u001b[38;5;28;01mif\u001b[39;00m \u001b[38;5;28mself\u001b[39m\u001b[38;5;241m.\u001b[39m_final_estimator \u001b[38;5;241m!=\u001b[39m \u001b[38;5;124m\"\u001b[39m\u001b[38;5;124mpassthrough\u001b[39m\u001b[38;5;124m\"\u001b[39m:\n\u001b[1;32m    419\u001b[0m         fit_params_last_step \u001b[38;5;241m=\u001b[39m fit_params_steps[\u001b[38;5;28mself\u001b[39m\u001b[38;5;241m.\u001b[39msteps[\u001b[38;5;241m-\u001b[39m\u001b[38;5;241m1\u001b[39m][\u001b[38;5;241m0\u001b[39m]]\n\u001b[0;32m--> 420\u001b[0m         \u001b[38;5;28mself\u001b[39m\u001b[38;5;241m.\u001b[39m_final_estimator\u001b[38;5;241m.\u001b[39mfit(Xt, y, \u001b[38;5;241m*\u001b[39m\u001b[38;5;241m*\u001b[39mfit_params_last_step)\n\u001b[1;32m    422\u001b[0m \u001b[38;5;28;01mreturn\u001b[39;00m \u001b[38;5;28mself\u001b[39m\n",
      "File \u001b[0;32m/opt/anaconda3/envs/ml_env/lib/python3.11/site-packages/sklearn/base.py:1151\u001b[0m, in \u001b[0;36m_fit_context.<locals>.decorator.<locals>.wrapper\u001b[0;34m(estimator, *args, **kwargs)\u001b[0m\n\u001b[1;32m   1144\u001b[0m     estimator\u001b[38;5;241m.\u001b[39m_validate_params()\n\u001b[1;32m   1146\u001b[0m \u001b[38;5;28;01mwith\u001b[39;00m config_context(\n\u001b[1;32m   1147\u001b[0m     skip_parameter_validation\u001b[38;5;241m=\u001b[39m(\n\u001b[1;32m   1148\u001b[0m         prefer_skip_nested_validation \u001b[38;5;129;01mor\u001b[39;00m global_skip_validation\n\u001b[1;32m   1149\u001b[0m     )\n\u001b[1;32m   1150\u001b[0m ):\n\u001b[0;32m-> 1151\u001b[0m     \u001b[38;5;28;01mreturn\u001b[39;00m fit_method(estimator, \u001b[38;5;241m*\u001b[39margs, \u001b[38;5;241m*\u001b[39m\u001b[38;5;241m*\u001b[39mkwargs)\n",
      "File \u001b[0;32m/opt/anaconda3/envs/ml_env/lib/python3.11/site-packages/sklearn/ensemble/_forest.py:456\u001b[0m, in \u001b[0;36mBaseForest.fit\u001b[0;34m(self, X, y, sample_weight)\u001b[0m\n\u001b[1;32m    445\u001b[0m trees \u001b[38;5;241m=\u001b[39m [\n\u001b[1;32m    446\u001b[0m     \u001b[38;5;28mself\u001b[39m\u001b[38;5;241m.\u001b[39m_make_estimator(append\u001b[38;5;241m=\u001b[39m\u001b[38;5;28;01mFalse\u001b[39;00m, random_state\u001b[38;5;241m=\u001b[39mrandom_state)\n\u001b[1;32m    447\u001b[0m     \u001b[38;5;28;01mfor\u001b[39;00m i \u001b[38;5;129;01min\u001b[39;00m \u001b[38;5;28mrange\u001b[39m(n_more_estimators)\n\u001b[1;32m    448\u001b[0m ]\n\u001b[1;32m    450\u001b[0m \u001b[38;5;66;03m# Parallel loop: we prefer the threading backend as the Cython code\u001b[39;00m\n\u001b[1;32m    451\u001b[0m \u001b[38;5;66;03m# for fitting the trees is internally releasing the Python GIL\u001b[39;00m\n\u001b[1;32m    452\u001b[0m \u001b[38;5;66;03m# making threading more efficient than multiprocessing in\u001b[39;00m\n\u001b[1;32m    453\u001b[0m \u001b[38;5;66;03m# that case. However, for joblib 0.12+ we respect any\u001b[39;00m\n\u001b[1;32m    454\u001b[0m \u001b[38;5;66;03m# parallel_backend contexts set at a higher level,\u001b[39;00m\n\u001b[1;32m    455\u001b[0m \u001b[38;5;66;03m# since correctness does not rely on using threads.\u001b[39;00m\n\u001b[0;32m--> 456\u001b[0m trees \u001b[38;5;241m=\u001b[39m Parallel(\n\u001b[1;32m    457\u001b[0m     n_jobs\u001b[38;5;241m=\u001b[39m\u001b[38;5;28mself\u001b[39m\u001b[38;5;241m.\u001b[39mn_jobs,\n\u001b[1;32m    458\u001b[0m     verbose\u001b[38;5;241m=\u001b[39m\u001b[38;5;28mself\u001b[39m\u001b[38;5;241m.\u001b[39mverbose,\n\u001b[1;32m    459\u001b[0m     prefer\u001b[38;5;241m=\u001b[39m\u001b[38;5;124m\"\u001b[39m\u001b[38;5;124mthreads\u001b[39m\u001b[38;5;124m\"\u001b[39m,\n\u001b[1;32m    460\u001b[0m )(\n\u001b[1;32m    461\u001b[0m     delayed(_parallel_build_trees)(\n\u001b[1;32m    462\u001b[0m         t,\n\u001b[1;32m    463\u001b[0m         \u001b[38;5;28mself\u001b[39m\u001b[38;5;241m.\u001b[39mbootstrap,\n\u001b[1;32m    464\u001b[0m         X,\n\u001b[1;32m    465\u001b[0m         y,\n\u001b[1;32m    466\u001b[0m         sample_weight,\n\u001b[1;32m    467\u001b[0m         i,\n\u001b[1;32m    468\u001b[0m         \u001b[38;5;28mlen\u001b[39m(trees),\n\u001b[1;32m    469\u001b[0m         verbose\u001b[38;5;241m=\u001b[39m\u001b[38;5;28mself\u001b[39m\u001b[38;5;241m.\u001b[39mverbose,\n\u001b[1;32m    470\u001b[0m         class_weight\u001b[38;5;241m=\u001b[39m\u001b[38;5;28mself\u001b[39m\u001b[38;5;241m.\u001b[39mclass_weight,\n\u001b[1;32m    471\u001b[0m         n_samples_bootstrap\u001b[38;5;241m=\u001b[39mn_samples_bootstrap,\n\u001b[1;32m    472\u001b[0m     )\n\u001b[1;32m    473\u001b[0m     \u001b[38;5;28;01mfor\u001b[39;00m i, t \u001b[38;5;129;01min\u001b[39;00m \u001b[38;5;28menumerate\u001b[39m(trees)\n\u001b[1;32m    474\u001b[0m )\n\u001b[1;32m    476\u001b[0m \u001b[38;5;66;03m# Collect newly grown trees\u001b[39;00m\n\u001b[1;32m    477\u001b[0m \u001b[38;5;28mself\u001b[39m\u001b[38;5;241m.\u001b[39mestimators_\u001b[38;5;241m.\u001b[39mextend(trees)\n",
      "File \u001b[0;32m/opt/anaconda3/envs/ml_env/lib/python3.11/site-packages/sklearn/utils/parallel.py:65\u001b[0m, in \u001b[0;36mParallel.__call__\u001b[0;34m(self, iterable)\u001b[0m\n\u001b[1;32m     60\u001b[0m config \u001b[38;5;241m=\u001b[39m get_config()\n\u001b[1;32m     61\u001b[0m iterable_with_config \u001b[38;5;241m=\u001b[39m (\n\u001b[1;32m     62\u001b[0m     (_with_config(delayed_func, config), args, kwargs)\n\u001b[1;32m     63\u001b[0m     \u001b[38;5;28;01mfor\u001b[39;00m delayed_func, args, kwargs \u001b[38;5;129;01min\u001b[39;00m iterable\n\u001b[1;32m     64\u001b[0m )\n\u001b[0;32m---> 65\u001b[0m \u001b[38;5;28;01mreturn\u001b[39;00m \u001b[38;5;28msuper\u001b[39m()\u001b[38;5;241m.\u001b[39m\u001b[38;5;21m__call__\u001b[39m(iterable_with_config)\n",
      "File \u001b[0;32m/opt/anaconda3/envs/ml_env/lib/python3.11/site-packages/joblib/parallel.py:1085\u001b[0m, in \u001b[0;36mParallel.__call__\u001b[0;34m(self, iterable)\u001b[0m\n\u001b[1;32m   1076\u001b[0m \u001b[38;5;28;01mtry\u001b[39;00m:\n\u001b[1;32m   1077\u001b[0m     \u001b[38;5;66;03m# Only set self._iterating to True if at least a batch\u001b[39;00m\n\u001b[1;32m   1078\u001b[0m     \u001b[38;5;66;03m# was dispatched. In particular this covers the edge\u001b[39;00m\n\u001b[0;32m   (...)\u001b[0m\n\u001b[1;32m   1082\u001b[0m     \u001b[38;5;66;03m# was very quick and its callback already dispatched all the\u001b[39;00m\n\u001b[1;32m   1083\u001b[0m     \u001b[38;5;66;03m# remaining jobs.\u001b[39;00m\n\u001b[1;32m   1084\u001b[0m     \u001b[38;5;28mself\u001b[39m\u001b[38;5;241m.\u001b[39m_iterating \u001b[38;5;241m=\u001b[39m \u001b[38;5;28;01mFalse\u001b[39;00m\n\u001b[0;32m-> 1085\u001b[0m     \u001b[38;5;28;01mif\u001b[39;00m \u001b[38;5;28mself\u001b[39m\u001b[38;5;241m.\u001b[39mdispatch_one_batch(iterator):\n\u001b[1;32m   1086\u001b[0m         \u001b[38;5;28mself\u001b[39m\u001b[38;5;241m.\u001b[39m_iterating \u001b[38;5;241m=\u001b[39m \u001b[38;5;28mself\u001b[39m\u001b[38;5;241m.\u001b[39m_original_iterator \u001b[38;5;129;01mis\u001b[39;00m \u001b[38;5;129;01mnot\u001b[39;00m \u001b[38;5;28;01mNone\u001b[39;00m\n\u001b[1;32m   1088\u001b[0m     \u001b[38;5;28;01mwhile\u001b[39;00m \u001b[38;5;28mself\u001b[39m\u001b[38;5;241m.\u001b[39mdispatch_one_batch(iterator):\n",
      "File \u001b[0;32m/opt/anaconda3/envs/ml_env/lib/python3.11/site-packages/joblib/parallel.py:901\u001b[0m, in \u001b[0;36mParallel.dispatch_one_batch\u001b[0;34m(self, iterator)\u001b[0m\n\u001b[1;32m    899\u001b[0m     \u001b[38;5;28;01mreturn\u001b[39;00m \u001b[38;5;28;01mFalse\u001b[39;00m\n\u001b[1;32m    900\u001b[0m \u001b[38;5;28;01melse\u001b[39;00m:\n\u001b[0;32m--> 901\u001b[0m     \u001b[38;5;28mself\u001b[39m\u001b[38;5;241m.\u001b[39m_dispatch(tasks)\n\u001b[1;32m    902\u001b[0m     \u001b[38;5;28;01mreturn\u001b[39;00m \u001b[38;5;28;01mTrue\u001b[39;00m\n",
      "File \u001b[0;32m/opt/anaconda3/envs/ml_env/lib/python3.11/site-packages/joblib/parallel.py:819\u001b[0m, in \u001b[0;36mParallel._dispatch\u001b[0;34m(self, batch)\u001b[0m\n\u001b[1;32m    817\u001b[0m \u001b[38;5;28;01mwith\u001b[39;00m \u001b[38;5;28mself\u001b[39m\u001b[38;5;241m.\u001b[39m_lock:\n\u001b[1;32m    818\u001b[0m     job_idx \u001b[38;5;241m=\u001b[39m \u001b[38;5;28mlen\u001b[39m(\u001b[38;5;28mself\u001b[39m\u001b[38;5;241m.\u001b[39m_jobs)\n\u001b[0;32m--> 819\u001b[0m     job \u001b[38;5;241m=\u001b[39m \u001b[38;5;28mself\u001b[39m\u001b[38;5;241m.\u001b[39m_backend\u001b[38;5;241m.\u001b[39mapply_async(batch, callback\u001b[38;5;241m=\u001b[39mcb)\n\u001b[1;32m    820\u001b[0m     \u001b[38;5;66;03m# A job can complete so quickly than its callback is\u001b[39;00m\n\u001b[1;32m    821\u001b[0m     \u001b[38;5;66;03m# called before we get here, causing self._jobs to\u001b[39;00m\n\u001b[1;32m    822\u001b[0m     \u001b[38;5;66;03m# grow. To ensure correct results ordering, .insert is\u001b[39;00m\n\u001b[1;32m    823\u001b[0m     \u001b[38;5;66;03m# used (rather than .append) in the following line\u001b[39;00m\n\u001b[1;32m    824\u001b[0m     \u001b[38;5;28mself\u001b[39m\u001b[38;5;241m.\u001b[39m_jobs\u001b[38;5;241m.\u001b[39minsert(job_idx, job)\n",
      "File \u001b[0;32m/opt/anaconda3/envs/ml_env/lib/python3.11/site-packages/joblib/_parallel_backends.py:208\u001b[0m, in \u001b[0;36mSequentialBackend.apply_async\u001b[0;34m(self, func, callback)\u001b[0m\n\u001b[1;32m    206\u001b[0m \u001b[38;5;28;01mdef\u001b[39;00m \u001b[38;5;21mapply_async\u001b[39m(\u001b[38;5;28mself\u001b[39m, func, callback\u001b[38;5;241m=\u001b[39m\u001b[38;5;28;01mNone\u001b[39;00m):\n\u001b[1;32m    207\u001b[0m \u001b[38;5;250m    \u001b[39m\u001b[38;5;124;03m\"\"\"Schedule a func to be run\"\"\"\u001b[39;00m\n\u001b[0;32m--> 208\u001b[0m     result \u001b[38;5;241m=\u001b[39m ImmediateResult(func)\n\u001b[1;32m    209\u001b[0m     \u001b[38;5;28;01mif\u001b[39;00m callback:\n\u001b[1;32m    210\u001b[0m         callback(result)\n",
      "File \u001b[0;32m/opt/anaconda3/envs/ml_env/lib/python3.11/site-packages/joblib/_parallel_backends.py:597\u001b[0m, in \u001b[0;36mImmediateResult.__init__\u001b[0;34m(self, batch)\u001b[0m\n\u001b[1;32m    594\u001b[0m \u001b[38;5;28;01mdef\u001b[39;00m \u001b[38;5;21m__init__\u001b[39m(\u001b[38;5;28mself\u001b[39m, batch):\n\u001b[1;32m    595\u001b[0m     \u001b[38;5;66;03m# Don't delay the application, to avoid keeping the input\u001b[39;00m\n\u001b[1;32m    596\u001b[0m     \u001b[38;5;66;03m# arguments in memory\u001b[39;00m\n\u001b[0;32m--> 597\u001b[0m     \u001b[38;5;28mself\u001b[39m\u001b[38;5;241m.\u001b[39mresults \u001b[38;5;241m=\u001b[39m batch()\n",
      "File \u001b[0;32m/opt/anaconda3/envs/ml_env/lib/python3.11/site-packages/joblib/parallel.py:288\u001b[0m, in \u001b[0;36mBatchedCalls.__call__\u001b[0;34m(self)\u001b[0m\n\u001b[1;32m    284\u001b[0m \u001b[38;5;28;01mdef\u001b[39;00m \u001b[38;5;21m__call__\u001b[39m(\u001b[38;5;28mself\u001b[39m):\n\u001b[1;32m    285\u001b[0m     \u001b[38;5;66;03m# Set the default nested backend to self._backend but do not set the\u001b[39;00m\n\u001b[1;32m    286\u001b[0m     \u001b[38;5;66;03m# change the default number of processes to -1\u001b[39;00m\n\u001b[1;32m    287\u001b[0m     \u001b[38;5;28;01mwith\u001b[39;00m parallel_backend(\u001b[38;5;28mself\u001b[39m\u001b[38;5;241m.\u001b[39m_backend, n_jobs\u001b[38;5;241m=\u001b[39m\u001b[38;5;28mself\u001b[39m\u001b[38;5;241m.\u001b[39m_n_jobs):\n\u001b[0;32m--> 288\u001b[0m         \u001b[38;5;28;01mreturn\u001b[39;00m [func(\u001b[38;5;241m*\u001b[39margs, \u001b[38;5;241m*\u001b[39m\u001b[38;5;241m*\u001b[39mkwargs)\n\u001b[1;32m    289\u001b[0m                 \u001b[38;5;28;01mfor\u001b[39;00m func, args, kwargs \u001b[38;5;129;01min\u001b[39;00m \u001b[38;5;28mself\u001b[39m\u001b[38;5;241m.\u001b[39mitems]\n",
      "File \u001b[0;32m/opt/anaconda3/envs/ml_env/lib/python3.11/site-packages/joblib/parallel.py:288\u001b[0m, in \u001b[0;36m<listcomp>\u001b[0;34m(.0)\u001b[0m\n\u001b[1;32m    284\u001b[0m \u001b[38;5;28;01mdef\u001b[39;00m \u001b[38;5;21m__call__\u001b[39m(\u001b[38;5;28mself\u001b[39m):\n\u001b[1;32m    285\u001b[0m     \u001b[38;5;66;03m# Set the default nested backend to self._backend but do not set the\u001b[39;00m\n\u001b[1;32m    286\u001b[0m     \u001b[38;5;66;03m# change the default number of processes to -1\u001b[39;00m\n\u001b[1;32m    287\u001b[0m     \u001b[38;5;28;01mwith\u001b[39;00m parallel_backend(\u001b[38;5;28mself\u001b[39m\u001b[38;5;241m.\u001b[39m_backend, n_jobs\u001b[38;5;241m=\u001b[39m\u001b[38;5;28mself\u001b[39m\u001b[38;5;241m.\u001b[39m_n_jobs):\n\u001b[0;32m--> 288\u001b[0m         \u001b[38;5;28;01mreturn\u001b[39;00m [func(\u001b[38;5;241m*\u001b[39margs, \u001b[38;5;241m*\u001b[39m\u001b[38;5;241m*\u001b[39mkwargs)\n\u001b[1;32m    289\u001b[0m                 \u001b[38;5;28;01mfor\u001b[39;00m func, args, kwargs \u001b[38;5;129;01min\u001b[39;00m \u001b[38;5;28mself\u001b[39m\u001b[38;5;241m.\u001b[39mitems]\n",
      "File \u001b[0;32m/opt/anaconda3/envs/ml_env/lib/python3.11/site-packages/sklearn/utils/parallel.py:127\u001b[0m, in \u001b[0;36m_FuncWrapper.__call__\u001b[0;34m(self, *args, **kwargs)\u001b[0m\n\u001b[1;32m    125\u001b[0m     config \u001b[38;5;241m=\u001b[39m {}\n\u001b[1;32m    126\u001b[0m \u001b[38;5;28;01mwith\u001b[39;00m config_context(\u001b[38;5;241m*\u001b[39m\u001b[38;5;241m*\u001b[39mconfig):\n\u001b[0;32m--> 127\u001b[0m     \u001b[38;5;28;01mreturn\u001b[39;00m \u001b[38;5;28mself\u001b[39m\u001b[38;5;241m.\u001b[39mfunction(\u001b[38;5;241m*\u001b[39margs, \u001b[38;5;241m*\u001b[39m\u001b[38;5;241m*\u001b[39mkwargs)\n",
      "File \u001b[0;32m/opt/anaconda3/envs/ml_env/lib/python3.11/site-packages/sklearn/ensemble/_forest.py:188\u001b[0m, in \u001b[0;36m_parallel_build_trees\u001b[0;34m(tree, bootstrap, X, y, sample_weight, tree_idx, n_trees, verbose, class_weight, n_samples_bootstrap)\u001b[0m\n\u001b[1;32m    185\u001b[0m     \u001b[38;5;28;01melif\u001b[39;00m class_weight \u001b[38;5;241m==\u001b[39m \u001b[38;5;124m\"\u001b[39m\u001b[38;5;124mbalanced_subsample\u001b[39m\u001b[38;5;124m\"\u001b[39m:\n\u001b[1;32m    186\u001b[0m         curr_sample_weight \u001b[38;5;241m*\u001b[39m\u001b[38;5;241m=\u001b[39m compute_sample_weight(\u001b[38;5;124m\"\u001b[39m\u001b[38;5;124mbalanced\u001b[39m\u001b[38;5;124m\"\u001b[39m, y, indices\u001b[38;5;241m=\u001b[39mindices)\n\u001b[0;32m--> 188\u001b[0m     tree\u001b[38;5;241m.\u001b[39mfit(X, y, sample_weight\u001b[38;5;241m=\u001b[39mcurr_sample_weight, check_input\u001b[38;5;241m=\u001b[39m\u001b[38;5;28;01mFalse\u001b[39;00m)\n\u001b[1;32m    189\u001b[0m \u001b[38;5;28;01melse\u001b[39;00m:\n\u001b[1;32m    190\u001b[0m     tree\u001b[38;5;241m.\u001b[39mfit(X, y, sample_weight\u001b[38;5;241m=\u001b[39msample_weight, check_input\u001b[38;5;241m=\u001b[39m\u001b[38;5;28;01mFalse\u001b[39;00m)\n",
      "File \u001b[0;32m/opt/anaconda3/envs/ml_env/lib/python3.11/site-packages/sklearn/base.py:1151\u001b[0m, in \u001b[0;36m_fit_context.<locals>.decorator.<locals>.wrapper\u001b[0;34m(estimator, *args, **kwargs)\u001b[0m\n\u001b[1;32m   1144\u001b[0m     estimator\u001b[38;5;241m.\u001b[39m_validate_params()\n\u001b[1;32m   1146\u001b[0m \u001b[38;5;28;01mwith\u001b[39;00m config_context(\n\u001b[1;32m   1147\u001b[0m     skip_parameter_validation\u001b[38;5;241m=\u001b[39m(\n\u001b[1;32m   1148\u001b[0m         prefer_skip_nested_validation \u001b[38;5;129;01mor\u001b[39;00m global_skip_validation\n\u001b[1;32m   1149\u001b[0m     )\n\u001b[1;32m   1150\u001b[0m ):\n\u001b[0;32m-> 1151\u001b[0m     \u001b[38;5;28;01mreturn\u001b[39;00m fit_method(estimator, \u001b[38;5;241m*\u001b[39margs, \u001b[38;5;241m*\u001b[39m\u001b[38;5;241m*\u001b[39mkwargs)\n",
      "File \u001b[0;32m/opt/anaconda3/envs/ml_env/lib/python3.11/site-packages/sklearn/tree/_classes.py:1320\u001b[0m, in \u001b[0;36mDecisionTreeRegressor.fit\u001b[0;34m(self, X, y, sample_weight, check_input)\u001b[0m\n\u001b[1;32m   1290\u001b[0m \u001b[38;5;129m@_fit_context\u001b[39m(prefer_skip_nested_validation\u001b[38;5;241m=\u001b[39m\u001b[38;5;28;01mTrue\u001b[39;00m)\n\u001b[1;32m   1291\u001b[0m \u001b[38;5;28;01mdef\u001b[39;00m \u001b[38;5;21mfit\u001b[39m(\u001b[38;5;28mself\u001b[39m, X, y, sample_weight\u001b[38;5;241m=\u001b[39m\u001b[38;5;28;01mNone\u001b[39;00m, check_input\u001b[38;5;241m=\u001b[39m\u001b[38;5;28;01mTrue\u001b[39;00m):\n\u001b[1;32m   1292\u001b[0m \u001b[38;5;250m    \u001b[39m\u001b[38;5;124;03m\"\"\"Build a decision tree regressor from the training set (X, y).\u001b[39;00m\n\u001b[1;32m   1293\u001b[0m \n\u001b[1;32m   1294\u001b[0m \u001b[38;5;124;03m    Parameters\u001b[39;00m\n\u001b[0;32m   (...)\u001b[0m\n\u001b[1;32m   1317\u001b[0m \u001b[38;5;124;03m        Fitted estimator.\u001b[39;00m\n\u001b[1;32m   1318\u001b[0m \u001b[38;5;124;03m    \"\"\"\u001b[39;00m\n\u001b[0;32m-> 1320\u001b[0m     \u001b[38;5;28msuper\u001b[39m()\u001b[38;5;241m.\u001b[39m_fit(\n\u001b[1;32m   1321\u001b[0m         X,\n\u001b[1;32m   1322\u001b[0m         y,\n\u001b[1;32m   1323\u001b[0m         sample_weight\u001b[38;5;241m=\u001b[39msample_weight,\n\u001b[1;32m   1324\u001b[0m         check_input\u001b[38;5;241m=\u001b[39mcheck_input,\n\u001b[1;32m   1325\u001b[0m     )\n\u001b[1;32m   1326\u001b[0m     \u001b[38;5;28;01mreturn\u001b[39;00m \u001b[38;5;28mself\u001b[39m\n",
      "File \u001b[0;32m/opt/anaconda3/envs/ml_env/lib/python3.11/site-packages/sklearn/tree/_classes.py:443\u001b[0m, in \u001b[0;36mBaseDecisionTree._fit\u001b[0;34m(self, X, y, sample_weight, check_input, missing_values_in_feature_mask)\u001b[0m\n\u001b[1;32m    432\u001b[0m \u001b[38;5;28;01melse\u001b[39;00m:\n\u001b[1;32m    433\u001b[0m     builder \u001b[38;5;241m=\u001b[39m BestFirstTreeBuilder(\n\u001b[1;32m    434\u001b[0m         splitter,\n\u001b[1;32m    435\u001b[0m         min_samples_split,\n\u001b[0;32m   (...)\u001b[0m\n\u001b[1;32m    440\u001b[0m         \u001b[38;5;28mself\u001b[39m\u001b[38;5;241m.\u001b[39mmin_impurity_decrease,\n\u001b[1;32m    441\u001b[0m     )\n\u001b[0;32m--> 443\u001b[0m builder\u001b[38;5;241m.\u001b[39mbuild(\u001b[38;5;28mself\u001b[39m\u001b[38;5;241m.\u001b[39mtree_, X, y, sample_weight, missing_values_in_feature_mask)\n\u001b[1;32m    445\u001b[0m \u001b[38;5;28;01mif\u001b[39;00m \u001b[38;5;28mself\u001b[39m\u001b[38;5;241m.\u001b[39mn_outputs_ \u001b[38;5;241m==\u001b[39m \u001b[38;5;241m1\u001b[39m \u001b[38;5;129;01mand\u001b[39;00m is_classifier(\u001b[38;5;28mself\u001b[39m):\n\u001b[1;32m    446\u001b[0m     \u001b[38;5;28mself\u001b[39m\u001b[38;5;241m.\u001b[39mn_classes_ \u001b[38;5;241m=\u001b[39m \u001b[38;5;28mself\u001b[39m\u001b[38;5;241m.\u001b[39mn_classes_[\u001b[38;5;241m0\u001b[39m]\n",
      "\u001b[0;31mKeyboardInterrupt\u001b[0m: "
     ]
    }
   ],
   "source": [
    "rforest_best = grid_search.fit(X_train, y_train)"
   ]
  },
  {
   "cell_type": "code",
   "execution_count": null,
   "id": "4f4015f9-c3d0-4aa7-b3af-f98678a594dc",
   "metadata": {
    "tags": []
   },
   "outputs": [],
   "source": [
    "rforest_best.best_estimator_\n"
   ]
  },
  {
   "cell_type": "code",
   "execution_count": null,
   "id": "00db6644-7daa-4565-b126-da828c820f86",
   "metadata": {
    "tags": []
   },
   "outputs": [],
   "source": [
    "print(f\"The best fit scaler is: {rforest_best.best_estimator_[0]}\")\n",
    "print(f\"The best fit number of PCA components is: {rforest_best.best_estimator_[1]}\")\n",
    "print(f\"The best fit model is: {rforest_best.best_estimator_[2]}\")"
   ]
  },
  {
   "cell_type": "markdown",
   "id": "2a34e246-ec9c-4c68-b4ec-19b9fdf478da",
   "metadata": {},
   "source": [
    "The gridsearch parameters improved the test score from 0.12 to 0.13, being able to explain 13% of the price information. For the gridsearch the StandardScaler performed better than no scaler, and PCA 10 components performed the best. Since the lowest number of PCA performed the best, this can indicate that the features might not be helping with the price prediction. Perhaps they are not linearly correlated with price. Furthur analysis can look into non-linear relationship modeling. "
   ]
  },
  {
   "cell_type": "code",
   "execution_count": null,
   "id": "38c3dc4f-1429-41a9-a976-dac2d76f62c0",
   "metadata": {
    "tags": []
   },
   "outputs": [],
   "source": [
    "# linreg_best train and test scores\n",
    "print(f\"Train score: {rforest_best.score(X_train, y_train)}\")\n",
    "print(f\"Test score: {rforest_best.score(X_test, y_test)}\")"
   ]
  },
  {
   "cell_type": "code",
   "execution_count": null,
   "id": "472aa9ad-ad53-4f7f-ba9d-7332761cf580",
   "metadata": {
    "tags": []
   },
   "outputs": [],
   "source": [
    "# make array of y_pred\n",
    "y_pred = rforest_best.predict(X_test)"
   ]
  },
  {
   "cell_type": "code",
   "execution_count": null,
   "id": "f8efbad6-ff85-45e3-a835-3b76144e060f",
   "metadata": {
    "tags": []
   },
   "outputs": [],
   "source": [
    "# Calculate MSE\n",
    "mse = mean_squared_error(y_test, y_pred)\n",
    "\n",
    "# Calculate RMSE\n",
    "rmse = np.sqrt(mse)\n",
    "\n",
    "print(\"RMSE:\", rmse)"
   ]
  },
  {
   "cell_type": "code",
   "execution_count": null,
   "id": "083c219b-65d6-42e4-a363-4da0330e2ada",
   "metadata": {
    "tags": []
   },
   "outputs": [],
   "source": [
    "# Calculate MAE\n",
    "mae = mean_absolute_error(y_test, y_pred)\n",
    "\n",
    "print(\"MAE:\", mae)"
   ]
  },
  {
   "cell_type": "code",
   "execution_count": null,
   "id": "1f4c57f0-9c05-408e-86b3-73aa4c6c9f54",
   "metadata": {},
   "outputs": [],
   "source": [
    "# compare y_pred to y_true\n",
    "\n",
    "# add to df\n",
    "y_truevspred = pd.DataFrame({\"True_y\": y_test, \"Pred_y\": y_pred})\n",
    "\n",
    "# display\n",
    "y_truevspred"
   ]
  },
  {
   "cell_type": "markdown",
   "id": "8fa9a954-11bb-4ca5-95a9-985d80a7d8ca",
   "metadata": {
    "tags": []
   },
   "source": [
    "#### Plots of predicted vs actual"
   ]
  },
  {
   "cell_type": "code",
   "execution_count": null,
   "id": "15cb1660-352e-4038-bed9-52f39f6e0136",
   "metadata": {
    "tags": []
   },
   "outputs": [],
   "source": [
    "# scatterplot\n",
    "\n",
    "plt.figure(figsize=(6,4))\n",
    "ax = sns.scatterplot(x=y_pred, y=y_test)\n",
    "plt.suptitle(\"Scatterplot of y_pred and y_test\")\n",
    "plt.xlabel(\"y_pred\")\n",
    "plt.ylabel(\"y_test\")\n",
    "\n",
    "x_vals = np.linspace(y_pred.min(), y_pred.max(), 100)\n",
    "ax.plot(x_vals, x_vals, color='red', linestyle='--', linewidth=2) \n",
    "\n",
    "plt.show()\n"
   ]
  },
  {
   "cell_type": "markdown",
   "id": "b28d6bb5-b5ad-4398-8958-ebd45e0ae467",
   "metadata": {},
   "source": [
    "In this scatterplot of the predicted price values versus the actual price values, the predicted was capped at about 3,000, meanwhile the actual value went as high as 10,000. In linear regression, this punishes the model severely as the large values of error are squared, giving more weight to outliers. In the case of this dataset, the outliers are already large, and this magnifies the effect of the outliers, further punishing the model. Further analysis could look into handling the outliers."
   ]
  },
  {
   "cell_type": "code",
   "execution_count": null,
   "id": "c0a54cb7-34bf-42d7-a284-d0d84ad0555f",
   "metadata": {
    "tags": []
   },
   "outputs": [],
   "source": [
    "# scatterplot\n",
    "\n",
    "plt.figure(figsize=(6,4))\n",
    "ax = sns.scatterplot(x=y_pred, y=y_test)\n",
    "plt.suptitle(\"Scatterplot of y_pred and y_test\")\n",
    "plt.xlabel(\"y_pred\")\n",
    "plt.ylabel(\"y_test\")\n",
    "\n",
    "x_vals = np.linspace(y_pred.min(), y_pred.max(), 100)\n",
    "ax.plot(x_vals, x_vals, color='red', linestyle='--', linewidth=2) \n",
    "\n",
    "plt.xlim(0, 1000)\n",
    "plt.ylim(0, 1000)\n",
    "\n",
    "plt.show()\n"
   ]
  },
  {
   "cell_type": "markdown",
   "id": "028fee7a-2275-4ab5-b70a-40856fda5e30",
   "metadata": {},
   "source": [
    "When zooming into the values less than 1,000, the model seemed to performed much better. With similar amounts above the line, showing when actual price is higher than predicted price, and a similar amount under the line, showing when predicted price is higher than actual price."
   ]
  },
  {
   "cell_type": "markdown",
   "id": "dbabc581-d42c-4222-9369-c79ddafa0707",
   "metadata": {},
   "source": [
    "#### Pickle and save model"
   ]
  },
  {
   "cell_type": "code",
   "execution_count": null,
   "id": "bf90e28c-4f57-4bfc-97bc-939f48a03310",
   "metadata": {
    "tags": []
   },
   "outputs": [],
   "source": [
    "pickle.dump(rforest_best, open(\"../models/rf_model.pkl\",\"wb\"))"
   ]
  }
 ],
 "metadata": {
  "kernelspec": {
   "display_name": "Python 3 (ipykernel)",
   "language": "python",
   "name": "python3"
  },
  "language_info": {
   "codemirror_mode": {
    "name": "ipython",
    "version": 3
   },
   "file_extension": ".py",
   "mimetype": "text/x-python",
   "name": "python",
   "nbconvert_exporter": "python",
   "pygments_lexer": "ipython3",
   "version": "3.11.5"
  }
 },
 "nbformat": 4,
 "nbformat_minor": 5
}
