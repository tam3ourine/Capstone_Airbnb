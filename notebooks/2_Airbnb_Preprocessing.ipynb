{
 "cells": [
  {
   "cell_type": "markdown",
   "id": "2574470e-e6d7-4471-8bf6-330e758c15d9",
   "metadata": {
    "tags": []
   },
   "source": [
    "# S3: AirBnb NYC 2024 Listings\n",
    "by: Tam Trinh           \n",
    "April 6, 2025         "
   ]
  },
  {
   "cell_type": "markdown",
   "id": "0510d005-5b83-4e24-b898-c24ea1e62d4a",
   "metadata": {
    "tags": []
   },
   "source": [
    "<a id=\"0\"></a> <br>\n",
    "## Table of Contents  \n",
    "\n",
    "- [Sprint Goals](#6)\n",
    "- [Introduction](#1)\n",
    "- [Set-up and Dataset Overview](#7)\n",
    "- [Part 1: EDA](#2)\n",
    "- [Part 2: Preprocessing](#3)   \n",
    "- [Part 3: Modeling](#4) \n",
    "- [Stylized Visualizations](#8) \n",
    "- [Conclusion](#5)"
   ]
  },
  {
   "cell_type": "markdown",
   "id": "9bd5170e-5e4d-4e0a-8268-edc017ba4f8a",
   "metadata": {
    "jp-MarkdownHeadingCollapsed": true,
    "tags": []
   },
   "source": [
    "<a id=\"7\"></a>\n",
    "## Set-up and Load Data"
   ]
  },
  {
   "cell_type": "code",
   "execution_count": 1,
   "id": "ecec72af-b297-497b-8c40-fbd6df1080f1",
   "metadata": {
    "tags": []
   },
   "outputs": [],
   "source": [
    "# imports for functionality and plotting\n",
    "import numpy as np\n",
    "import pandas as pd\n",
    "import matplotlib.pyplot as plt\n",
    "import seaborn as sns\n",
    "\n",
    "# optional imports\n",
    "import warnings\n",
    "import pickle\n",
    "\n",
    "# imports for preprocessing\n",
    "from sklearn.preprocessing import OneHotEncoder\n",
    "from sklearn.preprocessing import StandardScaler\n",
    "from sklearn.decomposition import PCA\n",
    "\n",
    "# imports for modeling\n",
    "from sklearn.model_selection import train_test_split\n",
    "from sklearn.pipeline import Pipeline\n",
    "from tempfile import mkdtemp\n",
    "from sklearn.model_selection import GridSearchCV\n",
    "from sklearn.linear_model import LinearRegression\n",
    "from sklearn.ensemble import RandomForestRegressor\n",
    "from xgboost import XGBRegressor\n",
    "\n",
    "# imports for model metrics\n",
    "from sklearn.metrics import mean_squared_error\n",
    "from sklearn.metrics import mean_absolute_error\n",
    "from sklearn.inspection import permutation_importance"
   ]
  },
  {
   "cell_type": "code",
   "execution_count": 2,
   "id": "794e0583-0a1c-4fec-92c6-589b71814538",
   "metadata": {
    "tags": []
   },
   "outputs": [],
   "source": [
    "# ignore warnings\n",
    "from warnings import filterwarnings\n",
    "warnings.filterwarnings('ignore')"
   ]
  },
  {
   "cell_type": "code",
   "execution_count": 4,
   "id": "d805b444-b032-48cd-980d-b627fa2e96d5",
   "metadata": {
    "tags": []
   },
   "outputs": [],
   "source": [
    "# load original dataset\n",
    "airbnb_df = pd.read_csv(\"../data/new_york_listings_2024.csv\")\n",
    "\n",
    "# load dataset from previous notebook\n",
    "aircopy = pd.read_csv(\"../data/eda_airbnb.csv\")"
   ]
  },
  {
   "cell_type": "markdown",
   "id": "383d9f32-b2f9-4e00-b7a8-43d9c5f4e239",
   "metadata": {
    "tags": []
   },
   "source": [
    "<a id=\"3\"></a>\n",
    "## Part 2: Preprocessing"
   ]
  },
  {
   "cell_type": "markdown",
   "id": "3436b58a-3d3f-4be5-a757-061f72fec950",
   "metadata": {
    "jp-MarkdownHeadingCollapsed": true,
    "tags": []
   },
   "source": [
    "### Set up preprocessing workflow"
   ]
  },
  {
   "cell_type": "markdown",
   "id": "7fcf044d-7fe6-42b2-9a86-580cc01b1d5f",
   "metadata": {},
   "source": [
    "To organize the workflow, the columns were sorted into the work that needed to be performed on them."
   ]
  },
  {
   "cell_type": "code",
   "execution_count": 5,
   "id": "798b743b-47c0-461a-a35c-5e17a8c6166d",
   "metadata": {
    "tags": []
   },
   "outputs": [],
   "source": [
    "# make a copy of airbnb df to preprocess\n",
    "prep_airbnb = aircopy.copy()"
   ]
  },
  {
   "cell_type": "code",
   "execution_count": 6,
   "id": "e5e1fd7d-1a7c-4d70-a79f-d685ad71f8d2",
   "metadata": {
    "tags": []
   },
   "outputs": [],
   "source": [
    "cols_2drop = ['id', 'name', 'host_id', 'host_name']"
   ]
  },
  {
   "cell_type": "code",
   "execution_count": 7,
   "id": "6d66b90b-f6b4-4651-9c89-a99a92945e9b",
   "metadata": {
    "tags": []
   },
   "outputs": [],
   "source": [
    "cols_2keep = ['latitude', 'longitude', 'minimum_nights', 'number_of_reviews',\n",
    "              'reviews_per_month', 'calculated_host_listings_count',\n",
    "              'availability_365', 'number_of_reviews_ltm', 'beds']"
   ]
  },
  {
   "cell_type": "code",
   "execution_count": 8,
   "id": "3af31e68-17ea-40fc-8255-b05be7891661",
   "metadata": {
    "tags": []
   },
   "outputs": [],
   "source": [
    "cols_2clean = ['bedrooms', 'baths']"
   ]
  },
  {
   "cell_type": "code",
   "execution_count": 9,
   "id": "bef14407-0e2f-4280-93d9-fd2252e3f044",
   "metadata": {
    "tags": []
   },
   "outputs": [],
   "source": [
    "cols_2edit = ['rating', 'neighbourhood', 'last_review']"
   ]
  },
  {
   "cell_type": "code",
   "execution_count": 10,
   "id": "225bf475-1200-4786-b77f-78270ba5ca98",
   "metadata": {
    "tags": []
   },
   "outputs": [],
   "source": [
    "cols_2onehot = ['neighbourhood_group', 'room_type', 'license']"
   ]
  },
  {
   "cell_type": "markdown",
   "id": "6ab3632a-4122-45e3-b530-599e04a5cf68",
   "metadata": {},
   "source": [
    "_______________"
   ]
  },
  {
   "cell_type": "markdown",
   "id": "fffc5923-1319-416e-9741-c64481535f04",
   "metadata": {
    "jp-MarkdownHeadingCollapsed": true,
    "tags": []
   },
   "source": [
    "### Columns to clean: bedrooms and baths"
   ]
  },
  {
   "cell_type": "markdown",
   "id": "e8aac037-6b2c-4ad0-83a3-dde9e4d9c4eb",
   "metadata": {
    "tags": []
   },
   "source": [
    "#### Bedrooms column\n",
    "The bedrooms column was in string format, with some rows having \"Studio\" as a value. This column was cleaned by converting \"Studio\" to 0, which then made it possible to convert the column to integer type, and ready for modeling."
   ]
  },
  {
   "cell_type": "code",
   "execution_count": 11,
   "id": "a29ebd6e-c5d8-4aec-bec5-3127ea2ade54",
   "metadata": {
    "tags": []
   },
   "outputs": [],
   "source": [
    "# change bedrooms \"Studio\" to 0\n",
    "prep_airbnb.loc[(prep_airbnb[\"bedrooms\"] == \"Studio\"), \"bedrooms\"] = 0\n",
    "\n",
    "# convert col dtype to integer\n",
    "prep_airbnb[\"bedrooms\"] = prep_airbnb[\"bedrooms\"].astype(int)"
   ]
  },
  {
   "cell_type": "markdown",
   "id": "5ee9c90c-5846-4305-9cc3-c45bc49bbbc2",
   "metadata": {},
   "source": [
    "#### Baths column\n",
    "The baths column was also in string format due to some values being \"Not specified.\" To handle imputing an appropriate amount of baths, a dictionary was created using the average amount of baths per beds. The \"Not specified\" baths values were then filled in with the average baths expected for that amount of beds."
   ]
  },
  {
   "cell_type": "code",
   "execution_count": 12,
   "id": "22c486ca-a9cf-4425-9a4a-c7c805ed50fc",
   "metadata": {
    "tags": []
   },
   "outputs": [],
   "source": [
    "# create a dict to impute the avg bath per bed\n",
    "baths_notnull = prep_airbnb[prep_airbnb[\"baths\"] != \"Not specified\"] # subset the baths that are specified\n",
    "\n",
    "baths_notnull[\"baths\"] = baths_notnull[\"baths\"].astype(float) # convert to float\n",
    "\n",
    "baths_per_beds = baths_notnull.groupby(\"beds\")[\"baths\"].mean().round() # use the specified baths and beds to create a dict\n",
    "\n",
    "bath_beds_dict = baths_per_beds.to_dict()\n",
    "\n",
    "\n",
    "# for the missing baths, impute the avg bath based on the number of beds\n",
    "prep_airbnb.loc[(prep_airbnb[\"baths\"] == \"Not specified\"), \"baths\"] = prep_airbnb[\"beds\"].map(bath_beds_dict)\n",
    "\n",
    "\n",
    "# convert col dtype to integer\n",
    "prep_airbnb[\"baths\"] = prep_airbnb[\"baths\"].astype(float)"
   ]
  },
  {
   "cell_type": "markdown",
   "id": "db83d5a6-03c1-4814-8d9e-ac71f4078843",
   "metadata": {},
   "source": [
    "__________________________"
   ]
  },
  {
   "cell_type": "markdown",
   "id": "3a9a3be1-85da-41e8-89cb-ff3a86cff973",
   "metadata": {
    "jp-MarkdownHeadingCollapsed": true,
    "tags": []
   },
   "source": [
    "### Columns to edit: ratings, neighbourhood, and last_review"
   ]
  },
  {
   "cell_type": "markdown",
   "id": "aa4103e3-f9d4-4251-bcd7-41fefc452c40",
   "metadata": {},
   "source": [
    "#### Rating column\n",
    "The rating column contained values ranging from 1.75 to 5.0, as well as 3,593 values of \"No rating\" and 159 values of \"New.\" Since there were a fair amount of non-numeric values, and they might be predictive, it was decided to keep them. To work around keeping non-numeric values with numeric values, the numeric ratings were binned. Most of the ratings fell between 4 and 5, so the bins were more granular between this range, and less granular with values less than 4. After binning, the whole column was transformed with One Hot Encoding. "
   ]
  },
  {
   "cell_type": "code",
   "execution_count": 13,
   "id": "4ec9c2cc-78ac-4f7f-af56-3a0ad4ab1c8a",
   "metadata": {
    "tags": []
   },
   "outputs": [],
   "source": [
    "# clean ratings col\n",
    "\n",
    "# create func to bin ratings\n",
    "def bin_rating(rating):\n",
    "    if rating == \"No rating\": # keep \"No Rating\" and \"New \" as strings\n",
    "        return \"No rating\"\n",
    "    elif rating == \"New \":\n",
    "        return \"New\"\n",
    "    else:\n",
    "        rating = float(rating)\n",
    "        if rating == 5:\n",
    "            return 5\n",
    "        elif rating >= 4.8:\n",
    "            return 4.8\n",
    "        elif rating >= 4.6:\n",
    "            return 4.6\n",
    "        elif rating >= 4.4:\n",
    "            return 4.4\n",
    "        elif rating >= 4.2:\n",
    "            return 4.2\n",
    "        elif rating >= 4.0:\n",
    "            return 4.0\n",
    "        elif rating >= 3.0:\n",
    "            return 3.0\n",
    "        elif rating < 3.0:\n",
    "            return \"less3\"\n",
    "        else:\n",
    "            return \"Unknown rating\""
   ]
  },
  {
   "cell_type": "code",
   "execution_count": 14,
   "id": "623adb35-e58b-44d3-b88e-2fb1054c1ea5",
   "metadata": {
    "tags": []
   },
   "outputs": [],
   "source": [
    "# apply func to bin ratings\n",
    "prep_airbnb[\"ratings_bin\"] = prep_airbnb[\"rating\"].apply(bin_rating)\n",
    "\n",
    "# convert whole col to string\n",
    "prep_airbnb[\"ratings_bin\"] = prep_airbnb[\"ratings_bin\"].astype(str)"
   ]
  },
  {
   "cell_type": "code",
   "execution_count": 15,
   "id": "3307f04b-1a70-4582-bdd7-6c9e1cf700b5",
   "metadata": {
    "colab": {},
    "colab_type": "code",
    "id": "1SfCdGpW5JKf",
    "outputId": "bfd32e86-0c9c-4a65-f07d-a3cdc06a634c",
    "tags": []
   },
   "outputs": [],
   "source": [
    "# instantiate the OneHotEncoder\n",
    "one_hot_encoder = OneHotEncoder(handle_unknown='ignore')\n",
    "\n",
    "# fit the OneHotEncoder\n",
    "ratings_encoded_array = one_hot_encoder.fit_transform(prep_airbnb[[\"ratings_bin\"]])\n",
    "\n",
    "# convert from sparse matrix to dense\n",
    "ratings_dense_array = ratings_encoded_array.toarray()\n",
    "\n",
    "# add prefix to feature names\n",
    "feature_names = [f\"ratings_{cat}\" for cat in one_hot_encoder.categories_[0]]\n",
    "\n",
    "# put into a dataframe\n",
    "ratings_df = pd.DataFrame(ratings_dense_array, columns=feature_names, dtype=int)"
   ]
  },
  {
   "cell_type": "code",
   "execution_count": 16,
   "id": "df89f39b-457c-43ce-a94d-6c44a34e1094",
   "metadata": {
    "tags": []
   },
   "outputs": [
    {
     "data": {
      "text/html": [
       "<div>\n",
       "<style scoped>\n",
       "    .dataframe tbody tr th:only-of-type {\n",
       "        vertical-align: middle;\n",
       "    }\n",
       "\n",
       "    .dataframe tbody tr th {\n",
       "        vertical-align: top;\n",
       "    }\n",
       "\n",
       "    .dataframe thead th {\n",
       "        text-align: right;\n",
       "    }\n",
       "</style>\n",
       "<table border=\"1\" class=\"dataframe\">\n",
       "  <thead>\n",
       "    <tr style=\"text-align: right;\">\n",
       "      <th></th>\n",
       "      <th>ratings_3.0</th>\n",
       "      <th>ratings_4.0</th>\n",
       "      <th>ratings_4.2</th>\n",
       "      <th>ratings_4.4</th>\n",
       "      <th>ratings_4.6</th>\n",
       "      <th>ratings_4.8</th>\n",
       "      <th>ratings_5</th>\n",
       "      <th>ratings_New</th>\n",
       "      <th>ratings_No rating</th>\n",
       "      <th>ratings_less3</th>\n",
       "    </tr>\n",
       "  </thead>\n",
       "  <tbody>\n",
       "    <tr>\n",
       "      <th>0</th>\n",
       "      <td>0</td>\n",
       "      <td>0</td>\n",
       "      <td>0</td>\n",
       "      <td>0</td>\n",
       "      <td>0</td>\n",
       "      <td>0</td>\n",
       "      <td>1</td>\n",
       "      <td>0</td>\n",
       "      <td>0</td>\n",
       "      <td>0</td>\n",
       "    </tr>\n",
       "    <tr>\n",
       "      <th>1</th>\n",
       "      <td>0</td>\n",
       "      <td>0</td>\n",
       "      <td>0</td>\n",
       "      <td>0</td>\n",
       "      <td>1</td>\n",
       "      <td>0</td>\n",
       "      <td>0</td>\n",
       "      <td>0</td>\n",
       "      <td>0</td>\n",
       "      <td>0</td>\n",
       "    </tr>\n",
       "    <tr>\n",
       "      <th>2</th>\n",
       "      <td>0</td>\n",
       "      <td>1</td>\n",
       "      <td>0</td>\n",
       "      <td>0</td>\n",
       "      <td>0</td>\n",
       "      <td>0</td>\n",
       "      <td>0</td>\n",
       "      <td>0</td>\n",
       "      <td>0</td>\n",
       "      <td>0</td>\n",
       "    </tr>\n",
       "    <tr>\n",
       "      <th>3</th>\n",
       "      <td>0</td>\n",
       "      <td>0</td>\n",
       "      <td>0</td>\n",
       "      <td>0</td>\n",
       "      <td>1</td>\n",
       "      <td>0</td>\n",
       "      <td>0</td>\n",
       "      <td>0</td>\n",
       "      <td>0</td>\n",
       "      <td>0</td>\n",
       "    </tr>\n",
       "    <tr>\n",
       "      <th>4</th>\n",
       "      <td>0</td>\n",
       "      <td>0</td>\n",
       "      <td>0</td>\n",
       "      <td>0</td>\n",
       "      <td>0</td>\n",
       "      <td>1</td>\n",
       "      <td>0</td>\n",
       "      <td>0</td>\n",
       "      <td>0</td>\n",
       "      <td>0</td>\n",
       "    </tr>\n",
       "    <tr>\n",
       "      <th>...</th>\n",
       "      <td>...</td>\n",
       "      <td>...</td>\n",
       "      <td>...</td>\n",
       "      <td>...</td>\n",
       "      <td>...</td>\n",
       "      <td>...</td>\n",
       "      <td>...</td>\n",
       "      <td>...</td>\n",
       "      <td>...</td>\n",
       "      <td>...</td>\n",
       "    </tr>\n",
       "    <tr>\n",
       "      <th>20753</th>\n",
       "      <td>0</td>\n",
       "      <td>0</td>\n",
       "      <td>0</td>\n",
       "      <td>0</td>\n",
       "      <td>1</td>\n",
       "      <td>0</td>\n",
       "      <td>0</td>\n",
       "      <td>0</td>\n",
       "      <td>0</td>\n",
       "      <td>0</td>\n",
       "    </tr>\n",
       "    <tr>\n",
       "      <th>20754</th>\n",
       "      <td>0</td>\n",
       "      <td>0</td>\n",
       "      <td>0</td>\n",
       "      <td>1</td>\n",
       "      <td>0</td>\n",
       "      <td>0</td>\n",
       "      <td>0</td>\n",
       "      <td>0</td>\n",
       "      <td>0</td>\n",
       "      <td>0</td>\n",
       "    </tr>\n",
       "    <tr>\n",
       "      <th>20755</th>\n",
       "      <td>0</td>\n",
       "      <td>0</td>\n",
       "      <td>0</td>\n",
       "      <td>0</td>\n",
       "      <td>0</td>\n",
       "      <td>1</td>\n",
       "      <td>0</td>\n",
       "      <td>0</td>\n",
       "      <td>0</td>\n",
       "      <td>0</td>\n",
       "    </tr>\n",
       "    <tr>\n",
       "      <th>20756</th>\n",
       "      <td>0</td>\n",
       "      <td>0</td>\n",
       "      <td>0</td>\n",
       "      <td>0</td>\n",
       "      <td>0</td>\n",
       "      <td>0</td>\n",
       "      <td>1</td>\n",
       "      <td>0</td>\n",
       "      <td>0</td>\n",
       "      <td>0</td>\n",
       "    </tr>\n",
       "    <tr>\n",
       "      <th>20757</th>\n",
       "      <td>0</td>\n",
       "      <td>0</td>\n",
       "      <td>0</td>\n",
       "      <td>0</td>\n",
       "      <td>0</td>\n",
       "      <td>1</td>\n",
       "      <td>0</td>\n",
       "      <td>0</td>\n",
       "      <td>0</td>\n",
       "      <td>0</td>\n",
       "    </tr>\n",
       "  </tbody>\n",
       "</table>\n",
       "<p>20758 rows × 10 columns</p>\n",
       "</div>"
      ],
      "text/plain": [
       "       ratings_3.0  ratings_4.0  ratings_4.2  ratings_4.4  ratings_4.6  \\\n",
       "0                0            0            0            0            0   \n",
       "1                0            0            0            0            1   \n",
       "2                0            1            0            0            0   \n",
       "3                0            0            0            0            1   \n",
       "4                0            0            0            0            0   \n",
       "...            ...          ...          ...          ...          ...   \n",
       "20753            0            0            0            0            1   \n",
       "20754            0            0            0            1            0   \n",
       "20755            0            0            0            0            0   \n",
       "20756            0            0            0            0            0   \n",
       "20757            0            0            0            0            0   \n",
       "\n",
       "       ratings_4.8  ratings_5  ratings_New  ratings_No rating  ratings_less3  \n",
       "0                0          1            0                  0              0  \n",
       "1                0          0            0                  0              0  \n",
       "2                0          0            0                  0              0  \n",
       "3                0          0            0                  0              0  \n",
       "4                1          0            0                  0              0  \n",
       "...            ...        ...          ...                ...            ...  \n",
       "20753            0          0            0                  0              0  \n",
       "20754            0          0            0                  0              0  \n",
       "20755            1          0            0                  0              0  \n",
       "20756            0          1            0                  0              0  \n",
       "20757            1          0            0                  0              0  \n",
       "\n",
       "[20758 rows x 10 columns]"
      ]
     },
     "execution_count": 16,
     "metadata": {},
     "output_type": "execute_result"
    }
   ],
   "source": [
    "ratings_df"
   ]
  },
  {
   "cell_type": "markdown",
   "id": "1a587c5e-f524-4bf6-bf45-41426c9128d9",
   "metadata": {
    "tags": []
   },
   "source": [
    "#### Neighbourhood column\n",
    "The neighbourhood column seemed to be important to the predication of price, however there were over 100 neighbourhoods, which were too many for dummy variables. So a new column based on the average price per neighbourhood was created to replace the neighbourhood name column."
   ]
  },
  {
   "cell_type": "code",
   "execution_count": 17,
   "id": "9b94607a-eb52-4135-a40e-0cba89acd020",
   "metadata": {
    "tags": []
   },
   "outputs": [],
   "source": [
    "# find the mean price per neighborhood\n",
    "mean_prices_byneighborhood = prep_airbnb.groupby(\"neighbourhood\")[\"price\"].mean().round()\n",
    "\n",
    "# create a dict based on mean price per neighborhood\n",
    "prices_byneighborhood_dict = mean_prices_byneighborhood.to_dict()\n",
    "\n",
    "# add column with the avg neighborhood price\n",
    "prep_airbnb[\"neighborhood_avgprice\"] = prep_airbnb[\"neighbourhood\"].map(prices_byneighborhood_dict)"
   ]
  },
  {
   "cell_type": "markdown",
   "id": "f1ac8ebc-82f5-43c6-8cc2-6927a8374e02",
   "metadata": {},
   "source": [
    "#### Last review column\n",
    "The last review column initally contained the date of the last review, this was converted to two new columns, one containing the last review month, and the second containing the last review year."
   ]
  },
  {
   "cell_type": "code",
   "execution_count": 18,
   "id": "65d00f2d-9574-4099-88a9-d601728397ab",
   "metadata": {
    "tags": []
   },
   "outputs": [],
   "source": [
    "# convert last_review from datatype object to datetime\n",
    "prep_airbnb[\"last_review\"] = pd.to_datetime(prep_airbnb[\"last_review\"])\n",
    "\n",
    "# last review month\n",
    "prep_airbnb[\"last_review_month\"] = prep_airbnb[\"last_review\"].dt.month\n",
    "\n",
    "# last review year\n",
    "prep_airbnb[\"last_review_year\"] = prep_airbnb[\"last_review\"].dt.year"
   ]
  },
  {
   "cell_type": "markdown",
   "id": "9aa04703-03d0-4a3c-a80c-76b9b2546b25",
   "metadata": {},
   "source": [
    "____________________"
   ]
  },
  {
   "cell_type": "markdown",
   "id": "3f1f160a-60f3-4efb-8208-ac32deb82c39",
   "metadata": {
    "jp-MarkdownHeadingCollapsed": true,
    "tags": []
   },
   "source": [
    "### Columns to One Hot Encode: neighbourhood group, room type, and license"
   ]
  },
  {
   "cell_type": "markdown",
   "id": "b40201f9-7ab8-4c87-bbd9-f7cbc467c01d",
   "metadata": {},
   "source": [
    "#### Neighbourhood group column\n",
    "The neighborhood group contains the name of the five NYC borough that the listing is located in. This column lended well to One Hot Encoding. "
   ]
  },
  {
   "cell_type": "code",
   "execution_count": 19,
   "id": "c983f764-2bad-4245-b263-b7f402ec9716",
   "metadata": {
    "tags": []
   },
   "outputs": [
    {
     "data": {
      "text/plain": [
       "neighbourhood_group\n",
       "Manhattan        8038\n",
       "Brooklyn         7719\n",
       "Queens           3761\n",
       "Bronx             949\n",
       "Staten Island     291\n",
       "Name: count, dtype: int64"
      ]
     },
     "execution_count": 19,
     "metadata": {},
     "output_type": "execute_result"
    }
   ],
   "source": [
    "aircopy[\"neighbourhood_group\"].value_counts()"
   ]
  },
  {
   "cell_type": "code",
   "execution_count": 20,
   "id": "9ed34fde-12cc-413b-86ca-11919076e925",
   "metadata": {
    "colab": {},
    "colab_type": "code",
    "id": "1SfCdGpW5JKf",
    "outputId": "bfd32e86-0c9c-4a65-f07d-a3cdc06a634c",
    "tags": []
   },
   "outputs": [],
   "source": [
    "# instantiate the OneHotEncoder\n",
    "one_hot_encoder = OneHotEncoder(handle_unknown='ignore')\n",
    "\n",
    "# fit the OneHotEncoder neighborhood group\n",
    "neigh_encoded_array = one_hot_encoder.fit_transform(prep_airbnb[[\"neighbourhood_group\"]])\n",
    "\n",
    "# convert from sparse matrix to dense\n",
    "neigh_dense_array = neigh_encoded_array.toarray()\n",
    "\n",
    "# add prefix to feature names\n",
    "feature_names = [f\"neighgroup_{cat}\" for cat in one_hot_encoder.categories_[0]]\n",
    "\n",
    "# put into a dataframe\n",
    "neigh_group_df = pd.DataFrame(neigh_dense_array, columns=feature_names, dtype=int)"
   ]
  },
  {
   "cell_type": "code",
   "execution_count": 21,
   "id": "8d8f8481-c1c0-445f-9295-f82448ffb24b",
   "metadata": {
    "colab": {},
    "colab_type": "code",
    "id": "4ZlYuh855JKi",
    "outputId": "7c73a895-3de3-4341-c844-daaf9c6d707e",
    "tags": []
   },
   "outputs": [
    {
     "data": {
      "text/html": [
       "<div>\n",
       "<style scoped>\n",
       "    .dataframe tbody tr th:only-of-type {\n",
       "        vertical-align: middle;\n",
       "    }\n",
       "\n",
       "    .dataframe tbody tr th {\n",
       "        vertical-align: top;\n",
       "    }\n",
       "\n",
       "    .dataframe thead th {\n",
       "        text-align: right;\n",
       "    }\n",
       "</style>\n",
       "<table border=\"1\" class=\"dataframe\">\n",
       "  <thead>\n",
       "    <tr style=\"text-align: right;\">\n",
       "      <th></th>\n",
       "      <th>neighgroup_Bronx</th>\n",
       "      <th>neighgroup_Brooklyn</th>\n",
       "      <th>neighgroup_Manhattan</th>\n",
       "      <th>neighgroup_Queens</th>\n",
       "      <th>neighgroup_Staten Island</th>\n",
       "    </tr>\n",
       "  </thead>\n",
       "  <tbody>\n",
       "    <tr>\n",
       "      <th>0</th>\n",
       "      <td>0</td>\n",
       "      <td>1</td>\n",
       "      <td>0</td>\n",
       "      <td>0</td>\n",
       "      <td>0</td>\n",
       "    </tr>\n",
       "    <tr>\n",
       "      <th>1</th>\n",
       "      <td>0</td>\n",
       "      <td>0</td>\n",
       "      <td>1</td>\n",
       "      <td>0</td>\n",
       "      <td>0</td>\n",
       "    </tr>\n",
       "    <tr>\n",
       "      <th>2</th>\n",
       "      <td>0</td>\n",
       "      <td>0</td>\n",
       "      <td>1</td>\n",
       "      <td>0</td>\n",
       "      <td>0</td>\n",
       "    </tr>\n",
       "    <tr>\n",
       "      <th>3</th>\n",
       "      <td>0</td>\n",
       "      <td>0</td>\n",
       "      <td>1</td>\n",
       "      <td>0</td>\n",
       "      <td>0</td>\n",
       "    </tr>\n",
       "    <tr>\n",
       "      <th>4</th>\n",
       "      <td>0</td>\n",
       "      <td>0</td>\n",
       "      <td>1</td>\n",
       "      <td>0</td>\n",
       "      <td>0</td>\n",
       "    </tr>\n",
       "    <tr>\n",
       "      <th>...</th>\n",
       "      <td>...</td>\n",
       "      <td>...</td>\n",
       "      <td>...</td>\n",
       "      <td>...</td>\n",
       "      <td>...</td>\n",
       "    </tr>\n",
       "    <tr>\n",
       "      <th>20753</th>\n",
       "      <td>0</td>\n",
       "      <td>0</td>\n",
       "      <td>1</td>\n",
       "      <td>0</td>\n",
       "      <td>0</td>\n",
       "    </tr>\n",
       "    <tr>\n",
       "      <th>20754</th>\n",
       "      <td>0</td>\n",
       "      <td>0</td>\n",
       "      <td>1</td>\n",
       "      <td>0</td>\n",
       "      <td>0</td>\n",
       "    </tr>\n",
       "    <tr>\n",
       "      <th>20755</th>\n",
       "      <td>0</td>\n",
       "      <td>0</td>\n",
       "      <td>1</td>\n",
       "      <td>0</td>\n",
       "      <td>0</td>\n",
       "    </tr>\n",
       "    <tr>\n",
       "      <th>20756</th>\n",
       "      <td>0</td>\n",
       "      <td>0</td>\n",
       "      <td>1</td>\n",
       "      <td>0</td>\n",
       "      <td>0</td>\n",
       "    </tr>\n",
       "    <tr>\n",
       "      <th>20757</th>\n",
       "      <td>0</td>\n",
       "      <td>0</td>\n",
       "      <td>0</td>\n",
       "      <td>1</td>\n",
       "      <td>0</td>\n",
       "    </tr>\n",
       "  </tbody>\n",
       "</table>\n",
       "<p>20758 rows × 5 columns</p>\n",
       "</div>"
      ],
      "text/plain": [
       "       neighgroup_Bronx  neighgroup_Brooklyn  neighgroup_Manhattan  \\\n",
       "0                     0                    1                     0   \n",
       "1                     0                    0                     1   \n",
       "2                     0                    0                     1   \n",
       "3                     0                    0                     1   \n",
       "4                     0                    0                     1   \n",
       "...                 ...                  ...                   ...   \n",
       "20753                 0                    0                     1   \n",
       "20754                 0                    0                     1   \n",
       "20755                 0                    0                     1   \n",
       "20756                 0                    0                     1   \n",
       "20757                 0                    0                     0   \n",
       "\n",
       "       neighgroup_Queens  neighgroup_Staten Island  \n",
       "0                      0                         0  \n",
       "1                      0                         0  \n",
       "2                      0                         0  \n",
       "3                      0                         0  \n",
       "4                      0                         0  \n",
       "...                  ...                       ...  \n",
       "20753                  0                         0  \n",
       "20754                  0                         0  \n",
       "20755                  0                         0  \n",
       "20756                  0                         0  \n",
       "20757                  1                         0  \n",
       "\n",
       "[20758 rows x 5 columns]"
      ]
     },
     "execution_count": 21,
     "metadata": {},
     "output_type": "execute_result"
    }
   ],
   "source": [
    "neigh_group_df"
   ]
  },
  {
   "cell_type": "markdown",
   "id": "0083c063-93ee-4d2a-aab3-63da468ca64b",
   "metadata": {},
   "source": [
    "#### Room type column\n",
    "The room type contains information on whether the listing was an entire home, a private room, a shared room, or a hotel room. This column was converted into dummy variables with One Hot Encoding. "
   ]
  },
  {
   "cell_type": "code",
   "execution_count": 22,
   "id": "640fd31d-3f1a-4ca2-981b-1e0e4fefe5cf",
   "metadata": {
    "colab": {},
    "colab_type": "code",
    "id": "1SfCdGpW5JKf",
    "outputId": "bfd32e86-0c9c-4a65-f07d-a3cdc06a634c",
    "tags": []
   },
   "outputs": [],
   "source": [
    "# instantiate the OneHotEncoder\n",
    "one_hot_encoder = OneHotEncoder(handle_unknown='ignore')\n",
    "\n",
    "# fit the OneHotEncoder to room type\n",
    "roomtype_encoded_array = one_hot_encoder.fit_transform(prep_airbnb[[\"room_type\"]])\n",
    "\n",
    "# convert from sparse matrix to dense\n",
    "roomtype_dense_array = roomtype_encoded_array.toarray()\n",
    "\n",
    "# add prefix to feature names\n",
    "feature_names = [f\"roomtype_{cat}\" for cat in one_hot_encoder.categories_[0]]\n",
    "\n",
    "# put into a dataframe \n",
    "roomtype_df = pd.DataFrame(roomtype_dense_array, columns=feature_names, dtype=int)\n"
   ]
  },
  {
   "cell_type": "code",
   "execution_count": 23,
   "id": "8d66d103-a6e1-4a8c-a0e9-9365959e1a14",
   "metadata": {
    "tags": []
   },
   "outputs": [
    {
     "data": {
      "text/html": [
       "<div>\n",
       "<style scoped>\n",
       "    .dataframe tbody tr th:only-of-type {\n",
       "        vertical-align: middle;\n",
       "    }\n",
       "\n",
       "    .dataframe tbody tr th {\n",
       "        vertical-align: top;\n",
       "    }\n",
       "\n",
       "    .dataframe thead th {\n",
       "        text-align: right;\n",
       "    }\n",
       "</style>\n",
       "<table border=\"1\" class=\"dataframe\">\n",
       "  <thead>\n",
       "    <tr style=\"text-align: right;\">\n",
       "      <th></th>\n",
       "      <th>roomtype_Entire home/apt</th>\n",
       "      <th>roomtype_Hotel room</th>\n",
       "      <th>roomtype_Private room</th>\n",
       "      <th>roomtype_Shared room</th>\n",
       "    </tr>\n",
       "  </thead>\n",
       "  <tbody>\n",
       "    <tr>\n",
       "      <th>0</th>\n",
       "      <td>0</td>\n",
       "      <td>0</td>\n",
       "      <td>1</td>\n",
       "      <td>0</td>\n",
       "    </tr>\n",
       "    <tr>\n",
       "      <th>1</th>\n",
       "      <td>1</td>\n",
       "      <td>0</td>\n",
       "      <td>0</td>\n",
       "      <td>0</td>\n",
       "    </tr>\n",
       "    <tr>\n",
       "      <th>2</th>\n",
       "      <td>1</td>\n",
       "      <td>0</td>\n",
       "      <td>0</td>\n",
       "      <td>0</td>\n",
       "    </tr>\n",
       "    <tr>\n",
       "      <th>3</th>\n",
       "      <td>0</td>\n",
       "      <td>0</td>\n",
       "      <td>1</td>\n",
       "      <td>0</td>\n",
       "    </tr>\n",
       "    <tr>\n",
       "      <th>4</th>\n",
       "      <td>1</td>\n",
       "      <td>0</td>\n",
       "      <td>0</td>\n",
       "      <td>0</td>\n",
       "    </tr>\n",
       "    <tr>\n",
       "      <th>...</th>\n",
       "      <td>...</td>\n",
       "      <td>...</td>\n",
       "      <td>...</td>\n",
       "      <td>...</td>\n",
       "    </tr>\n",
       "    <tr>\n",
       "      <th>20753</th>\n",
       "      <td>0</td>\n",
       "      <td>0</td>\n",
       "      <td>1</td>\n",
       "      <td>0</td>\n",
       "    </tr>\n",
       "    <tr>\n",
       "      <th>20754</th>\n",
       "      <td>1</td>\n",
       "      <td>0</td>\n",
       "      <td>0</td>\n",
       "      <td>0</td>\n",
       "    </tr>\n",
       "    <tr>\n",
       "      <th>20755</th>\n",
       "      <td>1</td>\n",
       "      <td>0</td>\n",
       "      <td>0</td>\n",
       "      <td>0</td>\n",
       "    </tr>\n",
       "    <tr>\n",
       "      <th>20756</th>\n",
       "      <td>1</td>\n",
       "      <td>0</td>\n",
       "      <td>0</td>\n",
       "      <td>0</td>\n",
       "    </tr>\n",
       "    <tr>\n",
       "      <th>20757</th>\n",
       "      <td>0</td>\n",
       "      <td>0</td>\n",
       "      <td>1</td>\n",
       "      <td>0</td>\n",
       "    </tr>\n",
       "  </tbody>\n",
       "</table>\n",
       "<p>20758 rows × 4 columns</p>\n",
       "</div>"
      ],
      "text/plain": [
       "       roomtype_Entire home/apt  roomtype_Hotel room  roomtype_Private room  \\\n",
       "0                             0                    0                      1   \n",
       "1                             1                    0                      0   \n",
       "2                             1                    0                      0   \n",
       "3                             0                    0                      1   \n",
       "4                             1                    0                      0   \n",
       "...                         ...                  ...                    ...   \n",
       "20753                         0                    0                      1   \n",
       "20754                         1                    0                      0   \n",
       "20755                         1                    0                      0   \n",
       "20756                         1                    0                      0   \n",
       "20757                         0                    0                      1   \n",
       "\n",
       "       roomtype_Shared room  \n",
       "0                         0  \n",
       "1                         0  \n",
       "2                         0  \n",
       "3                         0  \n",
       "4                         0  \n",
       "...                     ...  \n",
       "20753                     0  \n",
       "20754                     0  \n",
       "20755                     0  \n",
       "20756                     0  \n",
       "20757                     0  \n",
       "\n",
       "[20758 rows x 4 columns]"
      ]
     },
     "execution_count": 23,
     "metadata": {},
     "output_type": "execute_result"
    }
   ],
   "source": [
    "roomtype_df"
   ]
  },
  {
   "cell_type": "markdown",
   "id": "be2021d0-a0cb-4c2a-bb0d-8b75b4c177d9",
   "metadata": {},
   "source": [
    "#### License column\n",
    "The license column indicated whether a listing had \"No license,\" was license \"Exempt,\" or listed the property's license number. Since the individual license number had little predictive power on the listing price, it was grouped into one group called \"Has license.\" These groups were then One Hot Encoded. "
   ]
  },
  {
   "cell_type": "code",
   "execution_count": 24,
   "id": "6ca553da-de35-4dd1-88eb-7492c00e3fa9",
   "metadata": {
    "tags": []
   },
   "outputs": [
    {
     "data": {
      "text/plain": [
       "license\n",
       "No License            17569\n",
       "Exempt                 2135\n",
       "OSE-STRREG-0000068       14\n",
       "OSE-STRREG-0008664        6\n",
       "OSE-STRREG-0000437        6\n",
       "                      ...  \n",
       "OSE-STRREG-0000131        1\n",
       "OSE-STRREG-0000288        1\n",
       "OSE-STRREG-0000215        1\n",
       "OSE-STRREG-0000985        1\n",
       "OSE-STRREG-0000513        1\n",
       "Name: count, Length: 879, dtype: int64"
      ]
     },
     "execution_count": 24,
     "metadata": {},
     "output_type": "execute_result"
    }
   ],
   "source": [
    "prep_airbnb[\"license\"].value_counts()"
   ]
  },
  {
   "cell_type": "code",
   "execution_count": 25,
   "id": "ea9925e6-0280-4250-ad91-ef1b7ff70443",
   "metadata": {
    "tags": []
   },
   "outputs": [],
   "source": [
    "# create func to group license\n",
    "def group_license(license):\n",
    "    if license == \"No License\": \n",
    "        return \"No License\"\n",
    "    elif license == \"Exempt\":\n",
    "        return \"Exempt\"\n",
    "    else:\n",
    "        return \"Has License\""
   ]
  },
  {
   "cell_type": "code",
   "execution_count": 26,
   "id": "f8d8218a-b800-4f7c-9291-9cf7388a79a8",
   "metadata": {
    "tags": []
   },
   "outputs": [],
   "source": [
    "# apply func to license\n",
    "prep_airbnb[\"license\"] = prep_airbnb[\"license\"].apply(group_license)"
   ]
  },
  {
   "cell_type": "code",
   "execution_count": 27,
   "id": "f8f7c153-cac5-4693-844f-92c81149f44b",
   "metadata": {
    "colab": {},
    "colab_type": "code",
    "id": "1SfCdGpW5JKf",
    "outputId": "bfd32e86-0c9c-4a65-f07d-a3cdc06a634c",
    "tags": []
   },
   "outputs": [],
   "source": [
    "# instantiate the OneHotEncoder\n",
    "one_hot_encoder = OneHotEncoder(handle_unknown='ignore')\n",
    "\n",
    "# fit the OneHotEncoder to license\n",
    "license_encoded_array = one_hot_encoder.fit_transform(prep_airbnb[[\"license\"]])\n",
    "\n",
    "# convert from sparse matrix to dense\n",
    "license_dense_array = license_encoded_array.toarray()\n",
    "\n",
    "# add prefix to feature names\n",
    "feature_names = [f\"license_{cat}\" for cat in one_hot_encoder.categories_[0]]\n",
    "\n",
    "# put into a dataframe \n",
    "license_df = pd.DataFrame(license_dense_array, columns=feature_names, dtype=int)"
   ]
  },
  {
   "cell_type": "code",
   "execution_count": 28,
   "id": "5fdd748e-3f4a-44bf-a64f-ec9b1617462f",
   "metadata": {
    "tags": []
   },
   "outputs": [
    {
     "data": {
      "text/html": [
       "<div>\n",
       "<style scoped>\n",
       "    .dataframe tbody tr th:only-of-type {\n",
       "        vertical-align: middle;\n",
       "    }\n",
       "\n",
       "    .dataframe tbody tr th {\n",
       "        vertical-align: top;\n",
       "    }\n",
       "\n",
       "    .dataframe thead th {\n",
       "        text-align: right;\n",
       "    }\n",
       "</style>\n",
       "<table border=\"1\" class=\"dataframe\">\n",
       "  <thead>\n",
       "    <tr style=\"text-align: right;\">\n",
       "      <th></th>\n",
       "      <th>license_Exempt</th>\n",
       "      <th>license_Has License</th>\n",
       "      <th>license_No License</th>\n",
       "    </tr>\n",
       "  </thead>\n",
       "  <tbody>\n",
       "    <tr>\n",
       "      <th>0</th>\n",
       "      <td>0</td>\n",
       "      <td>0</td>\n",
       "      <td>1</td>\n",
       "    </tr>\n",
       "    <tr>\n",
       "      <th>1</th>\n",
       "      <td>0</td>\n",
       "      <td>0</td>\n",
       "      <td>1</td>\n",
       "    </tr>\n",
       "    <tr>\n",
       "      <th>2</th>\n",
       "      <td>1</td>\n",
       "      <td>0</td>\n",
       "      <td>0</td>\n",
       "    </tr>\n",
       "    <tr>\n",
       "      <th>3</th>\n",
       "      <td>0</td>\n",
       "      <td>0</td>\n",
       "      <td>1</td>\n",
       "    </tr>\n",
       "    <tr>\n",
       "      <th>4</th>\n",
       "      <td>0</td>\n",
       "      <td>0</td>\n",
       "      <td>1</td>\n",
       "    </tr>\n",
       "    <tr>\n",
       "      <th>...</th>\n",
       "      <td>...</td>\n",
       "      <td>...</td>\n",
       "      <td>...</td>\n",
       "    </tr>\n",
       "    <tr>\n",
       "      <th>20753</th>\n",
       "      <td>0</td>\n",
       "      <td>0</td>\n",
       "      <td>1</td>\n",
       "    </tr>\n",
       "    <tr>\n",
       "      <th>20754</th>\n",
       "      <td>0</td>\n",
       "      <td>0</td>\n",
       "      <td>1</td>\n",
       "    </tr>\n",
       "    <tr>\n",
       "      <th>20755</th>\n",
       "      <td>0</td>\n",
       "      <td>0</td>\n",
       "      <td>1</td>\n",
       "    </tr>\n",
       "    <tr>\n",
       "      <th>20756</th>\n",
       "      <td>0</td>\n",
       "      <td>0</td>\n",
       "      <td>1</td>\n",
       "    </tr>\n",
       "    <tr>\n",
       "      <th>20757</th>\n",
       "      <td>0</td>\n",
       "      <td>1</td>\n",
       "      <td>0</td>\n",
       "    </tr>\n",
       "  </tbody>\n",
       "</table>\n",
       "<p>20758 rows × 3 columns</p>\n",
       "</div>"
      ],
      "text/plain": [
       "       license_Exempt  license_Has License  license_No License\n",
       "0                   0                    0                   1\n",
       "1                   0                    0                   1\n",
       "2                   1                    0                   0\n",
       "3                   0                    0                   1\n",
       "4                   0                    0                   1\n",
       "...               ...                  ...                 ...\n",
       "20753               0                    0                   1\n",
       "20754               0                    0                   1\n",
       "20755               0                    0                   1\n",
       "20756               0                    0                   1\n",
       "20757               0                    1                   0\n",
       "\n",
       "[20758 rows x 3 columns]"
      ]
     },
     "execution_count": 28,
     "metadata": {},
     "output_type": "execute_result"
    }
   ],
   "source": [
    "license_df"
   ]
  },
  {
   "cell_type": "markdown",
   "id": "0246b7ae-2b4f-4a18-9987-a7606b7991a8",
   "metadata": {},
   "source": [
    "--------"
   ]
  },
  {
   "cell_type": "markdown",
   "id": "1f74d592-115b-43f8-9b9e-901966ddf106",
   "metadata": {
    "jp-MarkdownHeadingCollapsed": true,
    "tags": []
   },
   "source": [
    "### Finalize cleaned_airbnb dataframe for modeling"
   ]
  },
  {
   "cell_type": "markdown",
   "id": "7b8aa2e7-4a98-42c5-bebe-862950ef79fd",
   "metadata": {
    "tags": []
   },
   "source": [
    "A finalized cleaned_airbnb dataframe was assembled in preparation for modeling. The unneeded columns were dropped from the dataframe, and the OneHotEncoded dataframes containing the neighborhood group, room type, ratings, and license were concatenated. The finalized cleaned_airbnb dataframe contains 38 columns and all are either in integer or float format, ready for linear regression modeling."
   ]
  },
  {
   "cell_type": "code",
   "execution_count": 29,
   "id": "a7a97dad-0ff8-4cc9-baa6-2041a5fac61f",
   "metadata": {
    "tags": []
   },
   "outputs": [
    {
     "data": {
      "text/plain": [
       "Index(['id', 'name', 'host_id', 'host_name', 'neighbourhood_group',\n",
       "       'neighbourhood', 'latitude', 'longitude', 'room_type', 'price',\n",
       "       'minimum_nights', 'number_of_reviews', 'last_review',\n",
       "       'reviews_per_month', 'calculated_host_listings_count',\n",
       "       'availability_365', 'number_of_reviews_ltm', 'license', 'rating',\n",
       "       'bedrooms', 'beds', 'baths', 'month', 'ratings_bin',\n",
       "       'neighborhood_avgprice', 'last_review_month', 'last_review_year'],\n",
       "      dtype='object')"
      ]
     },
     "execution_count": 29,
     "metadata": {},
     "output_type": "execute_result"
    }
   ],
   "source": [
    "prep_airbnb.columns"
   ]
  },
  {
   "cell_type": "code",
   "execution_count": 30,
   "id": "e228beac-b22e-4888-bc6f-7da4779ed4ba",
   "metadata": {
    "tags": []
   },
   "outputs": [],
   "source": [
    "# create list of additional cols to drop after feature eng.\n",
    "cols_2drop_addt = ['neighbourhood_group', 'neighbourhood', 'room_type', 'last_review', 'license', 'rating', 'ratings_bin']\n",
    "\n",
    "# add to the original cols to drop\n",
    "cols_2drop.extend(cols_2drop_addt)"
   ]
  },
  {
   "cell_type": "code",
   "execution_count": 31,
   "id": "bf6adebd-fbd8-4853-914a-69046479b1ff",
   "metadata": {
    "tags": []
   },
   "outputs": [],
   "source": [
    "# create a copy called cleaned_airbnb to drop columns\n",
    "cleaned_airbnb = prep_airbnb.copy()"
   ]
  },
  {
   "cell_type": "code",
   "execution_count": 32,
   "id": "1c1b74b1-1b90-41d7-8f69-f3c0d8eefe63",
   "metadata": {
    "tags": []
   },
   "outputs": [],
   "source": [
    "# drop unneeded columns\n",
    "cleaned_airbnb = cleaned_airbnb.drop(columns=cols_2drop)"
   ]
  },
  {
   "cell_type": "code",
   "execution_count": 33,
   "id": "a8e73d3f-e373-4ac4-a03a-8b00badc1fa8",
   "metadata": {
    "tags": []
   },
   "outputs": [],
   "source": [
    "# add in the OneHotEncoded dfs\n",
    "cleaned_airbnb = pd.concat([cleaned_airbnb, neigh_group_df, roomtype_df, license_df, ratings_df], axis=1)"
   ]
  },
  {
   "cell_type": "code",
   "execution_count": 34,
   "id": "d138a4e3-e75d-4e25-91f9-22dcc5a1d709",
   "metadata": {
    "tags": []
   },
   "outputs": [
    {
     "name": "stdout",
     "output_type": "stream",
     "text": [
      "<class 'pandas.core.frame.DataFrame'>\n",
      "RangeIndex: 20758 entries, 0 to 20757\n",
      "Data columns (total 38 columns):\n",
      " #   Column                          Non-Null Count  Dtype  \n",
      "---  ------                          --------------  -----  \n",
      " 0   latitude                        20758 non-null  float64\n",
      " 1   longitude                       20758 non-null  float64\n",
      " 2   price                           20758 non-null  float64\n",
      " 3   minimum_nights                  20758 non-null  int64  \n",
      " 4   number_of_reviews               20758 non-null  int64  \n",
      " 5   reviews_per_month               20758 non-null  float64\n",
      " 6   calculated_host_listings_count  20758 non-null  int64  \n",
      " 7   availability_365                20758 non-null  int64  \n",
      " 8   number_of_reviews_ltm           20758 non-null  int64  \n",
      " 9   bedrooms                        20758 non-null  int64  \n",
      " 10  beds                            20758 non-null  int64  \n",
      " 11  baths                           20758 non-null  float64\n",
      " 12  month                           20758 non-null  int64  \n",
      " 13  neighborhood_avgprice           20758 non-null  float64\n",
      " 14  last_review_month               20758 non-null  int32  \n",
      " 15  last_review_year                20758 non-null  int32  \n",
      " 16  neighgroup_Bronx                20758 non-null  int64  \n",
      " 17  neighgroup_Brooklyn             20758 non-null  int64  \n",
      " 18  neighgroup_Manhattan            20758 non-null  int64  \n",
      " 19  neighgroup_Queens               20758 non-null  int64  \n",
      " 20  neighgroup_Staten Island        20758 non-null  int64  \n",
      " 21  roomtype_Entire home/apt        20758 non-null  int64  \n",
      " 22  roomtype_Hotel room             20758 non-null  int64  \n",
      " 23  roomtype_Private room           20758 non-null  int64  \n",
      " 24  roomtype_Shared room            20758 non-null  int64  \n",
      " 25  license_Exempt                  20758 non-null  int64  \n",
      " 26  license_Has License             20758 non-null  int64  \n",
      " 27  license_No License              20758 non-null  int64  \n",
      " 28  ratings_3.0                     20758 non-null  int64  \n",
      " 29  ratings_4.0                     20758 non-null  int64  \n",
      " 30  ratings_4.2                     20758 non-null  int64  \n",
      " 31  ratings_4.4                     20758 non-null  int64  \n",
      " 32  ratings_4.6                     20758 non-null  int64  \n",
      " 33  ratings_4.8                     20758 non-null  int64  \n",
      " 34  ratings_5                       20758 non-null  int64  \n",
      " 35  ratings_New                     20758 non-null  int64  \n",
      " 36  ratings_No rating               20758 non-null  int64  \n",
      " 37  ratings_less3                   20758 non-null  int64  \n",
      "dtypes: float64(6), int32(2), int64(30)\n",
      "memory usage: 5.9 MB\n"
     ]
    }
   ],
   "source": [
    "# check columns\n",
    "cleaned_airbnb.info()"
   ]
  },
  {
   "cell_type": "code",
   "execution_count": 35,
   "id": "67d973d0-89dd-4a55-aaa5-43efcb7beeb7",
   "metadata": {
    "tags": []
   },
   "outputs": [],
   "source": [
    "# write to csv to be easily accessed later\n",
    "cleaned_airbnb.to_csv(\"../data/cleaned_airbnb.csv\", index=False)"
   ]
  },
  {
   "cell_type": "markdown",
   "id": "f6bd6297-8210-445e-894b-059fc4ddf36d",
   "metadata": {},
   "source": [
    "__________________"
   ]
  }
 ],
 "metadata": {
  "kernelspec": {
   "display_name": "Python 3 (ipykernel)",
   "language": "python",
   "name": "python3"
  },
  "language_info": {
   "codemirror_mode": {
    "name": "ipython",
    "version": 3
   },
   "file_extension": ".py",
   "mimetype": "text/x-python",
   "name": "python",
   "nbconvert_exporter": "python",
   "pygments_lexer": "ipython3",
   "version": "3.11.5"
  }
 },
 "nbformat": 4,
 "nbformat_minor": 5
}
