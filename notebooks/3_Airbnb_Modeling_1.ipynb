{
 "cells": [
  {
   "cell_type": "markdown",
   "id": "2574470e-e6d7-4471-8bf6-330e758c15d9",
   "metadata": {
    "tags": []
   },
   "source": [
    "# S3: AirBnb NYC 2024 Listings\n",
    "by: Tam Trinh           \n",
    "April 6, 2025         "
   ]
  },
  {
   "cell_type": "markdown",
   "id": "0510d005-5b83-4e24-b898-c24ea1e62d4a",
   "metadata": {
    "tags": []
   },
   "source": [
    "<a id=\"0\"></a> <br>\n",
    "## Table of Contents  \n",
    "\n",
    "- [Set-up and Load Data](#1) \n",
    "- [Part 3: Modeling](#2) \n",
    "    - [Linear Regression](#3) \n",
    "    - [XGBoost](#4)\n",
    "    - [Random Forest](#5) "
   ]
  },
  {
   "cell_type": "markdown",
   "id": "9bd5170e-5e4d-4e0a-8268-edc017ba4f8a",
   "metadata": {
    "jp-MarkdownHeadingCollapsed": true,
    "tags": []
   },
   "source": [
    "<a id=\"1\n",
    "       \"></a>\n",
    "## Set-up and Load Data"
   ]
  },
  {
   "cell_type": "code",
   "execution_count": 1,
   "id": "ecec72af-b297-497b-8c40-fbd6df1080f1",
   "metadata": {
    "tags": []
   },
   "outputs": [],
   "source": [
    "# imports for functionality and plotting\n",
    "import numpy as np\n",
    "import pandas as pd\n",
    "import matplotlib.pyplot as plt\n",
    "import seaborn as sns\n",
    "\n",
    "# optional imports\n",
    "import warnings\n",
    "import pickle\n",
    "\n",
    "# imports for preprocessing\n",
    "from sklearn.preprocessing import OneHotEncoder\n",
    "from sklearn.preprocessing import StandardScaler\n",
    "from sklearn.decomposition import PCA\n",
    "\n",
    "# imports for modeling\n",
    "from sklearn.model_selection import train_test_split\n",
    "from sklearn.pipeline import Pipeline\n",
    "from tempfile import mkdtemp\n",
    "from sklearn.model_selection import GridSearchCV\n",
    "from sklearn.linear_model import LinearRegression\n",
    "from sklearn.ensemble import RandomForestRegressor\n",
    "from xgboost import XGBRegressor\n",
    "\n",
    "# imports for model metrics\n",
    "from sklearn.metrics import mean_squared_error\n",
    "from sklearn.metrics import mean_absolute_error\n",
    "from sklearn.inspection import permutation_importance"
   ]
  },
  {
   "cell_type": "code",
   "execution_count": 2,
   "id": "794e0583-0a1c-4fec-92c6-589b71814538",
   "metadata": {
    "tags": []
   },
   "outputs": [],
   "source": [
    "# ignore warnings\n",
    "from warnings import filterwarnings\n",
    "warnings.filterwarnings('ignore')"
   ]
  },
  {
   "cell_type": "code",
   "execution_count": 3,
   "id": "d805b444-b032-48cd-980d-b627fa2e96d5",
   "metadata": {
    "tags": []
   },
   "outputs": [],
   "source": [
    "# load original dataset\n",
    "airbnb_df = pd.read_csv(\"../data/new_york_listings_2024.csv\")\n",
    "\n",
    "# load dataset from previous notebook\n",
    "cleaned_airbnb = pd.read_csv(\"../data/cleaned_airbnb.csv\")"
   ]
  },
  {
   "cell_type": "markdown",
   "id": "f6bd6297-8210-445e-894b-059fc4ddf36d",
   "metadata": {},
   "source": [
    "__________________"
   ]
  },
  {
   "cell_type": "markdown",
   "id": "630eb708-cd46-43b9-8495-0848978a1279",
   "metadata": {
    "tags": []
   },
   "source": [
    "<a id=\"2\"></a>\n",
    "## Part 3: Modeling"
   ]
  },
  {
   "cell_type": "markdown",
   "id": "8b324868-1286-45af-8c46-93b6469ed8c0",
   "metadata": {
    "jp-MarkdownHeadingCollapsed": true,
    "tags": []
   },
   "source": [
    "### Modeling Prep"
   ]
  },
  {
   "cell_type": "markdown",
   "id": "af41d98b-72a8-47cd-819e-9a228d336286",
   "metadata": {
    "tags": []
   },
   "source": [
    "#### Train/test split"
   ]
  },
  {
   "cell_type": "code",
   "execution_count": 4,
   "id": "ac4e2060-694a-49a8-8e37-986f70625bde",
   "metadata": {
    "tags": []
   },
   "outputs": [],
   "source": [
    "# split the data into train and test sets\n",
    "X = cleaned_airbnb.loc[:, cleaned_airbnb.columns != \"price\"]\n",
    "y = cleaned_airbnb[\"price\"]\n",
    "\n",
    "X_train, X_test, y_train, y_test = train_test_split(X, y, test_size=0.2, random_state=1)"
   ]
  },
  {
   "cell_type": "code",
   "execution_count": 5,
   "id": "7d78adac-fef1-4a97-86db-084295b4f0b7",
   "metadata": {
    "tags": []
   },
   "outputs": [],
   "source": [
    "# optional:\n",
    "\n",
    "# # sample for quicker test runs\n",
    "# sample_airbnb = cleaned_airbnb.sample(n=5000, random_state=1)\n",
    "\n",
    "# # split the data into train and test sets\n",
    "# X = sample_airbnb.loc[:, sample_airbnb.columns != \"price\"]\n",
    "# y = sample_airbnb[\"price\"]\n",
    "\n",
    "# X_train, X_test, y_train, y_test = train_test_split(X, y, test_size=0.2, random_state=1)"
   ]
  },
  {
   "cell_type": "markdown",
   "id": "6833ebb3-150a-44e8-9bf7-423b5f95d210",
   "metadata": {
    "tags": []
   },
   "source": [
    "#### Create functions for modeling interpretation"
   ]
  },
  {
   "cell_type": "code",
   "execution_count": 6,
   "id": "56617b13-b75e-401c-b495-e1a2f212060b",
   "metadata": {
    "tags": []
   },
   "outputs": [],
   "source": [
    "def score_r2_rmse_mae(model):\n",
    "    \"\"\"A function that prints the R^2 scores for the Train and Test set, RMSE, and MAE scores.\n",
    "    \"\"\"\n",
    "\n",
    "    # print train and test R^2 scores\n",
    "    print(f\"Train score: {model.score(X_train, y_train)}\")\n",
    "    print(f\"Test score: {model.score(X_test, y_test)}\")\n",
    "\n",
    "    # make array of y_pred\n",
    "    y_pred = model.predict(X_test)\n",
    "\n",
    "    # Calculate RMSE\n",
    "    mse = mean_squared_error(y_test, y_pred)\n",
    "    rmse = np.sqrt(mse)\n",
    "    print(\"RMSE:\", rmse)\n",
    "\n",
    "    # Calculate MAE\n",
    "    mae = mean_absolute_error(y_test, y_pred)\n",
    "    print(\"MAE:\", mae)"
   ]
  },
  {
   "cell_type": "code",
   "execution_count": 7,
   "id": "ecd70f70-eeb1-4871-9fbd-2caf765acea3",
   "metadata": {
    "tags": []
   },
   "outputs": [],
   "source": [
    "def truevspred_y(model, X_test, y_test):\n",
    "    \"\"\"A function that returns a pointer to a dataframe containing the true y values, the predicted y values, and the difference between them. \n",
    "    \"\"\"\n",
    "\n",
    "    # get y_pred vals\n",
    "    y_pred = model.predict(X_test)\n",
    "\n",
    "    # create df\n",
    "    truevspred = pd.DataFrame({\"True_y\": y_test, \"Pred_y\": y_pred, \"Diff\": (y_test - y_pred)})\n",
    "\n",
    "    return truevspred_y"
   ]
  },
  {
   "cell_type": "markdown",
   "id": "9b2c74ad-edf8-45a6-af28-b23404a28c1a",
   "metadata": {
    "jp-MarkdownHeadingCollapsed": true,
    "tags": []
   },
   "source": [
    "<a id=\"3\"></a>\n",
    "### Linear Regression Modeling"
   ]
  },
  {
   "cell_type": "markdown",
   "id": "28a8ed33-0149-46d2-abe3-42aa8045d5a5",
   "metadata": {},
   "source": [
    "#### Fit initial linear regression model"
   ]
  },
  {
   "cell_type": "code",
   "execution_count": 8,
   "id": "e8c1c37b-e96c-407b-8998-d3a389c92544",
   "metadata": {
    "tags": []
   },
   "outputs": [
    {
     "data": {
      "text/html": [
       "<style>#sk-container-id-1 {color: black;}#sk-container-id-1 pre{padding: 0;}#sk-container-id-1 div.sk-toggleable {background-color: white;}#sk-container-id-1 label.sk-toggleable__label {cursor: pointer;display: block;width: 100%;margin-bottom: 0;padding: 0.3em;box-sizing: border-box;text-align: center;}#sk-container-id-1 label.sk-toggleable__label-arrow:before {content: \"▸\";float: left;margin-right: 0.25em;color: #696969;}#sk-container-id-1 label.sk-toggleable__label-arrow:hover:before {color: black;}#sk-container-id-1 div.sk-estimator:hover label.sk-toggleable__label-arrow:before {color: black;}#sk-container-id-1 div.sk-toggleable__content {max-height: 0;max-width: 0;overflow: hidden;text-align: left;background-color: #f0f8ff;}#sk-container-id-1 div.sk-toggleable__content pre {margin: 0.2em;color: black;border-radius: 0.25em;background-color: #f0f8ff;}#sk-container-id-1 input.sk-toggleable__control:checked~div.sk-toggleable__content {max-height: 200px;max-width: 100%;overflow: auto;}#sk-container-id-1 input.sk-toggleable__control:checked~label.sk-toggleable__label-arrow:before {content: \"▾\";}#sk-container-id-1 div.sk-estimator input.sk-toggleable__control:checked~label.sk-toggleable__label {background-color: #d4ebff;}#sk-container-id-1 div.sk-label input.sk-toggleable__control:checked~label.sk-toggleable__label {background-color: #d4ebff;}#sk-container-id-1 input.sk-hidden--visually {border: 0;clip: rect(1px 1px 1px 1px);clip: rect(1px, 1px, 1px, 1px);height: 1px;margin: -1px;overflow: hidden;padding: 0;position: absolute;width: 1px;}#sk-container-id-1 div.sk-estimator {font-family: monospace;background-color: #f0f8ff;border: 1px dotted black;border-radius: 0.25em;box-sizing: border-box;margin-bottom: 0.5em;}#sk-container-id-1 div.sk-estimator:hover {background-color: #d4ebff;}#sk-container-id-1 div.sk-parallel-item::after {content: \"\";width: 100%;border-bottom: 1px solid gray;flex-grow: 1;}#sk-container-id-1 div.sk-label:hover label.sk-toggleable__label {background-color: #d4ebff;}#sk-container-id-1 div.sk-serial::before {content: \"\";position: absolute;border-left: 1px solid gray;box-sizing: border-box;top: 0;bottom: 0;left: 50%;z-index: 0;}#sk-container-id-1 div.sk-serial {display: flex;flex-direction: column;align-items: center;background-color: white;padding-right: 0.2em;padding-left: 0.2em;position: relative;}#sk-container-id-1 div.sk-item {position: relative;z-index: 1;}#sk-container-id-1 div.sk-parallel {display: flex;align-items: stretch;justify-content: center;background-color: white;position: relative;}#sk-container-id-1 div.sk-item::before, #sk-container-id-1 div.sk-parallel-item::before {content: \"\";position: absolute;border-left: 1px solid gray;box-sizing: border-box;top: 0;bottom: 0;left: 50%;z-index: -1;}#sk-container-id-1 div.sk-parallel-item {display: flex;flex-direction: column;z-index: 1;position: relative;background-color: white;}#sk-container-id-1 div.sk-parallel-item:first-child::after {align-self: flex-end;width: 50%;}#sk-container-id-1 div.sk-parallel-item:last-child::after {align-self: flex-start;width: 50%;}#sk-container-id-1 div.sk-parallel-item:only-child::after {width: 0;}#sk-container-id-1 div.sk-dashed-wrapped {border: 1px dashed gray;margin: 0 0.4em 0.5em 0.4em;box-sizing: border-box;padding-bottom: 0.4em;background-color: white;}#sk-container-id-1 div.sk-label label {font-family: monospace;font-weight: bold;display: inline-block;line-height: 1.2em;}#sk-container-id-1 div.sk-label-container {text-align: center;}#sk-container-id-1 div.sk-container {/* jupyter's `normalize.less` sets `[hidden] { display: none; }` but bootstrap.min.css set `[hidden] { display: none !important; }` so we also need the `!important` here to be able to override the default hidden behavior on the sphinx rendered scikit-learn.org. See: https://github.com/scikit-learn/scikit-learn/issues/21755 */display: inline-block !important;position: relative;}#sk-container-id-1 div.sk-text-repr-fallback {display: none;}</style><div id=\"sk-container-id-1\" class=\"sk-top-container\"><div class=\"sk-text-repr-fallback\"><pre>LinearRegression()</pre><b>In a Jupyter environment, please rerun this cell to show the HTML representation or trust the notebook. <br />On GitHub, the HTML representation is unable to render, please try loading this page with nbviewer.org.</b></div><div class=\"sk-container\" hidden><div class=\"sk-item\"><div class=\"sk-estimator sk-toggleable\"><input class=\"sk-toggleable__control sk-hidden--visually\" id=\"sk-estimator-id-1\" type=\"checkbox\" checked><label for=\"sk-estimator-id-1\" class=\"sk-toggleable__label sk-toggleable__label-arrow\">LinearRegression</label><div class=\"sk-toggleable__content\"><pre>LinearRegression()</pre></div></div></div></div></div>"
      ],
      "text/plain": [
       "LinearRegression()"
      ]
     },
     "execution_count": 8,
     "metadata": {},
     "output_type": "execute_result"
    }
   ],
   "source": [
    "# initialize linear regression model\n",
    "linreg = LinearRegression()\n",
    "\n",
    "# fit logistic regression model to xtrain\n",
    "linreg.fit(X_train, y_train)"
   ]
  },
  {
   "cell_type": "code",
   "execution_count": 9,
   "id": "b3927762-e581-4794-9a38-37d667fec6f3",
   "metadata": {
    "tags": []
   },
   "outputs": [
    {
     "name": "stdout",
     "output_type": "stream",
     "text": [
      "Train score: 0.011133861555947533\n",
      "Test score: 0.1191020111675285\n",
      "RMSE: 286.5922181533423\n",
      "MAE: 105.97546382801335\n"
     ]
    }
   ],
   "source": [
    "# find scores\n",
    "score_r2_rmse_mae(linreg)"
   ]
  },
  {
   "cell_type": "markdown",
   "id": "78b18703-19d4-43de-9f9f-32795d065c88",
   "metadata": {},
   "source": [
    "An initial testing of a linear regression model is performed to poor results. Surprisingly, the test score performed better than the train score."
   ]
  },
  {
   "cell_type": "markdown",
   "id": "de4b0898-1aca-42d9-87b8-0bad6fa059a1",
   "metadata": {},
   "source": [
    "#### Feature Coefficients"
   ]
  },
  {
   "cell_type": "code",
   "execution_count": 10,
   "id": "20f6fb83-23da-412e-869b-fb3bf341ddba",
   "metadata": {
    "tags": []
   },
   "outputs": [],
   "source": [
    "linreg_coef = pd.Series(linreg.coef_, index=X_test.columns)"
   ]
  },
  {
   "cell_type": "code",
   "execution_count": 11,
   "id": "1eb03bb4-7d19-4903-8cbf-fdb64c81990f",
   "metadata": {
    "tags": []
   },
   "outputs": [
    {
     "data": {
      "text/plain": [
       "latitude                          258.852537\n",
       "ratings_4.2                       121.520250\n",
       "roomtype_Hotel room                82.599852\n",
       "baths                              66.678907\n",
       "ratings_4.4                        50.789596\n",
       "bedrooms                           47.826466\n",
       "license_Exempt                     29.750255\n",
       "ratings_5                          20.331999\n",
       "neighgroup_Brooklyn                18.141713\n",
       "beds                               15.728344\n",
       "neighgroup_Queens                  10.997759\n",
       "ratings_4.8                         9.064060\n",
       "neighgroup_Staten Island            3.915155\n",
       "neighborhood_avgprice               0.986480\n",
       "number_of_reviews_ltm               0.218378\n",
       "availability_365                    0.207069\n",
       "minimum_nights                     -0.080814\n",
       "number_of_reviews                  -0.089800\n",
       "calculated_host_listings_count     -0.149406\n",
       "license_Has License                -1.275154\n",
       "month                              -1.466603\n",
       "last_review_month                  -1.466603\n",
       "ratings_3.0                        -3.156139\n",
       "reviews_per_month                  -5.737657\n",
       "ratings_4.6                       -12.634232\n",
       "neighgroup_Manhattan              -12.819409\n",
       "last_review_year                  -14.298473\n",
       "ratings_No rating                 -14.454960\n",
       "neighgroup_Bronx                  -20.235218\n",
       "roomtype_Entire home/apt          -20.336559\n",
       "roomtype_Shared room              -25.346635\n",
       "license_No License                -28.475101\n",
       "roomtype_Private room             -36.916658\n",
       "ratings_New                       -44.601075\n",
       "ratings_4.0                       -46.480750\n",
       "ratings_less3                     -80.378748\n",
       "longitude                         -91.631327\n",
       "dtype: float64"
      ]
     },
     "execution_count": 11,
     "metadata": {},
     "output_type": "execute_result"
    }
   ],
   "source": [
    "linreg_coef.sort_values(ascending=False)"
   ]
  },
  {
   "cell_type": "markdown",
   "id": "166a051f-34b3-493f-95b8-a3df2f6227b0",
   "metadata": {},
   "source": [
    "The features with the highest coefficients were latitude, rating of 4.0-4.2, and having a Hotel roomtype. With every increase in latitude correlating with about $259 increase in the nightly rate of the listing. This shows that location can be very important for this analysis."
   ]
  },
  {
   "cell_type": "markdown",
   "id": "89a8a054-1e42-48f7-835a-fcaca2e50231",
   "metadata": {},
   "source": [
    "#### Set-up pipeline and gridsearch"
   ]
  },
  {
   "cell_type": "code",
   "execution_count": 12,
   "id": "bfe382ce-1bb1-47fe-a078-752e0af2c8ed",
   "metadata": {
    "tags": []
   },
   "outputs": [],
   "source": [
    "estimators = [(\"scaler\", StandardScaler()),\n",
    "              (\"pca\", PCA()),\n",
    "              ('linreg', LinearRegression())]\n",
    "\n",
    "cachedir = mkdtemp()\n",
    "pipe = Pipeline(estimators, memory=cachedir)\n",
    "\n",
    "params = {\"scaler\": [StandardScaler(), None], \n",
    "          \"pca__n_components\": [5, 10, 20,]\n",
    "}\n",
    "\n",
    "grid_search = GridSearchCV(pipe, param_grid=params, cv=5)\n"
   ]
  },
  {
   "cell_type": "markdown",
   "id": "9065f09d-55e3-4d5e-891b-9c7e0e8dbac6",
   "metadata": {},
   "source": [
    "A pipeline and gridsearch structure is built to run the model through. The StandardScaler, PCA, and Linear Regression were used. "
   ]
  },
  {
   "cell_type": "markdown",
   "id": "766d56ea-6120-4eb3-ad49-224de629d62c",
   "metadata": {},
   "source": [
    "#### Fit the gridsearch best fit model"
   ]
  },
  {
   "cell_type": "code",
   "execution_count": 13,
   "id": "8462c1ec-51e8-4a1a-a971-0142cb06cd07",
   "metadata": {
    "tags": []
   },
   "outputs": [
    {
     "data": {
      "text/html": [
       "<style>#sk-container-id-2 {color: black;}#sk-container-id-2 pre{padding: 0;}#sk-container-id-2 div.sk-toggleable {background-color: white;}#sk-container-id-2 label.sk-toggleable__label {cursor: pointer;display: block;width: 100%;margin-bottom: 0;padding: 0.3em;box-sizing: border-box;text-align: center;}#sk-container-id-2 label.sk-toggleable__label-arrow:before {content: \"▸\";float: left;margin-right: 0.25em;color: #696969;}#sk-container-id-2 label.sk-toggleable__label-arrow:hover:before {color: black;}#sk-container-id-2 div.sk-estimator:hover label.sk-toggleable__label-arrow:before {color: black;}#sk-container-id-2 div.sk-toggleable__content {max-height: 0;max-width: 0;overflow: hidden;text-align: left;background-color: #f0f8ff;}#sk-container-id-2 div.sk-toggleable__content pre {margin: 0.2em;color: black;border-radius: 0.25em;background-color: #f0f8ff;}#sk-container-id-2 input.sk-toggleable__control:checked~div.sk-toggleable__content {max-height: 200px;max-width: 100%;overflow: auto;}#sk-container-id-2 input.sk-toggleable__control:checked~label.sk-toggleable__label-arrow:before {content: \"▾\";}#sk-container-id-2 div.sk-estimator input.sk-toggleable__control:checked~label.sk-toggleable__label {background-color: #d4ebff;}#sk-container-id-2 div.sk-label input.sk-toggleable__control:checked~label.sk-toggleable__label {background-color: #d4ebff;}#sk-container-id-2 input.sk-hidden--visually {border: 0;clip: rect(1px 1px 1px 1px);clip: rect(1px, 1px, 1px, 1px);height: 1px;margin: -1px;overflow: hidden;padding: 0;position: absolute;width: 1px;}#sk-container-id-2 div.sk-estimator {font-family: monospace;background-color: #f0f8ff;border: 1px dotted black;border-radius: 0.25em;box-sizing: border-box;margin-bottom: 0.5em;}#sk-container-id-2 div.sk-estimator:hover {background-color: #d4ebff;}#sk-container-id-2 div.sk-parallel-item::after {content: \"\";width: 100%;border-bottom: 1px solid gray;flex-grow: 1;}#sk-container-id-2 div.sk-label:hover label.sk-toggleable__label {background-color: #d4ebff;}#sk-container-id-2 div.sk-serial::before {content: \"\";position: absolute;border-left: 1px solid gray;box-sizing: border-box;top: 0;bottom: 0;left: 50%;z-index: 0;}#sk-container-id-2 div.sk-serial {display: flex;flex-direction: column;align-items: center;background-color: white;padding-right: 0.2em;padding-left: 0.2em;position: relative;}#sk-container-id-2 div.sk-item {position: relative;z-index: 1;}#sk-container-id-2 div.sk-parallel {display: flex;align-items: stretch;justify-content: center;background-color: white;position: relative;}#sk-container-id-2 div.sk-item::before, #sk-container-id-2 div.sk-parallel-item::before {content: \"\";position: absolute;border-left: 1px solid gray;box-sizing: border-box;top: 0;bottom: 0;left: 50%;z-index: -1;}#sk-container-id-2 div.sk-parallel-item {display: flex;flex-direction: column;z-index: 1;position: relative;background-color: white;}#sk-container-id-2 div.sk-parallel-item:first-child::after {align-self: flex-end;width: 50%;}#sk-container-id-2 div.sk-parallel-item:last-child::after {align-self: flex-start;width: 50%;}#sk-container-id-2 div.sk-parallel-item:only-child::after {width: 0;}#sk-container-id-2 div.sk-dashed-wrapped {border: 1px dashed gray;margin: 0 0.4em 0.5em 0.4em;box-sizing: border-box;padding-bottom: 0.4em;background-color: white;}#sk-container-id-2 div.sk-label label {font-family: monospace;font-weight: bold;display: inline-block;line-height: 1.2em;}#sk-container-id-2 div.sk-label-container {text-align: center;}#sk-container-id-2 div.sk-container {/* jupyter's `normalize.less` sets `[hidden] { display: none; }` but bootstrap.min.css set `[hidden] { display: none !important; }` so we also need the `!important` here to be able to override the default hidden behavior on the sphinx rendered scikit-learn.org. See: https://github.com/scikit-learn/scikit-learn/issues/21755 */display: inline-block !important;position: relative;}#sk-container-id-2 div.sk-text-repr-fallback {display: none;}</style><div id=\"sk-container-id-2\" class=\"sk-top-container\"><div class=\"sk-text-repr-fallback\"><pre>Pipeline(memory=&#x27;/var/folders/s2/vdwvjj2j24d4tg5yz10ycr080000gn/T/tmpybp0ewjd&#x27;,\n",
       "         steps=[(&#x27;scaler&#x27;, StandardScaler()), (&#x27;pca&#x27;, PCA(n_components=10)),\n",
       "                (&#x27;linreg&#x27;, LinearRegression())])</pre><b>In a Jupyter environment, please rerun this cell to show the HTML representation or trust the notebook. <br />On GitHub, the HTML representation is unable to render, please try loading this page with nbviewer.org.</b></div><div class=\"sk-container\" hidden><div class=\"sk-item sk-dashed-wrapped\"><div class=\"sk-label-container\"><div class=\"sk-label sk-toggleable\"><input class=\"sk-toggleable__control sk-hidden--visually\" id=\"sk-estimator-id-2\" type=\"checkbox\" ><label for=\"sk-estimator-id-2\" class=\"sk-toggleable__label sk-toggleable__label-arrow\">Pipeline</label><div class=\"sk-toggleable__content\"><pre>Pipeline(memory=&#x27;/var/folders/s2/vdwvjj2j24d4tg5yz10ycr080000gn/T/tmpybp0ewjd&#x27;,\n",
       "         steps=[(&#x27;scaler&#x27;, StandardScaler()), (&#x27;pca&#x27;, PCA(n_components=10)),\n",
       "                (&#x27;linreg&#x27;, LinearRegression())])</pre></div></div></div><div class=\"sk-serial\"><div class=\"sk-item\"><div class=\"sk-estimator sk-toggleable\"><input class=\"sk-toggleable__control sk-hidden--visually\" id=\"sk-estimator-id-3\" type=\"checkbox\" ><label for=\"sk-estimator-id-3\" class=\"sk-toggleable__label sk-toggleable__label-arrow\">StandardScaler</label><div class=\"sk-toggleable__content\"><pre>StandardScaler()</pre></div></div></div><div class=\"sk-item\"><div class=\"sk-estimator sk-toggleable\"><input class=\"sk-toggleable__control sk-hidden--visually\" id=\"sk-estimator-id-4\" type=\"checkbox\" ><label for=\"sk-estimator-id-4\" class=\"sk-toggleable__label sk-toggleable__label-arrow\">PCA</label><div class=\"sk-toggleable__content\"><pre>PCA(n_components=10)</pre></div></div></div><div class=\"sk-item\"><div class=\"sk-estimator sk-toggleable\"><input class=\"sk-toggleable__control sk-hidden--visually\" id=\"sk-estimator-id-5\" type=\"checkbox\" ><label for=\"sk-estimator-id-5\" class=\"sk-toggleable__label sk-toggleable__label-arrow\">LinearRegression</label><div class=\"sk-toggleable__content\"><pre>LinearRegression()</pre></div></div></div></div></div></div></div>"
      ],
      "text/plain": [
       "Pipeline(memory='/var/folders/s2/vdwvjj2j24d4tg5yz10ycr080000gn/T/tmpybp0ewjd',\n",
       "         steps=[('scaler', StandardScaler()), ('pca', PCA(n_components=10)),\n",
       "                ('linreg', LinearRegression())])"
      ]
     },
     "execution_count": 13,
     "metadata": {},
     "output_type": "execute_result"
    }
   ],
   "source": [
    "linreg_best = grid_search.fit(X_train, y_train)\n",
    "\n",
    "linreg_best.best_estimator_"
   ]
  },
  {
   "cell_type": "code",
   "execution_count": 14,
   "id": "debe9da2-0cb0-4c0a-a752-49cc98706372",
   "metadata": {
    "tags": []
   },
   "outputs": [
    {
     "name": "stdout",
     "output_type": "stream",
     "text": [
      "The best fit scaler is: StandardScaler()\n",
      "The best fit number of PCA components is: PCA(n_components=10)\n",
      "The best fit model is: LinearRegression()\n"
     ]
    }
   ],
   "source": [
    "print(f\"The best fit scaler is: {linreg_best.best_estimator_[0]}\")\n",
    "print(f\"The best fit number of PCA components is: {linreg_best.best_estimator_[1]}\")\n",
    "print(f\"The best fit model is: {linreg_best.best_estimator_[2]}\")"
   ]
  },
  {
   "cell_type": "code",
   "execution_count": 15,
   "id": "692f77cf-f880-4f85-92d0-51c375984477",
   "metadata": {
    "tags": []
   },
   "outputs": [
    {
     "name": "stdout",
     "output_type": "stream",
     "text": [
      "Train score: 0.007711198349112158\n",
      "Test score: 0.13147216874336976\n",
      "RMSE: 284.57284412255814\n",
      "MAE: 96.83693208037403\n"
     ]
    }
   ],
   "source": [
    "# find scores\n",
    "score_r2_rmse_mae(linreg_best)"
   ]
  },
  {
   "cell_type": "markdown",
   "id": "adf3a66c-44bf-44a5-91ad-3feb061383c1",
   "metadata": {},
   "source": [
    "The gridsearch parameters improved the test score from 0.12 to 0.13, being able to explain 13% of the price information. For the gridsearch the StandardScaler performed better than no scaler, and PCA 10 components performed the best. Since the lowest number of PCA performed the best, this can indicate that the features might not be helping with the price prediction. Perhaps they are not linearly correlated with price. Furthur analysis can look into non-linear relationship modeling. "
   ]
  },
  {
   "cell_type": "code",
   "execution_count": 16,
   "id": "a83360ac-dc17-4825-aa46-1854f5ded163",
   "metadata": {},
   "outputs": [
    {
     "data": {
      "text/html": [
       "<div>\n",
       "<style scoped>\n",
       "    .dataframe tbody tr th:only-of-type {\n",
       "        vertical-align: middle;\n",
       "    }\n",
       "\n",
       "    .dataframe tbody tr th {\n",
       "        vertical-align: top;\n",
       "    }\n",
       "\n",
       "    .dataframe thead th {\n",
       "        text-align: right;\n",
       "    }\n",
       "</style>\n",
       "<table border=\"1\" class=\"dataframe\">\n",
       "  <thead>\n",
       "    <tr style=\"text-align: right;\">\n",
       "      <th></th>\n",
       "      <th>True_y</th>\n",
       "      <th>Pred_y</th>\n",
       "      <th>Diff</th>\n",
       "    </tr>\n",
       "  </thead>\n",
       "  <tbody>\n",
       "    <tr>\n",
       "      <th>17392</th>\n",
       "      <td>165.0</td>\n",
       "      <td>274.430948</td>\n",
       "      <td>-109.430948</td>\n",
       "    </tr>\n",
       "    <tr>\n",
       "      <th>14299</th>\n",
       "      <td>225.0</td>\n",
       "      <td>146.923272</td>\n",
       "      <td>78.076728</td>\n",
       "    </tr>\n",
       "    <tr>\n",
       "      <th>14753</th>\n",
       "      <td>112.0</td>\n",
       "      <td>228.738736</td>\n",
       "      <td>-116.738736</td>\n",
       "    </tr>\n",
       "    <tr>\n",
       "      <th>15306</th>\n",
       "      <td>200.0</td>\n",
       "      <td>217.483800</td>\n",
       "      <td>-17.483800</td>\n",
       "    </tr>\n",
       "    <tr>\n",
       "      <th>16482</th>\n",
       "      <td>48.0</td>\n",
       "      <td>57.122120</td>\n",
       "      <td>-9.122120</td>\n",
       "    </tr>\n",
       "    <tr>\n",
       "      <th>...</th>\n",
       "      <td>...</td>\n",
       "      <td>...</td>\n",
       "      <td>...</td>\n",
       "    </tr>\n",
       "    <tr>\n",
       "      <th>13289</th>\n",
       "      <td>149.0</td>\n",
       "      <td>205.724250</td>\n",
       "      <td>-56.724250</td>\n",
       "    </tr>\n",
       "    <tr>\n",
       "      <th>11555</th>\n",
       "      <td>254.0</td>\n",
       "      <td>240.936077</td>\n",
       "      <td>13.063923</td>\n",
       "    </tr>\n",
       "    <tr>\n",
       "      <th>10644</th>\n",
       "      <td>166.0</td>\n",
       "      <td>-12.523610</td>\n",
       "      <td>178.523610</td>\n",
       "    </tr>\n",
       "    <tr>\n",
       "      <th>49</th>\n",
       "      <td>1000.0</td>\n",
       "      <td>411.076640</td>\n",
       "      <td>588.923360</td>\n",
       "    </tr>\n",
       "    <tr>\n",
       "      <th>13704</th>\n",
       "      <td>400.0</td>\n",
       "      <td>280.324172</td>\n",
       "      <td>119.675828</td>\n",
       "    </tr>\n",
       "  </tbody>\n",
       "</table>\n",
       "<p>4152 rows × 3 columns</p>\n",
       "</div>"
      ],
      "text/plain": [
       "       True_y      Pred_y        Diff\n",
       "17392   165.0  274.430948 -109.430948\n",
       "14299   225.0  146.923272   78.076728\n",
       "14753   112.0  228.738736 -116.738736\n",
       "15306   200.0  217.483800  -17.483800\n",
       "16482    48.0   57.122120   -9.122120\n",
       "...       ...         ...         ...\n",
       "13289   149.0  205.724250  -56.724250\n",
       "11555   254.0  240.936077   13.063923\n",
       "10644   166.0  -12.523610  178.523610\n",
       "49     1000.0  411.076640  588.923360\n",
       "13704   400.0  280.324172  119.675828\n",
       "\n",
       "[4152 rows x 3 columns]"
      ]
     },
     "execution_count": 16,
     "metadata": {},
     "output_type": "execute_result"
    }
   ],
   "source": [
    "# compare y_pred to y_true\n",
    "\n",
    "# predict y_pred values\n",
    "y_pred = linreg.predict(X_test)\n",
    "\n",
    "# add to df\n",
    "y_truevspred = pd.DataFrame({\"True_y\": y_test, \"Pred_y\": y_pred, \"Diff\": (y_test - y_pred)})\n",
    "\n",
    "# display\n",
    "y_truevspred"
   ]
  },
  {
   "cell_type": "markdown",
   "id": "635aecb5-93a3-4434-8859-a3394cfdb9b9",
   "metadata": {},
   "source": [
    "The smaller values of True_y did not have large difference values, however, a lot of difference and error were made for larger values. For example, the model was only off by \\\\$78 when the true y value was \\\\$225, however it was off by \\\\$589 when the true y value was \\\\$1000."
   ]
  },
  {
   "cell_type": "markdown",
   "id": "e546ea2b-afee-4782-90b2-2adb7bc8d3ce",
   "metadata": {
    "tags": []
   },
   "source": [
    "#### Plots of predicted vs actual"
   ]
  },
  {
   "cell_type": "code",
   "execution_count": 51,
   "id": "625fd164-c424-4634-ad31-730d7d579397",
   "metadata": {
    "tags": []
   },
   "outputs": [
    {
     "data": {
      "image/png": "[encoded data removed]",
      "text/plain": [
       "<Figure size 600x400 with 1 Axes>"
      ]
     },
     "metadata": {},
     "output_type": "display_data"
    }
   ],
   "source": [
    "# scatterplot\n",
    "\n",
    "plt.figure(figsize=(6,4))\n",
    "ax = sns.scatterplot(x=y_pred, y=y_test)\n",
    "plt.suptitle(\"Scatterplot of y_pred and y_test\")\n",
    "plt.xlabel(\"y_pred\")\n",
    "plt.ylabel(\"y_test\")\n",
    "\n",
    "x_vals = np.linspace(y_pred.min(), y_pred.max(), 100)\n",
    "ax.plot(x_vals, x_vals, color='red', linestyle='--', linewidth=2) \n",
    "\n",
    "plt.show()\n"
   ]
  },
  {
   "cell_type": "markdown",
   "id": "5338ebea-85d2-409e-9928-a41966f54054",
   "metadata": {},
   "source": [
    "In this scatterplot of the predicted price values versus the actual price values, the predicted was capped at about 3,000, meanwhile the actual value went as high as 10,000. In linear regression, this punishes the model severely as the large values of error are squared, giving more weight to outliers. In the case of this dataset, the outliers are already large, and this magnifies the effect of the outliers, further punishing the model. Further analysis could look into handling the outliers."
   ]
  },
  {
   "cell_type": "code",
   "execution_count": 52,
   "id": "c49add50-d6d3-4a1c-8fc2-cf4f872f4f9a",
   "metadata": {
    "tags": []
   },
   "outputs": [
    {
     "data": {
      "image/png": "[encoded data removed]",
      "text/plain": [
       "<Figure size 600x400 with 1 Axes>"
      ]
     },
     "metadata": {},
     "output_type": "display_data"
    }
   ],
   "source": [
    "# scatterplot\n",
    "\n",
    "plt.figure(figsize=(6,4))\n",
    "ax = sns.scatterplot(x=y_pred, y=y_test)\n",
    "plt.suptitle(\"Scatterplot of y_pred and y_test\")\n",
    "plt.xlabel(\"y_pred\")\n",
    "plt.ylabel(\"y_test\")\n",
    "\n",
    "x_vals = np.linspace(y_pred.min(), y_pred.max(), 100)\n",
    "ax.plot(x_vals, x_vals, color='red', linestyle='--', linewidth=2) \n",
    "\n",
    "plt.xlim(0, 1000)\n",
    "plt.ylim(0, 1000)\n",
    "\n",
    "plt.show()\n"
   ]
  },
  {
   "cell_type": "markdown",
   "id": "e1bf41ff-8db2-497d-a7cb-06a54545ab2e",
   "metadata": {},
   "source": [
    "When zooming into the values less than 1,000, the model seemed to performed much better. With similar amounts above the line, showing when actual price is higher than predicted price, and a similar amount under the line, showing when predicted price is higher than actual price."
   ]
  },
  {
   "cell_type": "markdown",
   "id": "c7e0b3f1-a4d8-4c70-9696-db2521e3c9c0",
   "metadata": {},
   "source": [
    "#### Pickle and save model"
   ]
  },
  {
   "cell_type": "code",
   "execution_count": 19,
   "id": "b768ae25-b6e9-4148-a8a4-72a1407501b2",
   "metadata": {
    "tags": []
   },
   "outputs": [],
   "source": [
    "# pickle.dump(linreg_best, open(\"../models/linreg_model.pkl\",\"wb\"))"
   ]
  },
  {
   "cell_type": "code",
   "execution_count": 20,
   "id": "4fc9e2d4-8663-4b96-a03d-485e97832a4c",
   "metadata": {},
   "outputs": [],
   "source": [
    "# # to load model (optional)\n",
    "# linreg_model = pickle.load(open(\"../models/linreg_model.pkl\",\"rb\"))"
   ]
  },
  {
   "cell_type": "markdown",
   "id": "841a19d2-5d3e-480b-ab3a-71a5fcd01a3c",
   "metadata": {
    "tags": []
   },
   "source": [
    "***"
   ]
  },
  {
   "cell_type": "markdown",
   "id": "7cc0ece8-ff7f-4dea-a39f-1ccf1f244c26",
   "metadata": {
    "jp-MarkdownHeadingCollapsed": true,
    "tags": []
   },
   "source": [
    "<a id=\"4\"></a>\n",
    "### XGBoost Modeling"
   ]
  },
  {
   "cell_type": "code",
   "execution_count": 21,
   "id": "d6a1088d-84ae-4359-a015-fe4c494aafe1",
   "metadata": {
    "tags": []
   },
   "outputs": [
    {
     "name": "stdout",
     "output_type": "stream",
     "text": [
      "Train score: 0.9939518469801436\n",
      "Test score: -2.6395777354592087\n"
     ]
    }
   ],
   "source": [
    "# initialize xgboost model\n",
    "xgb_model = XGBRegressor()\n",
    "\n",
    "# fit xgboost model to xtrain\n",
    "xgb_model.fit(X_train, y_train)\n",
    "\n",
    "# get scores for train and test\n",
    "print(f\"Train score: {xgb_model.score(X_train, y_train)}\")\n",
    "print(f\"Test score: {xgb_model.score(X_test, y_test)}\")"
   ]
  },
  {
   "cell_type": "markdown",
   "id": "e2eab4e2-a49b-4e7c-a043-7fed10a1996d",
   "metadata": {},
   "source": [
    "An initial testing of a XGBoost model is performed to poor results. The train score overfitted with an R^2 score of 0.99, and the test score went below zero to a score of -2.64. This a strange behavior and could be more likely to happen if the model encounters values and errors in the test set that are much larger than the values and errors in the train set. In this dataset, an example case could be that the train set only encountered and fitted the model to prices up to \\\\$1000, but then encountered outlier values of up to \\\\$10,000 in the test set, this would lead the model to not generalize well and predict even worse than the mean. "
   ]
  },
  {
   "cell_type": "markdown",
   "id": "9b560c62-9189-403e-b630-6b1780246b7d",
   "metadata": {},
   "source": [
    "#### Feature Importance"
   ]
  },
  {
   "cell_type": "code",
   "execution_count": 22,
   "id": "86492bff-4613-42ef-9b8d-9d23c80753bb",
   "metadata": {
    "tags": []
   },
   "outputs": [
    {
     "data": {
      "text/plain": [
       "ratings_4.4                       0.743028\n",
       "longitude                         0.075493\n",
       "latitude                          0.044111\n",
       "availability_365                  0.025306\n",
       "ratings_4.2                       0.017839\n",
       "ratings_3.0                       0.015824\n",
       "license_Exempt                    0.008974\n",
       "roomtype_Shared room              0.007581\n",
       "month                             0.007200\n",
       "number_of_reviews                 0.007115\n",
       "neighgroup_Brooklyn               0.004937\n",
       "license_No License                0.004275\n",
       "roomtype_Entire home/apt          0.004216\n",
       "minimum_nights                    0.004137\n",
       "bedrooms                          0.003665\n",
       "neighborhood_avgprice             0.003599\n",
       "calculated_host_listings_count    0.003492\n",
       "baths                             0.002884\n",
       "number_of_reviews_ltm             0.002750\n",
       "last_review_year                  0.002109\n",
       "ratings_5                         0.001708\n",
       "roomtype_Hotel room               0.001597\n",
       "license_Has License               0.001450\n",
       "reviews_per_month                 0.001242\n",
       "neighgroup_Manhattan              0.001129\n",
       "ratings_4.6                       0.000900\n",
       "roomtype_Private room             0.000876\n",
       "beds                              0.000840\n",
       "ratings_No rating                 0.000812\n",
       "ratings_4.8                       0.000364\n",
       "ratings_New                       0.000318\n",
       "ratings_4.0                       0.000169\n",
       "neighgroup_Queens                 0.000061\n",
       "neighgroup_Staten Island          0.000000\n",
       "neighgroup_Bronx                  0.000000\n",
       "last_review_month                 0.000000\n",
       "ratings_less3                     0.000000\n",
       "dtype: float32"
      ]
     },
     "execution_count": 22,
     "metadata": {},
     "output_type": "execute_result"
    }
   ],
   "source": [
    "importances = xgb_model.feature_importances_\n",
    "\n",
    "feature_importances = pd.Series(importances, index=X_test.columns)\n",
    "\n",
    "feature_importances.sort_values(ascending=False)"
   ]
  },
  {
   "cell_type": "markdown",
   "id": "37fdbee7-b5d4-40db-a780-63e857265e3c",
   "metadata": {},
   "source": [
    "In the XGBoost model, the top features with high importance were ratings of 4.4, longitude, and latitude. Meaning that these features had the most effect on the model."
   ]
  },
  {
   "cell_type": "code",
   "execution_count": 23,
   "id": "0b6f5bb4-0072-4ded-b568-8a6075efb9b0",
   "metadata": {
    "tags": []
   },
   "outputs": [
    {
     "data": {
      "text/html": [
       "<div>\n",
       "<style scoped>\n",
       "    .dataframe tbody tr th:only-of-type {\n",
       "        vertical-align: middle;\n",
       "    }\n",
       "\n",
       "    .dataframe tbody tr th {\n",
       "        vertical-align: top;\n",
       "    }\n",
       "\n",
       "    .dataframe thead th {\n",
       "        text-align: right;\n",
       "    }\n",
       "</style>\n",
       "<table border=\"1\" class=\"dataframe\">\n",
       "  <thead>\n",
       "    <tr style=\"text-align: right;\">\n",
       "      <th></th>\n",
       "      <th>Importance</th>\n",
       "    </tr>\n",
       "  </thead>\n",
       "  <tbody>\n",
       "    <tr>\n",
       "      <th>ratings_New</th>\n",
       "      <td>15286.666992</td>\n",
       "    </tr>\n",
       "    <tr>\n",
       "      <th>ratings_3.0</th>\n",
       "      <td>8023.500000</td>\n",
       "    </tr>\n",
       "    <tr>\n",
       "      <th>license_No License</th>\n",
       "      <td>7687.615234</td>\n",
       "    </tr>\n",
       "    <tr>\n",
       "      <th>roomtype_Hotel room</th>\n",
       "      <td>5212.538574</td>\n",
       "    </tr>\n",
       "    <tr>\n",
       "      <th>ratings_4.0</th>\n",
       "      <td>4465.545410</td>\n",
       "    </tr>\n",
       "    <tr>\n",
       "      <th>license_Has License</th>\n",
       "      <td>3408.899902</td>\n",
       "    </tr>\n",
       "    <tr>\n",
       "      <th>number_of_reviews_ltm</th>\n",
       "      <td>3259.575195</td>\n",
       "    </tr>\n",
       "    <tr>\n",
       "      <th>roomtype_Entire home/apt</th>\n",
       "      <td>3154.581299</td>\n",
       "    </tr>\n",
       "    <tr>\n",
       "      <th>minimum_nights</th>\n",
       "      <td>2872.124023</td>\n",
       "    </tr>\n",
       "    <tr>\n",
       "      <th>last_review_year</th>\n",
       "      <td>2870.662354</td>\n",
       "    </tr>\n",
       "    <tr>\n",
       "      <th>calculated_host_listings_count</th>\n",
       "      <td>2501.109131</td>\n",
       "    </tr>\n",
       "    <tr>\n",
       "      <th>reviews_per_month</th>\n",
       "      <td>2383.556885</td>\n",
       "    </tr>\n",
       "    <tr>\n",
       "      <th>longitude</th>\n",
       "      <td>2211.152832</td>\n",
       "    </tr>\n",
       "    <tr>\n",
       "      <th>bedrooms</th>\n",
       "      <td>2162.798096</td>\n",
       "    </tr>\n",
       "    <tr>\n",
       "      <th>ratings_4.8</th>\n",
       "      <td>2045.333374</td>\n",
       "    </tr>\n",
       "    <tr>\n",
       "      <th>number_of_reviews</th>\n",
       "      <td>2020.742310</td>\n",
       "    </tr>\n",
       "    <tr>\n",
       "      <th>neighborhood_avgprice</th>\n",
       "      <td>1991.864380</td>\n",
       "    </tr>\n",
       "    <tr>\n",
       "      <th>baths</th>\n",
       "      <td>1968.672607</td>\n",
       "    </tr>\n",
       "    <tr>\n",
       "      <th>latitude</th>\n",
       "      <td>1933.640625</td>\n",
       "    </tr>\n",
       "    <tr>\n",
       "      <th>month</th>\n",
       "      <td>1886.470215</td>\n",
       "    </tr>\n",
       "    <tr>\n",
       "      <th>ratings_5</th>\n",
       "      <td>1750.261963</td>\n",
       "    </tr>\n",
       "    <tr>\n",
       "      <th>roomtype_Shared room</th>\n",
       "      <td>1742.533325</td>\n",
       "    </tr>\n",
       "    <tr>\n",
       "      <th>neighgroup_Brooklyn</th>\n",
       "      <td>1735.500000</td>\n",
       "    </tr>\n",
       "    <tr>\n",
       "      <th>beds</th>\n",
       "      <td>1689.894165</td>\n",
       "    </tr>\n",
       "    <tr>\n",
       "      <th>ratings_4.2</th>\n",
       "      <td>1613.404297</td>\n",
       "    </tr>\n",
       "    <tr>\n",
       "      <th>availability_365</th>\n",
       "      <td>1605.879028</td>\n",
       "    </tr>\n",
       "    <tr>\n",
       "      <th>roomtype_Private room</th>\n",
       "      <td>1420.615356</td>\n",
       "    </tr>\n",
       "    <tr>\n",
       "      <th>license_Exempt</th>\n",
       "      <td>1149.382935</td>\n",
       "    </tr>\n",
       "    <tr>\n",
       "      <th>ratings_4.4</th>\n",
       "      <td>1044.418579</td>\n",
       "    </tr>\n",
       "    <tr>\n",
       "      <th>neighgroup_Manhattan</th>\n",
       "      <td>1030.384644</td>\n",
       "    </tr>\n",
       "    <tr>\n",
       "      <th>ratings_No rating</th>\n",
       "      <td>838.888916</td>\n",
       "    </tr>\n",
       "    <tr>\n",
       "      <th>ratings_4.6</th>\n",
       "      <td>622.062500</td>\n",
       "    </tr>\n",
       "    <tr>\n",
       "      <th>neighgroup_Queens</th>\n",
       "      <td>13.000000</td>\n",
       "    </tr>\n",
       "  </tbody>\n",
       "</table>\n",
       "</div>"
      ],
      "text/plain": [
       "                                  Importance\n",
       "ratings_New                     15286.666992\n",
       "ratings_3.0                      8023.500000\n",
       "license_No License               7687.615234\n",
       "roomtype_Hotel room              5212.538574\n",
       "ratings_4.0                      4465.545410\n",
       "license_Has License              3408.899902\n",
       "number_of_reviews_ltm            3259.575195\n",
       "roomtype_Entire home/apt         3154.581299\n",
       "minimum_nights                   2872.124023\n",
       "last_review_year                 2870.662354\n",
       "calculated_host_listings_count   2501.109131\n",
       "reviews_per_month                2383.556885\n",
       "longitude                        2211.152832\n",
       "bedrooms                         2162.798096\n",
       "ratings_4.8                      2045.333374\n",
       "number_of_reviews                2020.742310\n",
       "neighborhood_avgprice            1991.864380\n",
       "baths                            1968.672607\n",
       "latitude                         1933.640625\n",
       "month                            1886.470215\n",
       "ratings_5                        1750.261963\n",
       "roomtype_Shared room             1742.533325\n",
       "neighgroup_Brooklyn              1735.500000\n",
       "beds                             1689.894165\n",
       "ratings_4.2                      1613.404297\n",
       "availability_365                 1605.879028\n",
       "roomtype_Private room            1420.615356\n",
       "license_Exempt                   1149.382935\n",
       "ratings_4.4                      1044.418579\n",
       "neighgroup_Manhattan             1030.384644\n",
       "ratings_No rating                 838.888916\n",
       "ratings_4.6                       622.062500\n",
       "neighgroup_Queens                  13.000000"
      ]
     },
     "execution_count": 23,
     "metadata": {},
     "output_type": "execute_result"
    }
   ],
   "source": [
    "# alternative booster importance\n",
    "booster = xgb_model.get_booster()\n",
    "importance_dict = booster.get_score(importance_type='cover')  \n",
    "\n",
    "# display\n",
    "importance_df = pd.DataFrame.from_dict(importance_dict, orient='index', columns=['Importance'])\n",
    "importance_df = importance_df.sort_values(by='Importance', ascending=False)\n",
    "importance_df"
   ]
  },
  {
   "cell_type": "markdown",
   "id": "9aee68cd-fad0-4d95-ac0a-8cba427bd9e8",
   "metadata": {},
   "source": [
    "An alternative method to the the feature importance for XGBoost is to use the .get_booster() method, this allows the option to use alternative ways to measure feature importance such as by coverage (how many samples are affected) instead of the default gini entropy (a measure of how similar values are to each other). "
   ]
  },
  {
   "cell_type": "markdown",
   "id": "b6618628-278d-4940-84a2-a83fed757c29",
   "metadata": {},
   "source": [
    "#### Set-up pipeline and gridsearch"
   ]
  },
  {
   "cell_type": "code",
   "execution_count": 24,
   "id": "5744abde-81f9-4aa0-80a5-36b1760e6a21",
   "metadata": {
    "tags": []
   },
   "outputs": [],
   "source": [
    "estimators = [(\"scaler\", StandardScaler()),\n",
    "              (\"pca\", PCA()),\n",
    "              ('xgb', XGBRegressor())]\n",
    "\n",
    "cachedir = mkdtemp()\n",
    "pipe = Pipeline(estimators, memory=cachedir)\n",
    "\n",
    "params = {\"scaler\": [StandardScaler(), None], \n",
    "          \"pca__n_components\": [5, 10, 20,]\n",
    "}\n",
    "\n",
    "grid_search = GridSearchCV(pipe, param_grid=params, cv=5)\n"
   ]
  },
  {
   "cell_type": "markdown",
   "id": "0368ece1-c195-4f04-b4d2-4fadc208761f",
   "metadata": {},
   "source": [
    "A pipeline and gridsearch were used with the Standard Scaler, PCA, and XGBoost. "
   ]
  },
  {
   "cell_type": "markdown",
   "id": "436063eb-1220-40b9-aa3b-31e70df119ee",
   "metadata": {},
   "source": [
    "#### Fit the gridsearch best fit model"
   ]
  },
  {
   "cell_type": "code",
   "execution_count": 25,
   "id": "04e5acb5-bfc0-4fb4-bac1-eb70a854244f",
   "metadata": {
    "tags": []
   },
   "outputs": [],
   "source": [
    "xgb_best = grid_search.fit(X_train, y_train)"
   ]
  },
  {
   "cell_type": "code",
   "execution_count": 26,
   "id": "60dff8d3-5ea8-4016-becc-b3f428f60a8d",
   "metadata": {
    "tags": []
   },
   "outputs": [
    {
     "data": {
      "text/html": [
       "<style>#sk-container-id-3 {color: black;}#sk-container-id-3 pre{padding: 0;}#sk-container-id-3 div.sk-toggleable {background-color: white;}#sk-container-id-3 label.sk-toggleable__label {cursor: pointer;display: block;width: 100%;margin-bottom: 0;padding: 0.3em;box-sizing: border-box;text-align: center;}#sk-container-id-3 label.sk-toggleable__label-arrow:before {content: \"▸\";float: left;margin-right: 0.25em;color: #696969;}#sk-container-id-3 label.sk-toggleable__label-arrow:hover:before {color: black;}#sk-container-id-3 div.sk-estimator:hover label.sk-toggleable__label-arrow:before {color: black;}#sk-container-id-3 div.sk-toggleable__content {max-height: 0;max-width: 0;overflow: hidden;text-align: left;background-color: #f0f8ff;}#sk-container-id-3 div.sk-toggleable__content pre {margin: 0.2em;color: black;border-radius: 0.25em;background-color: #f0f8ff;}#sk-container-id-3 input.sk-toggleable__control:checked~div.sk-toggleable__content {max-height: 200px;max-width: 100%;overflow: auto;}#sk-container-id-3 input.sk-toggleable__control:checked~label.sk-toggleable__label-arrow:before {content: \"▾\";}#sk-container-id-3 div.sk-estimator input.sk-toggleable__control:checked~label.sk-toggleable__label {background-color: #d4ebff;}#sk-container-id-3 div.sk-label input.sk-toggleable__control:checked~label.sk-toggleable__label {background-color: #d4ebff;}#sk-container-id-3 input.sk-hidden--visually {border: 0;clip: rect(1px 1px 1px 1px);clip: rect(1px, 1px, 1px, 1px);height: 1px;margin: -1px;overflow: hidden;padding: 0;position: absolute;width: 1px;}#sk-container-id-3 div.sk-estimator {font-family: monospace;background-color: #f0f8ff;border: 1px dotted black;border-radius: 0.25em;box-sizing: border-box;margin-bottom: 0.5em;}#sk-container-id-3 div.sk-estimator:hover {background-color: #d4ebff;}#sk-container-id-3 div.sk-parallel-item::after {content: \"\";width: 100%;border-bottom: 1px solid gray;flex-grow: 1;}#sk-container-id-3 div.sk-label:hover label.sk-toggleable__label {background-color: #d4ebff;}#sk-container-id-3 div.sk-serial::before {content: \"\";position: absolute;border-left: 1px solid gray;box-sizing: border-box;top: 0;bottom: 0;left: 50%;z-index: 0;}#sk-container-id-3 div.sk-serial {display: flex;flex-direction: column;align-items: center;background-color: white;padding-right: 0.2em;padding-left: 0.2em;position: relative;}#sk-container-id-3 div.sk-item {position: relative;z-index: 1;}#sk-container-id-3 div.sk-parallel {display: flex;align-items: stretch;justify-content: center;background-color: white;position: relative;}#sk-container-id-3 div.sk-item::before, #sk-container-id-3 div.sk-parallel-item::before {content: \"\";position: absolute;border-left: 1px solid gray;box-sizing: border-box;top: 0;bottom: 0;left: 50%;z-index: -1;}#sk-container-id-3 div.sk-parallel-item {display: flex;flex-direction: column;z-index: 1;position: relative;background-color: white;}#sk-container-id-3 div.sk-parallel-item:first-child::after {align-self: flex-end;width: 50%;}#sk-container-id-3 div.sk-parallel-item:last-child::after {align-self: flex-start;width: 50%;}#sk-container-id-3 div.sk-parallel-item:only-child::after {width: 0;}#sk-container-id-3 div.sk-dashed-wrapped {border: 1px dashed gray;margin: 0 0.4em 0.5em 0.4em;box-sizing: border-box;padding-bottom: 0.4em;background-color: white;}#sk-container-id-3 div.sk-label label {font-family: monospace;font-weight: bold;display: inline-block;line-height: 1.2em;}#sk-container-id-3 div.sk-label-container {text-align: center;}#sk-container-id-3 div.sk-container {/* jupyter's `normalize.less` sets `[hidden] { display: none; }` but bootstrap.min.css set `[hidden] { display: none !important; }` so we also need the `!important` here to be able to override the default hidden behavior on the sphinx rendered scikit-learn.org. See: https://github.com/scikit-learn/scikit-learn/issues/21755 */display: inline-block !important;position: relative;}#sk-container-id-3 div.sk-text-repr-fallback {display: none;}</style><div id=\"sk-container-id-3\" class=\"sk-top-container\"><div class=\"sk-text-repr-fallback\"><pre>Pipeline(memory=&#x27;/var/folders/s2/vdwvjj2j24d4tg5yz10ycr080000gn/T/tmpi8ga913p&#x27;,\n",
       "         steps=[(&#x27;scaler&#x27;, None), (&#x27;pca&#x27;, PCA(n_components=20)),\n",
       "                (&#x27;xgb&#x27;,\n",
       "                 XGBRegressor(base_score=None, booster=None, callbacks=None,\n",
       "                              colsample_bylevel=None, colsample_bynode=None,\n",
       "                              colsample_bytree=None, early_stopping_rounds=None,\n",
       "                              enable_categorical=False, eval_metric=None,\n",
       "                              feature_types=None,...e,\n",
       "                              grow_policy=None, importance_type=None,\n",
       "                              interaction_constraints=None, learning_rate=None,\n",
       "                              max_bin=None, max_cat_threshold=None,\n",
       "                              max_cat_to_onehot=None, max_delta_step=None,\n",
       "                              max_depth=None, max_leaves=None,\n",
       "                              min_child_weight=None, missing=nan,\n",
       "                              monotone_constraints=None, n_estimators=100,\n",
       "                              n_jobs=None, num_parallel_tree=None,\n",
       "                              predictor=None, random_state=None, ...))])</pre><b>In a Jupyter environment, please rerun this cell to show the HTML representation or trust the notebook. <br />On GitHub, the HTML representation is unable to render, please try loading this page with nbviewer.org.</b></div><div class=\"sk-container\" hidden><div class=\"sk-item sk-dashed-wrapped\"><div class=\"sk-label-container\"><div class=\"sk-label sk-toggleable\"><input class=\"sk-toggleable__control sk-hidden--visually\" id=\"sk-estimator-id-6\" type=\"checkbox\" ><label for=\"sk-estimator-id-6\" class=\"sk-toggleable__label sk-toggleable__label-arrow\">Pipeline</label><div class=\"sk-toggleable__content\"><pre>Pipeline(memory=&#x27;/var/folders/s2/vdwvjj2j24d4tg5yz10ycr080000gn/T/tmpi8ga913p&#x27;,\n",
       "         steps=[(&#x27;scaler&#x27;, None), (&#x27;pca&#x27;, PCA(n_components=20)),\n",
       "                (&#x27;xgb&#x27;,\n",
       "                 XGBRegressor(base_score=None, booster=None, callbacks=None,\n",
       "                              colsample_bylevel=None, colsample_bynode=None,\n",
       "                              colsample_bytree=None, early_stopping_rounds=None,\n",
       "                              enable_categorical=False, eval_metric=None,\n",
       "                              feature_types=None,...e,\n",
       "                              grow_policy=None, importance_type=None,\n",
       "                              interaction_constraints=None, learning_rate=None,\n",
       "                              max_bin=None, max_cat_threshold=None,\n",
       "                              max_cat_to_onehot=None, max_delta_step=None,\n",
       "                              max_depth=None, max_leaves=None,\n",
       "                              min_child_weight=None, missing=nan,\n",
       "                              monotone_constraints=None, n_estimators=100,\n",
       "                              n_jobs=None, num_parallel_tree=None,\n",
       "                              predictor=None, random_state=None, ...))])</pre></div></div></div><div class=\"sk-serial\"><div class=\"sk-item\"><div class=\"sk-estimator sk-toggleable\"><input class=\"sk-toggleable__control sk-hidden--visually\" id=\"sk-estimator-id-7\" type=\"checkbox\" ><label for=\"sk-estimator-id-7\" class=\"sk-toggleable__label sk-toggleable__label-arrow\">None</label><div class=\"sk-toggleable__content\"><pre>None</pre></div></div></div><div class=\"sk-item\"><div class=\"sk-estimator sk-toggleable\"><input class=\"sk-toggleable__control sk-hidden--visually\" id=\"sk-estimator-id-8\" type=\"checkbox\" ><label for=\"sk-estimator-id-8\" class=\"sk-toggleable__label sk-toggleable__label-arrow\">PCA</label><div class=\"sk-toggleable__content\"><pre>PCA(n_components=20)</pre></div></div></div><div class=\"sk-item\"><div class=\"sk-estimator sk-toggleable\"><input class=\"sk-toggleable__control sk-hidden--visually\" id=\"sk-estimator-id-9\" type=\"checkbox\" ><label for=\"sk-estimator-id-9\" class=\"sk-toggleable__label sk-toggleable__label-arrow\">XGBRegressor</label><div class=\"sk-toggleable__content\"><pre>XGBRegressor(base_score=None, booster=None, callbacks=None,\n",
       "             colsample_bylevel=None, colsample_bynode=None,\n",
       "             colsample_bytree=None, early_stopping_rounds=None,\n",
       "             enable_categorical=False, eval_metric=None, feature_types=None,\n",
       "             gamma=None, gpu_id=None, grow_policy=None, importance_type=None,\n",
       "             interaction_constraints=None, learning_rate=None, max_bin=None,\n",
       "             max_cat_threshold=None, max_cat_to_onehot=None,\n",
       "             max_delta_step=None, max_depth=None, max_leaves=None,\n",
       "             min_child_weight=None, missing=nan, monotone_constraints=None,\n",
       "             n_estimators=100, n_jobs=None, num_parallel_tree=None,\n",
       "             predictor=None, random_state=None, ...)</pre></div></div></div></div></div></div></div>"
      ],
      "text/plain": [
       "Pipeline(memory='/var/folders/s2/vdwvjj2j24d4tg5yz10ycr080000gn/T/tmpi8ga913p',\n",
       "         steps=[('scaler', None), ('pca', PCA(n_components=20)),\n",
       "                ('xgb',\n",
       "                 XGBRegressor(base_score=None, booster=None, callbacks=None,\n",
       "                              colsample_bylevel=None, colsample_bynode=None,\n",
       "                              colsample_bytree=None, early_stopping_rounds=None,\n",
       "                              enable_categorical=False, eval_metric=None,\n",
       "                              feature_types=None,...e,\n",
       "                              grow_policy=None, importance_type=None,\n",
       "                              interaction_constraints=None, learning_rate=None,\n",
       "                              max_bin=None, max_cat_threshold=None,\n",
       "                              max_cat_to_onehot=None, max_delta_step=None,\n",
       "                              max_depth=None, max_leaves=None,\n",
       "                              min_child_weight=None, missing=nan,\n",
       "                              monotone_constraints=None, n_estimators=100,\n",
       "                              n_jobs=None, num_parallel_tree=None,\n",
       "                              predictor=None, random_state=None, ...))])"
      ]
     },
     "execution_count": 26,
     "metadata": {},
     "output_type": "execute_result"
    }
   ],
   "source": [
    "xgb_best.best_estimator_\n"
   ]
  },
  {
   "cell_type": "code",
   "execution_count": 27,
   "id": "349e6697-ae7b-402d-bbc7-553e61fea6ad",
   "metadata": {
    "tags": []
   },
   "outputs": [
    {
     "name": "stdout",
     "output_type": "stream",
     "text": [
      "The best fit scaler is: None\n",
      "The best fit number of PCA components is: PCA(n_components=20)\n",
      "The best fit model is: XGBRegressor(base_score=None, booster=None, callbacks=None,\n",
      "             colsample_bylevel=None, colsample_bynode=None,\n",
      "             colsample_bytree=None, early_stopping_rounds=None,\n",
      "             enable_categorical=False, eval_metric=None, feature_types=None,\n",
      "             gamma=None, gpu_id=None, grow_policy=None, importance_type=None,\n",
      "             interaction_constraints=None, learning_rate=None, max_bin=None,\n",
      "             max_cat_threshold=None, max_cat_to_onehot=None,\n",
      "             max_delta_step=None, max_depth=None, max_leaves=None,\n",
      "             min_child_weight=None, missing=nan, monotone_constraints=None,\n",
      "             n_estimators=100, n_jobs=None, num_parallel_tree=None,\n",
      "             predictor=None, random_state=None, ...)\n"
     ]
    }
   ],
   "source": [
    "print(f\"The best fit scaler is: {xgb_best.best_estimator_[0]}\")\n",
    "print(f\"The best fit number of PCA components is: {xgb_best.best_estimator_[1]}\")\n",
    "print(f\"The best fit model is: {xgb_best.best_estimator_[2]}\")"
   ]
  },
  {
   "cell_type": "markdown",
   "id": "72549c4b-9d99-4b53-9dd0-0e0e24534543",
   "metadata": {},
   "source": [
    "The gridsearch parameters improved the test score from 0.12 to 0.13, being able to explain 13% of the price information. For the gridsearch the StandardScaler performed better than no scaler, and PCA 10 components performed the best. Since the lowest number of PCA performed the best, this can indicate that the features might not be helping with the price prediction. Perhaps they are not linearly correlated with price. Furthur analysis can look into non-linear relationship modeling. "
   ]
  },
  {
   "cell_type": "code",
   "execution_count": 53,
   "id": "ad5c363c-a26f-49d5-8913-1a35d5f981ce",
   "metadata": {
    "tags": []
   },
   "outputs": [
    {
     "name": "stdout",
     "output_type": "stream",
     "text": [
      "Train score: 0.9966952781456913\n",
      "Test score: -5.866609164841328\n",
      "RMSE: 800.1524677769395\n",
      "MAE: 93.94426929049179\n"
     ]
    }
   ],
   "source": [
    "# find scores\n",
    "score_r2_rmse_mae(xgb_best)"
   ]
  },
  {
   "cell_type": "code",
   "execution_count": 56,
   "id": "47fb6f62-645f-4186-b9f7-a8fdb86f7da4",
   "metadata": {},
   "outputs": [
    {
     "data": {
      "text/html": [
       "<div>\n",
       "<style scoped>\n",
       "    .dataframe tbody tr th:only-of-type {\n",
       "        vertical-align: middle;\n",
       "    }\n",
       "\n",
       "    .dataframe tbody tr th {\n",
       "        vertical-align: top;\n",
       "    }\n",
       "\n",
       "    .dataframe thead th {\n",
       "        text-align: right;\n",
       "    }\n",
       "</style>\n",
       "<table border=\"1\" class=\"dataframe\">\n",
       "  <thead>\n",
       "    <tr style=\"text-align: right;\">\n",
       "      <th></th>\n",
       "      <th>True_y</th>\n",
       "      <th>Pred_y</th>\n",
       "      <th>Diff</th>\n",
       "    </tr>\n",
       "  </thead>\n",
       "  <tbody>\n",
       "    <tr>\n",
       "      <th>17392</th>\n",
       "      <td>165.0</td>\n",
       "      <td>129.286255</td>\n",
       "      <td>35.713745</td>\n",
       "    </tr>\n",
       "    <tr>\n",
       "      <th>14299</th>\n",
       "      <td>225.0</td>\n",
       "      <td>135.994141</td>\n",
       "      <td>89.005859</td>\n",
       "    </tr>\n",
       "    <tr>\n",
       "      <th>14753</th>\n",
       "      <td>112.0</td>\n",
       "      <td>184.175385</td>\n",
       "      <td>-72.175385</td>\n",
       "    </tr>\n",
       "    <tr>\n",
       "      <th>15306</th>\n",
       "      <td>200.0</td>\n",
       "      <td>190.553986</td>\n",
       "      <td>9.446014</td>\n",
       "    </tr>\n",
       "    <tr>\n",
       "      <th>16482</th>\n",
       "      <td>48.0</td>\n",
       "      <td>49.969784</td>\n",
       "      <td>-1.969784</td>\n",
       "    </tr>\n",
       "    <tr>\n",
       "      <th>...</th>\n",
       "      <td>...</td>\n",
       "      <td>...</td>\n",
       "      <td>...</td>\n",
       "    </tr>\n",
       "    <tr>\n",
       "      <th>13289</th>\n",
       "      <td>149.0</td>\n",
       "      <td>123.623795</td>\n",
       "      <td>25.376205</td>\n",
       "    </tr>\n",
       "    <tr>\n",
       "      <th>11555</th>\n",
       "      <td>254.0</td>\n",
       "      <td>320.550293</td>\n",
       "      <td>-66.550293</td>\n",
       "    </tr>\n",
       "    <tr>\n",
       "      <th>10644</th>\n",
       "      <td>166.0</td>\n",
       "      <td>82.079948</td>\n",
       "      <td>83.920052</td>\n",
       "    </tr>\n",
       "    <tr>\n",
       "      <th>49</th>\n",
       "      <td>1000.0</td>\n",
       "      <td>982.707947</td>\n",
       "      <td>17.292053</td>\n",
       "    </tr>\n",
       "    <tr>\n",
       "      <th>13704</th>\n",
       "      <td>400.0</td>\n",
       "      <td>276.464813</td>\n",
       "      <td>123.535187</td>\n",
       "    </tr>\n",
       "  </tbody>\n",
       "</table>\n",
       "<p>4152 rows × 3 columns</p>\n",
       "</div>"
      ],
      "text/plain": [
       "       True_y      Pred_y        Diff\n",
       "17392   165.0  129.286255   35.713745\n",
       "14299   225.0  135.994141   89.005859\n",
       "14753   112.0  184.175385  -72.175385\n",
       "15306   200.0  190.553986    9.446014\n",
       "16482    48.0   49.969784   -1.969784\n",
       "...       ...         ...         ...\n",
       "13289   149.0  123.623795   25.376205\n",
       "11555   254.0  320.550293  -66.550293\n",
       "10644   166.0   82.079948   83.920052\n",
       "49     1000.0  982.707947   17.292053\n",
       "13704   400.0  276.464813  123.535187\n",
       "\n",
       "[4152 rows x 3 columns]"
      ]
     },
     "execution_count": 56,
     "metadata": {},
     "output_type": "execute_result"
    }
   ],
   "source": [
    "# compare y_pred to y_true\n",
    "\n",
    "# predict y_pred values\n",
    "y_pred = xgb_best.predict(X_test)\n",
    "\n",
    "# add to df\n",
    "y_truevspred = pd.DataFrame({\"True_y\": y_test, \"Pred_y\": y_pred, \"Diff\": (y_test - y_pred)})\n",
    "\n",
    "# display\n",
    "y_truevspred"
   ]
  },
  {
   "cell_type": "markdown",
   "id": "2c0ad152-814d-4bbb-81a8-6c5ef2c1456b",
   "metadata": {
    "tags": []
   },
   "source": [
    "#### Plots of predicted vs actual"
   ]
  },
  {
   "cell_type": "code",
   "execution_count": 33,
   "id": "fee144bb-16a0-4600-8507-173825a96c99",
   "metadata": {
    "tags": []
   },
   "outputs": [
    {
     "data": {
      "image/png": "[encoded data removed]",
      "text/plain": [
       "<Figure size 600x400 with 1 Axes>"
      ]
     },
     "metadata": {},
     "output_type": "display_data"
    }
   ],
   "source": [
    "# scatterplot\n",
    "\n",
    "plt.figure(figsize=(6,4))\n",
    "ax = sns.scatterplot(x=y_pred, y=y_test)\n",
    "plt.suptitle(\"Scatterplot of y_pred and y_test\")\n",
    "plt.xlabel(\"y_pred\")\n",
    "plt.ylabel(\"y_test\")\n",
    "\n",
    "x_vals = np.linspace(y_pred.min(), y_pred.max(), 100)\n",
    "ax.plot(x_vals, x_vals, color='red', linestyle='--', linewidth=2) \n",
    "\n",
    "plt.show()\n"
   ]
  },
  {
   "cell_type": "markdown",
   "id": "3323494e-4d2c-4b9e-b89a-27473c08060b",
   "metadata": {},
   "source": [
    "This model had a strange behavior that predicted a price at nearly $50,000, perhaps this listing had an excessive amount of beds or a feature that would be estimated in increase the price by a large amount."
   ]
  },
  {
   "cell_type": "code",
   "execution_count": 34,
   "id": "3ee8a409-43a3-48db-93d5-9d457d908b86",
   "metadata": {
    "tags": []
   },
   "outputs": [
    {
     "data": {
      "image/png": "[encoded data removed]",
      "text/plain": [
       "<Figure size 600x400 with 1 Axes>"
      ]
     },
     "metadata": {},
     "output_type": "display_data"
    }
   ],
   "source": [
    "# scatterplot\n",
    "\n",
    "plt.figure(figsize=(6,4))\n",
    "ax = sns.scatterplot(x=y_pred, y=y_test)\n",
    "plt.suptitle(\"Scatterplot of y_pred and y_test\")\n",
    "plt.xlabel(\"y_pred\")\n",
    "plt.ylabel(\"y_test\")\n",
    "\n",
    "x_vals = np.linspace(y_pred.min(), y_pred.max(), 100)\n",
    "ax.plot(x_vals, x_vals, color='red', linestyle='--', linewidth=2) \n",
    "\n",
    "plt.xlim(0, 1000)\n",
    "plt.ylim(0, 1000)\n",
    "\n",
    "plt.show()\n"
   ]
  },
  {
   "cell_type": "markdown",
   "id": "b7458a81-a1d5-4995-9215-51f73c118976",
   "metadata": {},
   "source": [
    "Once zoomed into $1000, the predicted values look much more similar to the true values."
   ]
  },
  {
   "cell_type": "markdown",
   "id": "2b8ca139-1ab7-4ddf-995a-c958d7c9807c",
   "metadata": {},
   "source": [
    "#### Pickle and save model"
   ]
  },
  {
   "cell_type": "code",
   "execution_count": 35,
   "id": "76b0b747-6d7e-491b-91b9-b780619278de",
   "metadata": {
    "tags": []
   },
   "outputs": [],
   "source": [
    "# pickle.dump(xgb_best, open(\"../models/xgb_model.pkl\",\"wb\"))"
   ]
  },
  {
   "cell_type": "markdown",
   "id": "5856bc3d-4748-4a7e-acb3-cf8b410b0e1e",
   "metadata": {},
   "source": [
    "_________________________________"
   ]
  },
  {
   "cell_type": "markdown",
   "id": "2a687140-9c27-4717-b39b-25b4e168e7de",
   "metadata": {
    "jp-MarkdownHeadingCollapsed": true,
    "tags": []
   },
   "source": [
    "<a id=\"5\"></a>\n",
    "### Random Forest Modeling"
   ]
  },
  {
   "cell_type": "code",
   "execution_count": 57,
   "id": "1aade341-5545-4e4c-9fc9-90d12991fbd5",
   "metadata": {
    "tags": []
   },
   "outputs": [
    {
     "name": "stdout",
     "output_type": "stream",
     "text": [
      "Train score: 0.7966052692074731\n",
      "Test score: -0.9795233225784417\n"
     ]
    }
   ],
   "source": [
    "# initialize rforest\n",
    "rforest_model = RandomForestRegressor()\n",
    "\n",
    "# fit random forest model to xtrain\n",
    "rforest_model.fit(X_train, y_train)\n",
    "\n",
    "# get scores for train and test\n",
    "print(f\"Train score: {rforest_model.score(X_train, y_train)}\")\n",
    "print(f\"Test score: {rforest_model.score(X_test, y_test)}\")"
   ]
  },
  {
   "cell_type": "markdown",
   "id": "a126eacf-9547-44a4-b3f5-2bf220a2a2a8",
   "metadata": {},
   "source": [
    "An initial testing of random forest had a train score of 0.80 and test score of -0.98. "
   ]
  },
  {
   "cell_type": "markdown",
   "id": "fc24f64c-ecc0-4959-b9cb-2ff5fd26b9c7",
   "metadata": {},
   "source": [
    "#### Feature Importance"
   ]
  },
  {
   "cell_type": "code",
   "execution_count": 37,
   "id": "a2e526f7-641a-430a-a8d0-a1eb44b2be15",
   "metadata": {
    "tags": []
   },
   "outputs": [
    {
     "data": {
      "text/plain": [
       "longitude                         0.436002\n",
       "number_of_reviews                 0.072250\n",
       "ratings_4.4                       0.070447\n",
       "calculated_host_listings_count    0.063407\n",
       "availability_365                  0.055934\n",
       "number_of_reviews_ltm             0.038559\n",
       "latitude                          0.033470\n",
       "month                             0.029736\n",
       "neighborhood_avgprice             0.024297\n",
       "last_review_month                 0.024146\n",
       "reviews_per_month                 0.015793\n",
       "baths                             0.014395\n",
       "roomtype_Private room             0.014377\n",
       "bedrooms                          0.013856\n",
       "neighgroup_Brooklyn               0.013600\n",
       "last_review_year                  0.011254\n",
       "license_Exempt                    0.011212\n",
       "roomtype_Entire home/apt          0.010387\n",
       "minimum_nights                    0.009231\n",
       "ratings_4.2                       0.007857\n",
       "roomtype_Shared room              0.005410\n",
       "ratings_3.0                       0.004967\n",
       "neighgroup_Manhattan              0.003972\n",
       "beds                              0.003581\n",
       "ratings_5                         0.003403\n",
       "ratings_No rating                 0.003058\n",
       "ratings_4.6                       0.002448\n",
       "license_No License                0.001149\n",
       "roomtype_Hotel room               0.000757\n",
       "ratings_4.8                       0.000586\n",
       "neighgroup_Bronx                  0.000166\n",
       "ratings_4.0                       0.000086\n",
       "license_Has License               0.000082\n",
       "neighgroup_Queens                 0.000076\n",
       "ratings_New                       0.000033\n",
       "neighgroup_Staten Island          0.000012\n",
       "ratings_less3                     0.000004\n",
       "dtype: float64"
      ]
     },
     "execution_count": 37,
     "metadata": {},
     "output_type": "execute_result"
    }
   ],
   "source": [
    "importances = rforest_model.feature_importances_\n",
    "\n",
    "feature_importances = pd.Series(importances, index=X_test.columns)\n",
    "\n",
    "feature_importances.sort_values(ascending=False)"
   ]
  },
  {
   "cell_type": "markdown",
   "id": "b7aabfdc-a1cc-438e-8bae-4b1c09585927",
   "metadata": {},
   "source": [
    "The features with most importance in the random forest model were: longitude, number of reviews, and having a rating of 4.4."
   ]
  },
  {
   "cell_type": "code",
   "execution_count": 58,
   "id": "5e7a9309-c384-47d5-9d2b-ad5ecfc0e3a9",
   "metadata": {
    "tags": []
   },
   "outputs": [
    {
     "data": {
      "text/plain": [
       "neighborhood_avgprice             4.148228\n",
       "longitude                         2.073410\n",
       "availability_365                  1.245550\n",
       "ratings_4.2                       0.575126\n",
       "ratings_4.4                       0.376432\n",
       "baths                             0.122371\n",
       "calculated_host_listings_count    0.092094\n",
       "last_review_month                 0.079249\n",
       "bedrooms                          0.067277\n",
       "minimum_nights                    0.064514\n",
       "license_Exempt                    0.056172\n",
       "ratings_4.8                       0.053023\n",
       "last_review_year                  0.026385\n",
       "number_of_reviews_ltm             0.023043\n",
       "month                             0.016528\n",
       "license_No License                0.010968\n",
       "latitude                          0.010249\n",
       "beds                              0.008928\n",
       "neighgroup_Manhattan              0.003798\n",
       "ratings_4.0                       0.002740\n",
       "roomtype_Shared room              0.002444\n",
       "ratings_3.0                       0.001736\n",
       "neighgroup_Bronx                  0.000042\n",
       "ratings_New                       0.000014\n",
       "neighgroup_Queens                 0.000011\n",
       "ratings_less3                    -0.000002\n",
       "neighgroup_Staten Island         -0.000009\n",
       "license_Has License              -0.000186\n",
       "ratings_4.6                      -0.000289\n",
       "ratings_No rating                -0.001065\n",
       "neighgroup_Brooklyn              -0.002424\n",
       "roomtype_Entire home/apt         -0.021083\n",
       "ratings_5                        -0.029646\n",
       "roomtype_Hotel room              -0.044353\n",
       "roomtype_Private room            -0.054856\n",
       "reviews_per_month                -0.087390\n",
       "number_of_reviews                -0.187918\n",
       "dtype: float64"
      ]
     },
     "execution_count": 58,
     "metadata": {},
     "output_type": "execute_result"
    }
   ],
   "source": [
    "# Compute permutation importance\n",
    "result = permutation_importance(rforest_model, X_test, y_test, n_repeats=10, random_state=0)\n",
    "\n",
    "# Convert to Series for plotting\n",
    "perm_importances = pd.Series(result.importances_mean, index=X.columns)\n",
    "perm_importances.sort_values(ascending=False)"
   ]
  },
  {
   "cell_type": "markdown",
   "id": "d25fe094-aa60-47f8-9da9-0638e2e597f7",
   "metadata": {},
   "source": [
    "The permutation importance measures the importance of a feature by removing a feature one by one, and measuring the difference in the model values with and without the feature. The features with high permutation importance in this model of random forest were: neighborhood average price, longitude, and availability 365."
   ]
  },
  {
   "cell_type": "markdown",
   "id": "6ed6f6ca-8ecf-46d4-9d89-1bd3924c97c8",
   "metadata": {},
   "source": [
    "#### Set-up pipeline and gridsearch"
   ]
  },
  {
   "cell_type": "code",
   "execution_count": 39,
   "id": "6a16c2d2-a3b3-47e4-be80-2c4c2a87b129",
   "metadata": {
    "tags": []
   },
   "outputs": [],
   "source": [
    "estimators = [(\"scaler\", StandardScaler()),\n",
    "              (\"pca\", PCA()),\n",
    "              ('rf', RandomForestRegressor())]\n",
    "\n",
    "cachedir = mkdtemp()\n",
    "pipe = Pipeline(estimators, memory=cachedir)\n",
    "\n",
    "params = {\"scaler\": [StandardScaler(), None], \n",
    "          \"pca__n_components\": [5, 10, 20,]\n",
    "}\n",
    "\n",
    "grid_search = GridSearchCV(pipe, param_grid=params, cv=5)\n"
   ]
  },
  {
   "cell_type": "markdown",
   "id": "e0eefabf-fefc-4db7-926f-4fc52af4bb54",
   "metadata": {},
   "source": [
    "A pipeline and gridsearch were used with the Standard Scaler, PCA, and Random Forest. "
   ]
  },
  {
   "cell_type": "markdown",
   "id": "91788898-a005-46a0-87fc-316934c1562a",
   "metadata": {},
   "source": [
    "#### Fit the gridsearch best fit model"
   ]
  },
  {
   "cell_type": "code",
   "execution_count": 40,
   "id": "317f23d6-b57a-4503-97f7-0247e83e5e0e",
   "metadata": {
    "tags": []
   },
   "outputs": [],
   "source": [
    "rforest_best = grid_search.fit(X_train, y_train)"
   ]
  },
  {
   "cell_type": "code",
   "execution_count": 41,
   "id": "4f4015f9-c3d0-4aa7-b3af-f98678a594dc",
   "metadata": {
    "tags": []
   },
   "outputs": [
    {
     "data": {
      "text/html": [
       "<style>#sk-container-id-4 {color: black;}#sk-container-id-4 pre{padding: 0;}#sk-container-id-4 div.sk-toggleable {background-color: white;}#sk-container-id-4 label.sk-toggleable__label {cursor: pointer;display: block;width: 100%;margin-bottom: 0;padding: 0.3em;box-sizing: border-box;text-align: center;}#sk-container-id-4 label.sk-toggleable__label-arrow:before {content: \"▸\";float: left;margin-right: 0.25em;color: #696969;}#sk-container-id-4 label.sk-toggleable__label-arrow:hover:before {color: black;}#sk-container-id-4 div.sk-estimator:hover label.sk-toggleable__label-arrow:before {color: black;}#sk-container-id-4 div.sk-toggleable__content {max-height: 0;max-width: 0;overflow: hidden;text-align: left;background-color: #f0f8ff;}#sk-container-id-4 div.sk-toggleable__content pre {margin: 0.2em;color: black;border-radius: 0.25em;background-color: #f0f8ff;}#sk-container-id-4 input.sk-toggleable__control:checked~div.sk-toggleable__content {max-height: 200px;max-width: 100%;overflow: auto;}#sk-container-id-4 input.sk-toggleable__control:checked~label.sk-toggleable__label-arrow:before {content: \"▾\";}#sk-container-id-4 div.sk-estimator input.sk-toggleable__control:checked~label.sk-toggleable__label {background-color: #d4ebff;}#sk-container-id-4 div.sk-label input.sk-toggleable__control:checked~label.sk-toggleable__label {background-color: #d4ebff;}#sk-container-id-4 input.sk-hidden--visually {border: 0;clip: rect(1px 1px 1px 1px);clip: rect(1px, 1px, 1px, 1px);height: 1px;margin: -1px;overflow: hidden;padding: 0;position: absolute;width: 1px;}#sk-container-id-4 div.sk-estimator {font-family: monospace;background-color: #f0f8ff;border: 1px dotted black;border-radius: 0.25em;box-sizing: border-box;margin-bottom: 0.5em;}#sk-container-id-4 div.sk-estimator:hover {background-color: #d4ebff;}#sk-container-id-4 div.sk-parallel-item::after {content: \"\";width: 100%;border-bottom: 1px solid gray;flex-grow: 1;}#sk-container-id-4 div.sk-label:hover label.sk-toggleable__label {background-color: #d4ebff;}#sk-container-id-4 div.sk-serial::before {content: \"\";position: absolute;border-left: 1px solid gray;box-sizing: border-box;top: 0;bottom: 0;left: 50%;z-index: 0;}#sk-container-id-4 div.sk-serial {display: flex;flex-direction: column;align-items: center;background-color: white;padding-right: 0.2em;padding-left: 0.2em;position: relative;}#sk-container-id-4 div.sk-item {position: relative;z-index: 1;}#sk-container-id-4 div.sk-parallel {display: flex;align-items: stretch;justify-content: center;background-color: white;position: relative;}#sk-container-id-4 div.sk-item::before, #sk-container-id-4 div.sk-parallel-item::before {content: \"\";position: absolute;border-left: 1px solid gray;box-sizing: border-box;top: 0;bottom: 0;left: 50%;z-index: -1;}#sk-container-id-4 div.sk-parallel-item {display: flex;flex-direction: column;z-index: 1;position: relative;background-color: white;}#sk-container-id-4 div.sk-parallel-item:first-child::after {align-self: flex-end;width: 50%;}#sk-container-id-4 div.sk-parallel-item:last-child::after {align-self: flex-start;width: 50%;}#sk-container-id-4 div.sk-parallel-item:only-child::after {width: 0;}#sk-container-id-4 div.sk-dashed-wrapped {border: 1px dashed gray;margin: 0 0.4em 0.5em 0.4em;box-sizing: border-box;padding-bottom: 0.4em;background-color: white;}#sk-container-id-4 div.sk-label label {font-family: monospace;font-weight: bold;display: inline-block;line-height: 1.2em;}#sk-container-id-4 div.sk-label-container {text-align: center;}#sk-container-id-4 div.sk-container {/* jupyter's `normalize.less` sets `[hidden] { display: none; }` but bootstrap.min.css set `[hidden] { display: none !important; }` so we also need the `!important` here to be able to override the default hidden behavior on the sphinx rendered scikit-learn.org. See: https://github.com/scikit-learn/scikit-learn/issues/21755 */display: inline-block !important;position: relative;}#sk-container-id-4 div.sk-text-repr-fallback {display: none;}</style><div id=\"sk-container-id-4\" class=\"sk-top-container\"><div class=\"sk-text-repr-fallback\"><pre>Pipeline(memory=&#x27;/var/folders/s2/vdwvjj2j24d4tg5yz10ycr080000gn/T/tmpkr0z_nye&#x27;,\n",
       "         steps=[(&#x27;scaler&#x27;, None), (&#x27;pca&#x27;, PCA(n_components=20)),\n",
       "                (&#x27;rf&#x27;, RandomForestRegressor())])</pre><b>In a Jupyter environment, please rerun this cell to show the HTML representation or trust the notebook. <br />On GitHub, the HTML representation is unable to render, please try loading this page with nbviewer.org.</b></div><div class=\"sk-container\" hidden><div class=\"sk-item sk-dashed-wrapped\"><div class=\"sk-label-container\"><div class=\"sk-label sk-toggleable\"><input class=\"sk-toggleable__control sk-hidden--visually\" id=\"sk-estimator-id-10\" type=\"checkbox\" ><label for=\"sk-estimator-id-10\" class=\"sk-toggleable__label sk-toggleable__label-arrow\">Pipeline</label><div class=\"sk-toggleable__content\"><pre>Pipeline(memory=&#x27;/var/folders/s2/vdwvjj2j24d4tg5yz10ycr080000gn/T/tmpkr0z_nye&#x27;,\n",
       "         steps=[(&#x27;scaler&#x27;, None), (&#x27;pca&#x27;, PCA(n_components=20)),\n",
       "                (&#x27;rf&#x27;, RandomForestRegressor())])</pre></div></div></div><div class=\"sk-serial\"><div class=\"sk-item\"><div class=\"sk-estimator sk-toggleable\"><input class=\"sk-toggleable__control sk-hidden--visually\" id=\"sk-estimator-id-11\" type=\"checkbox\" ><label for=\"sk-estimator-id-11\" class=\"sk-toggleable__label sk-toggleable__label-arrow\">None</label><div class=\"sk-toggleable__content\"><pre>None</pre></div></div></div><div class=\"sk-item\"><div class=\"sk-estimator sk-toggleable\"><input class=\"sk-toggleable__control sk-hidden--visually\" id=\"sk-estimator-id-12\" type=\"checkbox\" ><label for=\"sk-estimator-id-12\" class=\"sk-toggleable__label sk-toggleable__label-arrow\">PCA</label><div class=\"sk-toggleable__content\"><pre>PCA(n_components=20)</pre></div></div></div><div class=\"sk-item\"><div class=\"sk-estimator sk-toggleable\"><input class=\"sk-toggleable__control sk-hidden--visually\" id=\"sk-estimator-id-13\" type=\"checkbox\" ><label for=\"sk-estimator-id-13\" class=\"sk-toggleable__label sk-toggleable__label-arrow\">RandomForestRegressor</label><div class=\"sk-toggleable__content\"><pre>RandomForestRegressor()</pre></div></div></div></div></div></div></div>"
      ],
      "text/plain": [
       "Pipeline(memory='/var/folders/s2/vdwvjj2j24d4tg5yz10ycr080000gn/T/tmpkr0z_nye',\n",
       "         steps=[('scaler', None), ('pca', PCA(n_components=20)),\n",
       "                ('rf', RandomForestRegressor())])"
      ]
     },
     "execution_count": 41,
     "metadata": {},
     "output_type": "execute_result"
    }
   ],
   "source": [
    "rforest_best.best_estimator_\n"
   ]
  },
  {
   "cell_type": "code",
   "execution_count": 42,
   "id": "00db6644-7daa-4565-b126-da828c820f86",
   "metadata": {
    "tags": []
   },
   "outputs": [
    {
     "name": "stdout",
     "output_type": "stream",
     "text": [
      "The best fit scaler is: None\n",
      "The best fit number of PCA components is: PCA(n_components=20)\n",
      "The best fit model is: RandomForestRegressor()\n"
     ]
    }
   ],
   "source": [
    "print(f\"The best fit scaler is: {rforest_best.best_estimator_[0]}\")\n",
    "print(f\"The best fit number of PCA components is: {rforest_best.best_estimator_[1]}\")\n",
    "print(f\"The best fit model is: {rforest_best.best_estimator_[2]}\")"
   ]
  },
  {
   "cell_type": "code",
   "execution_count": 60,
   "id": "b76e9c7e-2ff2-489f-ace5-61f9f2556e09",
   "metadata": {
    "tags": []
   },
   "outputs": [
    {
     "name": "stdout",
     "output_type": "stream",
     "text": [
      "Train score: 0.8124633690470261\n",
      "Test score: -0.21660100085360634\n",
      "RMSE: 336.80278134839165\n",
      "MAE: 85.08160163776495\n"
     ]
    }
   ],
   "source": [
    "# find scores\n",
    "score_r2_rmse_mae(rforest_best)"
   ]
  },
  {
   "cell_type": "code",
   "execution_count": 61,
   "id": "18e8c8d0-3464-4998-a4e0-cde463e0fda6",
   "metadata": {},
   "outputs": [
    {
     "data": {
      "text/html": [
       "<div>\n",
       "<style scoped>\n",
       "    .dataframe tbody tr th:only-of-type {\n",
       "        vertical-align: middle;\n",
       "    }\n",
       "\n",
       "    .dataframe tbody tr th {\n",
       "        vertical-align: top;\n",
       "    }\n",
       "\n",
       "    .dataframe thead th {\n",
       "        text-align: right;\n",
       "    }\n",
       "</style>\n",
       "<table border=\"1\" class=\"dataframe\">\n",
       "  <thead>\n",
       "    <tr style=\"text-align: right;\">\n",
       "      <th></th>\n",
       "      <th>True_y</th>\n",
       "      <th>Pred_y</th>\n",
       "      <th>Diff</th>\n",
       "    </tr>\n",
       "  </thead>\n",
       "  <tbody>\n",
       "    <tr>\n",
       "      <th>17392</th>\n",
       "      <td>165.0</td>\n",
       "      <td>210.25</td>\n",
       "      <td>-45.25</td>\n",
       "    </tr>\n",
       "    <tr>\n",
       "      <th>14299</th>\n",
       "      <td>225.0</td>\n",
       "      <td>190.11</td>\n",
       "      <td>34.89</td>\n",
       "    </tr>\n",
       "    <tr>\n",
       "      <th>14753</th>\n",
       "      <td>112.0</td>\n",
       "      <td>187.89</td>\n",
       "      <td>-75.89</td>\n",
       "    </tr>\n",
       "    <tr>\n",
       "      <th>15306</th>\n",
       "      <td>200.0</td>\n",
       "      <td>204.86</td>\n",
       "      <td>-4.86</td>\n",
       "    </tr>\n",
       "    <tr>\n",
       "      <th>16482</th>\n",
       "      <td>48.0</td>\n",
       "      <td>59.10</td>\n",
       "      <td>-11.10</td>\n",
       "    </tr>\n",
       "    <tr>\n",
       "      <th>...</th>\n",
       "      <td>...</td>\n",
       "      <td>...</td>\n",
       "      <td>...</td>\n",
       "    </tr>\n",
       "    <tr>\n",
       "      <th>13289</th>\n",
       "      <td>149.0</td>\n",
       "      <td>198.83</td>\n",
       "      <td>-49.83</td>\n",
       "    </tr>\n",
       "    <tr>\n",
       "      <th>11555</th>\n",
       "      <td>254.0</td>\n",
       "      <td>262.07</td>\n",
       "      <td>-8.07</td>\n",
       "    </tr>\n",
       "    <tr>\n",
       "      <th>10644</th>\n",
       "      <td>166.0</td>\n",
       "      <td>80.13</td>\n",
       "      <td>85.87</td>\n",
       "    </tr>\n",
       "    <tr>\n",
       "      <th>49</th>\n",
       "      <td>1000.0</td>\n",
       "      <td>759.31</td>\n",
       "      <td>240.69</td>\n",
       "    </tr>\n",
       "    <tr>\n",
       "      <th>13704</th>\n",
       "      <td>400.0</td>\n",
       "      <td>262.82</td>\n",
       "      <td>137.18</td>\n",
       "    </tr>\n",
       "  </tbody>\n",
       "</table>\n",
       "<p>4152 rows × 3 columns</p>\n",
       "</div>"
      ],
      "text/plain": [
       "       True_y  Pred_y    Diff\n",
       "17392   165.0  210.25  -45.25\n",
       "14299   225.0  190.11   34.89\n",
       "14753   112.0  187.89  -75.89\n",
       "15306   200.0  204.86   -4.86\n",
       "16482    48.0   59.10  -11.10\n",
       "...       ...     ...     ...\n",
       "13289   149.0  198.83  -49.83\n",
       "11555   254.0  262.07   -8.07\n",
       "10644   166.0   80.13   85.87\n",
       "49     1000.0  759.31  240.69\n",
       "13704   400.0  262.82  137.18\n",
       "\n",
       "[4152 rows x 3 columns]"
      ]
     },
     "execution_count": 61,
     "metadata": {},
     "output_type": "execute_result"
    }
   ],
   "source": [
    "# compare y_pred to y_true\n",
    "\n",
    "# predict y_pred values\n",
    "y_pred = rforest_best.predict(X_test)\n",
    "\n",
    "# add to df\n",
    "y_truevspred = pd.DataFrame({\"True_y\": y_test, \"Pred_y\": y_pred, \"Diff\": (y_test - y_pred)})\n",
    "\n",
    "# display\n",
    "y_truevspred"
   ]
  },
  {
   "cell_type": "markdown",
   "id": "8fa9a954-11bb-4ca5-95a9-985d80a7d8ca",
   "metadata": {
    "tags": []
   },
   "source": [
    "#### Plots of predicted vs actual"
   ]
  },
  {
   "cell_type": "code",
   "execution_count": 62,
   "id": "15cb1660-352e-4038-bed9-52f39f6e0136",
   "metadata": {
    "tags": []
   },
   "outputs": [
    {
     "data": {
      "image/png": "[encoded data removed]",
      "text/plain": [
       "<Figure size 600x400 with 1 Axes>"
      ]
     },
     "metadata": {},
     "output_type": "display_data"
    }
   ],
   "source": [
    "# scatterplot\n",
    "\n",
    "plt.figure(figsize=(6,4))\n",
    "ax = sns.scatterplot(x=y_pred, y=y_test)\n",
    "plt.suptitle(\"Scatterplot of y_pred and y_test\")\n",
    "plt.xlabel(\"y_pred\")\n",
    "plt.ylabel(\"y_test\")\n",
    "\n",
    "x_vals = np.linspace(y_pred.min(), y_pred.max(), 100)\n",
    "ax.plot(x_vals, x_vals, color='red', linestyle='--', linewidth=2) \n",
    "\n",
    "plt.show()\n"
   ]
  },
  {
   "cell_type": "markdown",
   "id": "ed8bebc2-e62b-4761-b4e3-5339d60abeca",
   "metadata": {},
   "source": [
    "The random forest model was reasonable at predicting the outlier values, and the best outlier predictions of the three models."
   ]
  },
  {
   "cell_type": "code",
   "execution_count": 64,
   "id": "3681e078-0eac-4201-a1b2-f9fc47a2d27e",
   "metadata": {
    "tags": []
   },
   "outputs": [
    {
     "data": {
      "image/png": "[encoded data removed]",
      "text/plain": [
       "<Figure size 600x400 with 1 Axes>"
      ]
     },
     "metadata": {},
     "output_type": "display_data"
    }
   ],
   "source": [
    "# scatterplot\n",
    "\n",
    "plt.figure(figsize=(6,4))\n",
    "ax = sns.scatterplot(x=y_pred, y=y_test)\n",
    "plt.suptitle(\"Scatterplot of y_pred and y_test\")\n",
    "plt.xlabel(\"y_pred\")\n",
    "plt.ylabel(\"y_test\")\n",
    "\n",
    "x_vals = np.linspace(y_pred.min(), y_pred.max(), 100)\n",
    "ax.plot(x_vals, x_vals, color='red', linestyle='--', linewidth=2) \n",
    "\n",
    "plt.xlim(0, 1000)\n",
    "plt.ylim(0, 1000)\n",
    "\n",
    "plt.show()\n"
   ]
  },
  {
   "cell_type": "markdown",
   "id": "dbabc581-d42c-4222-9369-c79ddafa0707",
   "metadata": {},
   "source": [
    "#### Pickle and save model"
   ]
  },
  {
   "cell_type": "code",
   "execution_count": 50,
   "id": "bf90e28c-4f57-4bfc-97bc-939f48a03310",
   "metadata": {
    "tags": []
   },
   "outputs": [],
   "source": [
    "# pickle.dump(rforest_best, open(\"../models/rf_model.pkl\",\"wb\"))"
   ]
  }
 ],
 "metadata": {
  "kernelspec": {
   "display_name": "Python 3 (ipykernel)",
   "language": "python",
   "name": "python3"
  },
  "language_info": {
   "codemirror_mode": {
    "name": "ipython",
    "version": 3
   },
   "file_extension": ".py",
   "mimetype": "text/x-python",
   "name": "python",
   "nbconvert_exporter": "python",
   "pygments_lexer": "ipython3",
   "version": "3.11.5"
  }
 },
 "nbformat": 4,
 "nbformat_minor": 5
}
