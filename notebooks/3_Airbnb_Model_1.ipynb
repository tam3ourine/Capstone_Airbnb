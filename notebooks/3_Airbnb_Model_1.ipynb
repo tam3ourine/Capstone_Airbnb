{
 "cells": [
  {
   "cell_type": "markdown",
   "id": "2574470e-e6d7-4471-8bf6-330e758c15d9",
   "metadata": {
    "tags": []
   },
   "source": [
    "# S3: AirBnb NYC 2024 Listings\n",
    "by: Tam Trinh           \n",
    "April 6, 2025         "
   ]
  },
  {
   "cell_type": "markdown",
   "id": "0510d005-5b83-4e24-b898-c24ea1e62d4a",
   "metadata": {
    "tags": []
   },
   "source": [
    "<a id=\"0\"></a> <br>\n",
    "## Table of Contents  \n",
    "\n",
    "- [Sprint Goals](#6)\n",
    "- [Introduction](#1)\n",
    "- [Set-up and Dataset Overview](#7)\n",
    "- [Part 1: EDA](#2)\n",
    "- [Part 2: Preprocessing](#3)   \n",
    "- [Part 3: Modeling](#4) \n",
    "- [Stylized Visualizations](#8) \n",
    "- [Conclusion](#5)"
   ]
  },
  {
   "cell_type": "markdown",
   "id": "9bd5170e-5e4d-4e0a-8268-edc017ba4f8a",
   "metadata": {
    "tags": []
   },
   "source": [
    "<a id=\"7\"></a>\n",
    "## Set-up and Load Data"
   ]
  },
  {
   "cell_type": "code",
   "execution_count": 2,
   "id": "ecec72af-b297-497b-8c40-fbd6df1080f1",
   "metadata": {
    "tags": []
   },
   "outputs": [],
   "source": [
    "# imports for functionality and plotting\n",
    "import numpy as np\n",
    "import pandas as pd\n",
    "import matplotlib.pyplot as plt\n",
    "import seaborn as sns\n",
    "\n",
    "# optional imports\n",
    "import warnings\n",
    "import pickle\n",
    "\n",
    "# imports for preprocessing\n",
    "from sklearn.preprocessing import OneHotEncoder\n",
    "from sklearn.preprocessing import StandardScaler\n",
    "from sklearn.decomposition import PCA\n",
    "\n",
    "# imports for modeling\n",
    "from sklearn.model_selection import train_test_split\n",
    "from sklearn.pipeline import Pipeline\n",
    "from tempfile import mkdtemp\n",
    "from sklearn.model_selection import GridSearchCV\n",
    "from sklearn.linear_model import LinearRegression\n",
    "from sklearn.ensemble import RandomForestRegressor\n",
    "from xgboost import XGBRegressor\n",
    "\n",
    "# imports for model metrics\n",
    "from sklearn.metrics import mean_squared_error\n",
    "from sklearn.metrics import mean_absolute_error\n",
    "from sklearn.inspection import permutation_importance"
   ]
  },
  {
   "cell_type": "code",
   "execution_count": 3,
   "id": "794e0583-0a1c-4fec-92c6-589b71814538",
   "metadata": {
    "tags": []
   },
   "outputs": [],
   "source": [
    "# ignore warnings\n",
    "from warnings import filterwarnings\n",
    "warnings.filterwarnings('ignore')"
   ]
  },
  {
   "cell_type": "code",
   "execution_count": 4,
   "id": "d805b444-b032-48cd-980d-b627fa2e96d5",
   "metadata": {
    "tags": []
   },
   "outputs": [],
   "source": [
    "# load original dataset\n",
    "airbnb_df = pd.read_csv(\"../data/new_york_listings_2024.csv\")\n",
    "\n",
    "# load dataset from previous notebook\n",
    "cleaned_airbnb = pd.read_csv(\"../data/cleaned_airbnb.csv\")"
   ]
  },
  {
   "cell_type": "markdown",
   "id": "f6bd6297-8210-445e-894b-059fc4ddf36d",
   "metadata": {},
   "source": [
    "__________________"
   ]
  },
  {
   "cell_type": "markdown",
   "id": "630eb708-cd46-43b9-8495-0848978a1279",
   "metadata": {
    "tags": []
   },
   "source": [
    "<a id=\"4\"></a>\n",
    "## Part 3: Modeling"
   ]
  },
  {
   "cell_type": "markdown",
   "id": "8b324868-1286-45af-8c46-93b6469ed8c0",
   "metadata": {},
   "source": [
    "### Modeling Prep"
   ]
  },
  {
   "cell_type": "markdown",
   "id": "af41d98b-72a8-47cd-819e-9a228d336286",
   "metadata": {
    "tags": []
   },
   "source": [
    "#### Train/test split"
   ]
  },
  {
   "cell_type": "code",
   "execution_count": 5,
   "id": "ac4e2060-694a-49a8-8e37-986f70625bde",
   "metadata": {
    "tags": []
   },
   "outputs": [],
   "source": [
    "# split the data into train and test sets\n",
    "X = cleaned_airbnb.loc[:, cleaned_airbnb.columns != \"price\"]\n",
    "y = cleaned_airbnb[\"price\"]\n",
    "\n",
    "X_train, X_test, y_train, y_test = train_test_split(X, y, test_size=0.2, random_state=1)"
   ]
  },
  {
   "cell_type": "code",
   "execution_count": 6,
   "id": "7d78adac-fef1-4a97-86db-084295b4f0b7",
   "metadata": {
    "tags": []
   },
   "outputs": [],
   "source": [
    "# optional:\n",
    "\n",
    "# # sample for quicker test runs\n",
    "# sample_airbnb = cleaned_airbnb.sample(n=5000, random_state=1)\n",
    "\n",
    "# # split the data into train and test sets\n",
    "# X = sample_airbnb.loc[:, sample_airbnb.columns != \"price\"]\n",
    "# y = sample_airbnb[\"price\"]\n",
    "\n",
    "# X_train, X_test, y_train, y_test = train_test_split(X, y, test_size=0.2, random_state=1)"
   ]
  },
  {
   "cell_type": "markdown",
   "id": "6833ebb3-150a-44e8-9bf7-423b5f95d210",
   "metadata": {},
   "source": [
    "#### Create functions for modeling interpretation"
   ]
  },
  {
   "cell_type": "code",
   "execution_count": 31,
   "id": "56617b13-b75e-401c-b495-e1a2f212060b",
   "metadata": {
    "tags": []
   },
   "outputs": [],
   "source": [
    "def score_r2_rmse_mae(model):\n",
    "\n",
    "    # print train and test R^2 scores\n",
    "    print(f\"Train score: {model.score(X_train, y_train)}\")\n",
    "    print(f\"Test score: {model.score(X_test, y_test)}\")\n",
    "\n",
    "    # make array of y_pred\n",
    "    y_pred = model.predict(X_test)\n",
    "\n",
    "    # Calculate RMSE\n",
    "    mse = mean_squared_error(y_test, y_pred)\n",
    "    rmse = np.sqrt(mse)\n",
    "    print(\"RMSE:\", rmse)\n",
    "\n",
    "    # Calculate MAE\n",
    "    mae = mean_absolute_error(y_test, y_pred)\n",
    "    print(\"MAE:\", mae)"
   ]
  },
  {
   "cell_type": "code",
   "execution_count": 43,
   "id": "ecd70f70-eeb1-4871-9fbd-2caf765acea3",
   "metadata": {
    "tags": []
   },
   "outputs": [],
   "source": [
    "def truevspred_y(model, X_test, y_test):\n",
    "\n",
    "    # get y_pred vals\n",
    "    y_pred = model.predict(X_test)\n",
    "\n",
    "    # create df\n",
    "    truevspred = pd.DataFrame({\"True_y\": y_test, \"Pred_y\": y_pred, \"Diff\": (y_test - y_pred)})\n",
    "\n",
    "    return truevspred_y"
   ]
  },
  {
   "cell_type": "markdown",
   "id": "9b2c74ad-edf8-45a6-af28-b23404a28c1a",
   "metadata": {
    "tags": []
   },
   "source": [
    "### Linear Regression Modeling"
   ]
  },
  {
   "cell_type": "markdown",
   "id": "28a8ed33-0149-46d2-abe3-42aa8045d5a5",
   "metadata": {},
   "source": [
    "#### Fit initial linear regression model"
   ]
  },
  {
   "cell_type": "code",
   "execution_count": 34,
   "id": "e8c1c37b-e96c-407b-8998-d3a389c92544",
   "metadata": {
    "tags": []
   },
   "outputs": [
    {
     "data": {
      "text/html": [
       "<style>#sk-container-id-3 {color: black;}#sk-container-id-3 pre{padding: 0;}#sk-container-id-3 div.sk-toggleable {background-color: white;}#sk-container-id-3 label.sk-toggleable__label {cursor: pointer;display: block;width: 100%;margin-bottom: 0;padding: 0.3em;box-sizing: border-box;text-align: center;}#sk-container-id-3 label.sk-toggleable__label-arrow:before {content: \"▸\";float: left;margin-right: 0.25em;color: #696969;}#sk-container-id-3 label.sk-toggleable__label-arrow:hover:before {color: black;}#sk-container-id-3 div.sk-estimator:hover label.sk-toggleable__label-arrow:before {color: black;}#sk-container-id-3 div.sk-toggleable__content {max-height: 0;max-width: 0;overflow: hidden;text-align: left;background-color: #f0f8ff;}#sk-container-id-3 div.sk-toggleable__content pre {margin: 0.2em;color: black;border-radius: 0.25em;background-color: #f0f8ff;}#sk-container-id-3 input.sk-toggleable__control:checked~div.sk-toggleable__content {max-height: 200px;max-width: 100%;overflow: auto;}#sk-container-id-3 input.sk-toggleable__control:checked~label.sk-toggleable__label-arrow:before {content: \"▾\";}#sk-container-id-3 div.sk-estimator input.sk-toggleable__control:checked~label.sk-toggleable__label {background-color: #d4ebff;}#sk-container-id-3 div.sk-label input.sk-toggleable__control:checked~label.sk-toggleable__label {background-color: #d4ebff;}#sk-container-id-3 input.sk-hidden--visually {border: 0;clip: rect(1px 1px 1px 1px);clip: rect(1px, 1px, 1px, 1px);height: 1px;margin: -1px;overflow: hidden;padding: 0;position: absolute;width: 1px;}#sk-container-id-3 div.sk-estimator {font-family: monospace;background-color: #f0f8ff;border: 1px dotted black;border-radius: 0.25em;box-sizing: border-box;margin-bottom: 0.5em;}#sk-container-id-3 div.sk-estimator:hover {background-color: #d4ebff;}#sk-container-id-3 div.sk-parallel-item::after {content: \"\";width: 100%;border-bottom: 1px solid gray;flex-grow: 1;}#sk-container-id-3 div.sk-label:hover label.sk-toggleable__label {background-color: #d4ebff;}#sk-container-id-3 div.sk-serial::before {content: \"\";position: absolute;border-left: 1px solid gray;box-sizing: border-box;top: 0;bottom: 0;left: 50%;z-index: 0;}#sk-container-id-3 div.sk-serial {display: flex;flex-direction: column;align-items: center;background-color: white;padding-right: 0.2em;padding-left: 0.2em;position: relative;}#sk-container-id-3 div.sk-item {position: relative;z-index: 1;}#sk-container-id-3 div.sk-parallel {display: flex;align-items: stretch;justify-content: center;background-color: white;position: relative;}#sk-container-id-3 div.sk-item::before, #sk-container-id-3 div.sk-parallel-item::before {content: \"\";position: absolute;border-left: 1px solid gray;box-sizing: border-box;top: 0;bottom: 0;left: 50%;z-index: -1;}#sk-container-id-3 div.sk-parallel-item {display: flex;flex-direction: column;z-index: 1;position: relative;background-color: white;}#sk-container-id-3 div.sk-parallel-item:first-child::after {align-self: flex-end;width: 50%;}#sk-container-id-3 div.sk-parallel-item:last-child::after {align-self: flex-start;width: 50%;}#sk-container-id-3 div.sk-parallel-item:only-child::after {width: 0;}#sk-container-id-3 div.sk-dashed-wrapped {border: 1px dashed gray;margin: 0 0.4em 0.5em 0.4em;box-sizing: border-box;padding-bottom: 0.4em;background-color: white;}#sk-container-id-3 div.sk-label label {font-family: monospace;font-weight: bold;display: inline-block;line-height: 1.2em;}#sk-container-id-3 div.sk-label-container {text-align: center;}#sk-container-id-3 div.sk-container {/* jupyter's `normalize.less` sets `[hidden] { display: none; }` but bootstrap.min.css set `[hidden] { display: none !important; }` so we also need the `!important` here to be able to override the default hidden behavior on the sphinx rendered scikit-learn.org. See: https://github.com/scikit-learn/scikit-learn/issues/21755 */display: inline-block !important;position: relative;}#sk-container-id-3 div.sk-text-repr-fallback {display: none;}</style><div id=\"sk-container-id-3\" class=\"sk-top-container\"><div class=\"sk-text-repr-fallback\"><pre>LinearRegression()</pre><b>In a Jupyter environment, please rerun this cell to show the HTML representation or trust the notebook. <br />On GitHub, the HTML representation is unable to render, please try loading this page with nbviewer.org.</b></div><div class=\"sk-container\" hidden><div class=\"sk-item\"><div class=\"sk-estimator sk-toggleable\"><input class=\"sk-toggleable__control sk-hidden--visually\" id=\"sk-estimator-id-6\" type=\"checkbox\" checked><label for=\"sk-estimator-id-6\" class=\"sk-toggleable__label sk-toggleable__label-arrow\">LinearRegression</label><div class=\"sk-toggleable__content\"><pre>LinearRegression()</pre></div></div></div></div></div>"
      ],
      "text/plain": [
       "LinearRegression()"
      ]
     },
     "execution_count": 34,
     "metadata": {},
     "output_type": "execute_result"
    }
   ],
   "source": [
    "# initialize linear regression model\n",
    "linreg = LinearRegression()\n",
    "\n",
    "# fit logistic regression model to xtrain\n",
    "linreg.fit(X_train, y_train)"
   ]
  },
  {
   "cell_type": "code",
   "execution_count": 35,
   "id": "b3927762-e581-4794-9a38-37d667fec6f3",
   "metadata": {
    "tags": []
   },
   "outputs": [
    {
     "name": "stdout",
     "output_type": "stream",
     "text": [
      "Train score: 0.011133861555947533\n",
      "Test score: 0.1191020111675285\n",
      "RMSE: 286.5922181533423\n",
      "MAE: 105.97546382801335\n"
     ]
    }
   ],
   "source": [
    "# find scores\n",
    "score_r2_rmse_mae(linreg)"
   ]
  },
  {
   "cell_type": "markdown",
   "id": "78b18703-19d4-43de-9f9f-32795d065c88",
   "metadata": {},
   "source": [
    "An initial testing of a linear regression model is performed to poor results. Surprisingly, the test score performed better than the train score."
   ]
  },
  {
   "cell_type": "markdown",
   "id": "de4b0898-1aca-42d9-87b8-0bad6fa059a1",
   "metadata": {},
   "source": [
    "#### Feature Coefficients"
   ]
  },
  {
   "cell_type": "code",
   "execution_count": 46,
   "id": "20f6fb83-23da-412e-869b-fb3bf341ddba",
   "metadata": {
    "tags": []
   },
   "outputs": [],
   "source": [
    "linreg_coef = pd.Series(linreg.coef_, index=X_test.columns)"
   ]
  },
  {
   "cell_type": "code",
   "execution_count": 47,
   "id": "1eb03bb4-7d19-4903-8cbf-fdb64c81990f",
   "metadata": {
    "tags": []
   },
   "outputs": [
    {
     "data": {
      "text/plain": [
       "latitude                          258.852537\n",
       "ratings_4.2                       121.520250\n",
       "roomtype_Hotel room                82.599852\n",
       "baths                              66.678907\n",
       "ratings_4.4                        50.789596\n",
       "bedrooms                           47.826466\n",
       "license_Exempt                     29.750255\n",
       "ratings_5                          20.331999\n",
       "neighgroup_Brooklyn                18.141713\n",
       "beds                               15.728344\n",
       "neighgroup_Queens                  10.997759\n",
       "ratings_4.8                         9.064060\n",
       "neighgroup_Staten Island            3.915155\n",
       "neighborhood_avgprice               0.986480\n",
       "number_of_reviews_ltm               0.218378\n",
       "availability_365                    0.207069\n",
       "minimum_nights                     -0.080814\n",
       "number_of_reviews                  -0.089800\n",
       "calculated_host_listings_count     -0.149406\n",
       "license_Has License                -1.275154\n",
       "month                              -1.466603\n",
       "last_review_month                  -1.466603\n",
       "ratings_3.0                        -3.156139\n",
       "reviews_per_month                  -5.737657\n",
       "ratings_4.6                       -12.634232\n",
       "neighgroup_Manhattan              -12.819409\n",
       "last_review_year                  -14.298473\n",
       "ratings_No rating                 -14.454960\n",
       "neighgroup_Bronx                  -20.235218\n",
       "roomtype_Entire home/apt          -20.336559\n",
       "roomtype_Shared room              -25.346635\n",
       "license_No License                -28.475101\n",
       "roomtype_Private room             -36.916658\n",
       "ratings_New                       -44.601075\n",
       "ratings_4.0                       -46.480750\n",
       "ratings_less3                     -80.378748\n",
       "longitude                         -91.631327\n",
       "dtype: float64"
      ]
     },
     "execution_count": 47,
     "metadata": {},
     "output_type": "execute_result"
    }
   ],
   "source": [
    "linreg_coef.sort_values(ascending=False)"
   ]
  },
  {
   "cell_type": "markdown",
   "id": "89a8a054-1e42-48f7-835a-fcaca2e50231",
   "metadata": {},
   "source": [
    "#### Set-up pipeline and gridsearch"
   ]
  },
  {
   "cell_type": "code",
   "execution_count": 48,
   "id": "bfe382ce-1bb1-47fe-a078-752e0af2c8ed",
   "metadata": {
    "tags": []
   },
   "outputs": [],
   "source": [
    "estimators = [(\"scaler\", StandardScaler()),\n",
    "              (\"pca\", PCA()),\n",
    "              ('linreg', LinearRegression())]\n",
    "\n",
    "cachedir = mkdtemp()\n",
    "pipe = Pipeline(estimators, memory=cachedir)\n",
    "\n",
    "params = {\"scaler\": [StandardScaler(), None], \n",
    "          \"pca__n_components\": [5, 10, 20,]\n",
    "}\n",
    "\n",
    "grid_search = GridSearchCV(pipe, param_grid=params, cv=5)\n"
   ]
  },
  {
   "cell_type": "markdown",
   "id": "9065f09d-55e3-4d5e-891b-9c7e0e8dbac6",
   "metadata": {},
   "source": [
    "A pipeline and gridsearch structure is built to run the model through. The StandardScaler, PCA, and Linear Regression are used. "
   ]
  },
  {
   "cell_type": "markdown",
   "id": "766d56ea-6120-4eb3-ad49-224de629d62c",
   "metadata": {},
   "source": [
    "#### Fit the gridsearch best fit model"
   ]
  },
  {
   "cell_type": "code",
   "execution_count": 49,
   "id": "8462c1ec-51e8-4a1a-a971-0142cb06cd07",
   "metadata": {
    "tags": []
   },
   "outputs": [
    {
     "data": {
      "text/html": [
       "<style>#sk-container-id-4 {color: black;}#sk-container-id-4 pre{padding: 0;}#sk-container-id-4 div.sk-toggleable {background-color: white;}#sk-container-id-4 label.sk-toggleable__label {cursor: pointer;display: block;width: 100%;margin-bottom: 0;padding: 0.3em;box-sizing: border-box;text-align: center;}#sk-container-id-4 label.sk-toggleable__label-arrow:before {content: \"▸\";float: left;margin-right: 0.25em;color: #696969;}#sk-container-id-4 label.sk-toggleable__label-arrow:hover:before {color: black;}#sk-container-id-4 div.sk-estimator:hover label.sk-toggleable__label-arrow:before {color: black;}#sk-container-id-4 div.sk-toggleable__content {max-height: 0;max-width: 0;overflow: hidden;text-align: left;background-color: #f0f8ff;}#sk-container-id-4 div.sk-toggleable__content pre {margin: 0.2em;color: black;border-radius: 0.25em;background-color: #f0f8ff;}#sk-container-id-4 input.sk-toggleable__control:checked~div.sk-toggleable__content {max-height: 200px;max-width: 100%;overflow: auto;}#sk-container-id-4 input.sk-toggleable__control:checked~label.sk-toggleable__label-arrow:before {content: \"▾\";}#sk-container-id-4 div.sk-estimator input.sk-toggleable__control:checked~label.sk-toggleable__label {background-color: #d4ebff;}#sk-container-id-4 div.sk-label input.sk-toggleable__control:checked~label.sk-toggleable__label {background-color: #d4ebff;}#sk-container-id-4 input.sk-hidden--visually {border: 0;clip: rect(1px 1px 1px 1px);clip: rect(1px, 1px, 1px, 1px);height: 1px;margin: -1px;overflow: hidden;padding: 0;position: absolute;width: 1px;}#sk-container-id-4 div.sk-estimator {font-family: monospace;background-color: #f0f8ff;border: 1px dotted black;border-radius: 0.25em;box-sizing: border-box;margin-bottom: 0.5em;}#sk-container-id-4 div.sk-estimator:hover {background-color: #d4ebff;}#sk-container-id-4 div.sk-parallel-item::after {content: \"\";width: 100%;border-bottom: 1px solid gray;flex-grow: 1;}#sk-container-id-4 div.sk-label:hover label.sk-toggleable__label {background-color: #d4ebff;}#sk-container-id-4 div.sk-serial::before {content: \"\";position: absolute;border-left: 1px solid gray;box-sizing: border-box;top: 0;bottom: 0;left: 50%;z-index: 0;}#sk-container-id-4 div.sk-serial {display: flex;flex-direction: column;align-items: center;background-color: white;padding-right: 0.2em;padding-left: 0.2em;position: relative;}#sk-container-id-4 div.sk-item {position: relative;z-index: 1;}#sk-container-id-4 div.sk-parallel {display: flex;align-items: stretch;justify-content: center;background-color: white;position: relative;}#sk-container-id-4 div.sk-item::before, #sk-container-id-4 div.sk-parallel-item::before {content: \"\";position: absolute;border-left: 1px solid gray;box-sizing: border-box;top: 0;bottom: 0;left: 50%;z-index: -1;}#sk-container-id-4 div.sk-parallel-item {display: flex;flex-direction: column;z-index: 1;position: relative;background-color: white;}#sk-container-id-4 div.sk-parallel-item:first-child::after {align-self: flex-end;width: 50%;}#sk-container-id-4 div.sk-parallel-item:last-child::after {align-self: flex-start;width: 50%;}#sk-container-id-4 div.sk-parallel-item:only-child::after {width: 0;}#sk-container-id-4 div.sk-dashed-wrapped {border: 1px dashed gray;margin: 0 0.4em 0.5em 0.4em;box-sizing: border-box;padding-bottom: 0.4em;background-color: white;}#sk-container-id-4 div.sk-label label {font-family: monospace;font-weight: bold;display: inline-block;line-height: 1.2em;}#sk-container-id-4 div.sk-label-container {text-align: center;}#sk-container-id-4 div.sk-container {/* jupyter's `normalize.less` sets `[hidden] { display: none; }` but bootstrap.min.css set `[hidden] { display: none !important; }` so we also need the `!important` here to be able to override the default hidden behavior on the sphinx rendered scikit-learn.org. See: https://github.com/scikit-learn/scikit-learn/issues/21755 */display: inline-block !important;position: relative;}#sk-container-id-4 div.sk-text-repr-fallback {display: none;}</style><div id=\"sk-container-id-4\" class=\"sk-top-container\"><div class=\"sk-text-repr-fallback\"><pre>Pipeline(memory=&#x27;/var/folders/s2/vdwvjj2j24d4tg5yz10ycr080000gn/T/tmp_ro3njdh&#x27;,\n",
       "         steps=[(&#x27;scaler&#x27;, StandardScaler()), (&#x27;pca&#x27;, PCA(n_components=10)),\n",
       "                (&#x27;linreg&#x27;, LinearRegression())])</pre><b>In a Jupyter environment, please rerun this cell to show the HTML representation or trust the notebook. <br />On GitHub, the HTML representation is unable to render, please try loading this page with nbviewer.org.</b></div><div class=\"sk-container\" hidden><div class=\"sk-item sk-dashed-wrapped\"><div class=\"sk-label-container\"><div class=\"sk-label sk-toggleable\"><input class=\"sk-toggleable__control sk-hidden--visually\" id=\"sk-estimator-id-7\" type=\"checkbox\" ><label for=\"sk-estimator-id-7\" class=\"sk-toggleable__label sk-toggleable__label-arrow\">Pipeline</label><div class=\"sk-toggleable__content\"><pre>Pipeline(memory=&#x27;/var/folders/s2/vdwvjj2j24d4tg5yz10ycr080000gn/T/tmp_ro3njdh&#x27;,\n",
       "         steps=[(&#x27;scaler&#x27;, StandardScaler()), (&#x27;pca&#x27;, PCA(n_components=10)),\n",
       "                (&#x27;linreg&#x27;, LinearRegression())])</pre></div></div></div><div class=\"sk-serial\"><div class=\"sk-item\"><div class=\"sk-estimator sk-toggleable\"><input class=\"sk-toggleable__control sk-hidden--visually\" id=\"sk-estimator-id-8\" type=\"checkbox\" ><label for=\"sk-estimator-id-8\" class=\"sk-toggleable__label sk-toggleable__label-arrow\">StandardScaler</label><div class=\"sk-toggleable__content\"><pre>StandardScaler()</pre></div></div></div><div class=\"sk-item\"><div class=\"sk-estimator sk-toggleable\"><input class=\"sk-toggleable__control sk-hidden--visually\" id=\"sk-estimator-id-9\" type=\"checkbox\" ><label for=\"sk-estimator-id-9\" class=\"sk-toggleable__label sk-toggleable__label-arrow\">PCA</label><div class=\"sk-toggleable__content\"><pre>PCA(n_components=10)</pre></div></div></div><div class=\"sk-item\"><div class=\"sk-estimator sk-toggleable\"><input class=\"sk-toggleable__control sk-hidden--visually\" id=\"sk-estimator-id-10\" type=\"checkbox\" ><label for=\"sk-estimator-id-10\" class=\"sk-toggleable__label sk-toggleable__label-arrow\">LinearRegression</label><div class=\"sk-toggleable__content\"><pre>LinearRegression()</pre></div></div></div></div></div></div></div>"
      ],
      "text/plain": [
       "Pipeline(memory='/var/folders/s2/vdwvjj2j24d4tg5yz10ycr080000gn/T/tmp_ro3njdh',\n",
       "         steps=[('scaler', StandardScaler()), ('pca', PCA(n_components=10)),\n",
       "                ('linreg', LinearRegression())])"
      ]
     },
     "execution_count": 49,
     "metadata": {},
     "output_type": "execute_result"
    }
   ],
   "source": [
    "linreg_best = grid_search.fit(X_train, y_train)\n",
    "\n",
    "linreg_best.best_estimator_"
   ]
  },
  {
   "cell_type": "code",
   "execution_count": 50,
   "id": "debe9da2-0cb0-4c0a-a752-49cc98706372",
   "metadata": {
    "tags": []
   },
   "outputs": [
    {
     "name": "stdout",
     "output_type": "stream",
     "text": [
      "The best fit scaler is: StandardScaler()\n",
      "The best fit number of PCA components is: PCA(n_components=10)\n",
      "The best fit model is: LinearRegression()\n"
     ]
    }
   ],
   "source": [
    "print(f\"The best fit scaler is: {linreg_best.best_estimator_[0]}\")\n",
    "print(f\"The best fit number of PCA components is: {linreg_best.best_estimator_[1]}\")\n",
    "print(f\"The best fit model is: {linreg_best.best_estimator_[2]}\")"
   ]
  },
  {
   "cell_type": "code",
   "execution_count": 51,
   "id": "692f77cf-f880-4f85-92d0-51c375984477",
   "metadata": {
    "tags": []
   },
   "outputs": [
    {
     "name": "stdout",
     "output_type": "stream",
     "text": [
      "Train score: 0.008409005770733002\n",
      "Test score: 0.13650523838398299\n",
      "RMSE: 283.7471043403527\n",
      "MAE: 98.43430713840162\n"
     ]
    }
   ],
   "source": [
    "# find scores\n",
    "score_r2_rmse_mae(linreg_best)"
   ]
  },
  {
   "cell_type": "markdown",
   "id": "adf3a66c-44bf-44a5-91ad-3feb061383c1",
   "metadata": {},
   "source": [
    "The gridsearch parameters improved the test score from 0.12 to 0.13, being able to explain 13% of the price information. For the gridsearch the StandardScaler performed better than no scaler, and PCA 10 components performed the best. Since the lowest number of PCA performed the best, this can indicate that the features might not be helping with the price prediction. Perhaps they are not linearly correlated with price. Furthur analysis can look into non-linear relationship modeling. "
   ]
  },
  {
   "cell_type": "code",
   "execution_count": 53,
   "id": "a83360ac-dc17-4825-aa46-1854f5ded163",
   "metadata": {},
   "outputs": [
    {
     "data": {
      "text/html": [
       "<div>\n",
       "<style scoped>\n",
       "    .dataframe tbody tr th:only-of-type {\n",
       "        vertical-align: middle;\n",
       "    }\n",
       "\n",
       "    .dataframe tbody tr th {\n",
       "        vertical-align: top;\n",
       "    }\n",
       "\n",
       "    .dataframe thead th {\n",
       "        text-align: right;\n",
       "    }\n",
       "</style>\n",
       "<table border=\"1\" class=\"dataframe\">\n",
       "  <thead>\n",
       "    <tr style=\"text-align: right;\">\n",
       "      <th></th>\n",
       "      <th>True_y</th>\n",
       "      <th>Pred_y</th>\n",
       "      <th>Diff</th>\n",
       "    </tr>\n",
       "  </thead>\n",
       "  <tbody>\n",
       "    <tr>\n",
       "      <th>17392</th>\n",
       "      <td>165.0</td>\n",
       "      <td>274.430948</td>\n",
       "      <td>-109.430948</td>\n",
       "    </tr>\n",
       "    <tr>\n",
       "      <th>14299</th>\n",
       "      <td>225.0</td>\n",
       "      <td>146.923272</td>\n",
       "      <td>78.076728</td>\n",
       "    </tr>\n",
       "    <tr>\n",
       "      <th>14753</th>\n",
       "      <td>112.0</td>\n",
       "      <td>228.738736</td>\n",
       "      <td>-116.738736</td>\n",
       "    </tr>\n",
       "    <tr>\n",
       "      <th>15306</th>\n",
       "      <td>200.0</td>\n",
       "      <td>217.483800</td>\n",
       "      <td>-17.483800</td>\n",
       "    </tr>\n",
       "    <tr>\n",
       "      <th>16482</th>\n",
       "      <td>48.0</td>\n",
       "      <td>57.122120</td>\n",
       "      <td>-9.122120</td>\n",
       "    </tr>\n",
       "    <tr>\n",
       "      <th>...</th>\n",
       "      <td>...</td>\n",
       "      <td>...</td>\n",
       "      <td>...</td>\n",
       "    </tr>\n",
       "    <tr>\n",
       "      <th>13289</th>\n",
       "      <td>149.0</td>\n",
       "      <td>205.724250</td>\n",
       "      <td>-56.724250</td>\n",
       "    </tr>\n",
       "    <tr>\n",
       "      <th>11555</th>\n",
       "      <td>254.0</td>\n",
       "      <td>240.936077</td>\n",
       "      <td>13.063923</td>\n",
       "    </tr>\n",
       "    <tr>\n",
       "      <th>10644</th>\n",
       "      <td>166.0</td>\n",
       "      <td>-12.523610</td>\n",
       "      <td>178.523610</td>\n",
       "    </tr>\n",
       "    <tr>\n",
       "      <th>49</th>\n",
       "      <td>1000.0</td>\n",
       "      <td>411.076640</td>\n",
       "      <td>588.923360</td>\n",
       "    </tr>\n",
       "    <tr>\n",
       "      <th>13704</th>\n",
       "      <td>400.0</td>\n",
       "      <td>280.324172</td>\n",
       "      <td>119.675828</td>\n",
       "    </tr>\n",
       "  </tbody>\n",
       "</table>\n",
       "<p>4152 rows × 3 columns</p>\n",
       "</div>"
      ],
      "text/plain": [
       "       True_y      Pred_y        Diff\n",
       "17392   165.0  274.430948 -109.430948\n",
       "14299   225.0  146.923272   78.076728\n",
       "14753   112.0  228.738736 -116.738736\n",
       "15306   200.0  217.483800  -17.483800\n",
       "16482    48.0   57.122120   -9.122120\n",
       "...       ...         ...         ...\n",
       "13289   149.0  205.724250  -56.724250\n",
       "11555   254.0  240.936077   13.063923\n",
       "10644   166.0  -12.523610  178.523610\n",
       "49     1000.0  411.076640  588.923360\n",
       "13704   400.0  280.324172  119.675828\n",
       "\n",
       "[4152 rows x 3 columns]"
      ]
     },
     "execution_count": 53,
     "metadata": {},
     "output_type": "execute_result"
    }
   ],
   "source": [
    "# compare y_pred to y_true\n",
    "\n",
    "# predict y_pred values\n",
    "y_pred = linreg.predict(X_test)\n",
    "\n",
    "# add to df\n",
    "y_truevspred = pd.DataFrame({\"True_y\": y_test, \"Pred_y\": y_pred, \"Diff\": (y_test - y_pred)})\n",
    "\n",
    "# display\n",
    "y_truevspred"
   ]
  },
  {
   "cell_type": "markdown",
   "id": "e546ea2b-afee-4782-90b2-2adb7bc8d3ce",
   "metadata": {
    "tags": []
   },
   "source": [
    "#### Plots of predicted vs actual"
   ]
  },
  {
   "cell_type": "code",
   "execution_count": 210,
   "id": "625fd164-c424-4634-ad31-730d7d579397",
   "metadata": {
    "tags": []
   },
   "outputs": [
    {
     "data": {
      "image/png": "[encoded data removed]",
      "text/plain": [
       "<Figure size 600x400 with 1 Axes>"
      ]
     },
     "metadata": {},
     "output_type": "display_data"
    }
   ],
   "source": [
    "# scatterplot\n",
    "\n",
    "plt.figure(figsize=(6,4))\n",
    "ax = sns.scatterplot(x=y_pred, y=y_test)\n",
    "plt.suptitle(\"Scatterplot of y_pred and y_test\")\n",
    "plt.xlabel(\"y_pred\")\n",
    "plt.ylabel(\"y_test\")\n",
    "\n",
    "x_vals = np.linspace(y_pred.min(), y_pred.max(), 100)\n",
    "ax.plot(x_vals, x_vals, color='red', linestyle='--', linewidth=2) \n",
    "\n",
    "plt.show()\n"
   ]
  },
  {
   "cell_type": "markdown",
   "id": "5338ebea-85d2-409e-9928-a41966f54054",
   "metadata": {},
   "source": [
    "In this scatterplot of the predicted price values versus the actual price values, the predicted was capped at about 3,000, meanwhile the actual value went as high as 10,000. In linear regression, this punishes the model severely as the large values of error are squared, giving more weight to outliers. In the case of this dataset, the outliers are already large, and this magnifies the effect of the outliers, further punishing the model. Further analysis could look into handling the outliers."
   ]
  },
  {
   "cell_type": "code",
   "execution_count": 211,
   "id": "c49add50-d6d3-4a1c-8fc2-cf4f872f4f9a",
   "metadata": {
    "tags": []
   },
   "outputs": [
    {
     "data": {
      "image/png": "[encoded data removed]",
      "text/plain": [
       "<Figure size 600x400 with 1 Axes>"
      ]
     },
     "metadata": {},
     "output_type": "display_data"
    }
   ],
   "source": [
    "# scatterplot\n",
    "\n",
    "plt.figure(figsize=(6,4))\n",
    "ax = sns.scatterplot(x=y_pred, y=y_test)\n",
    "plt.suptitle(\"Scatterplot of y_pred and y_test\")\n",
    "plt.xlabel(\"y_pred\")\n",
    "plt.ylabel(\"y_test\")\n",
    "\n",
    "x_vals = np.linspace(y_pred.min(), y_pred.max(), 100)\n",
    "ax.plot(x_vals, x_vals, color='red', linestyle='--', linewidth=2) \n",
    "\n",
    "plt.xlim(0, 1000)\n",
    "plt.ylim(0, 1000)\n",
    "\n",
    "plt.show()\n"
   ]
  },
  {
   "cell_type": "markdown",
   "id": "e1bf41ff-8db2-497d-a7cb-06a54545ab2e",
   "metadata": {},
   "source": [
    "When zooming into the values less than 1,000, the model seemed to performed much better. With similar amounts above the line, showing when actual price is higher than predicted price, and a similar amount under the line, showing when predicted price is higher than actual price."
   ]
  },
  {
   "cell_type": "markdown",
   "id": "c7e0b3f1-a4d8-4c70-9696-db2521e3c9c0",
   "metadata": {},
   "source": [
    "#### Pickle and save model"
   ]
  },
  {
   "cell_type": "code",
   "execution_count": 212,
   "id": "b768ae25-b6e9-4148-a8a4-72a1407501b2",
   "metadata": {
    "tags": []
   },
   "outputs": [],
   "source": [
    "pickle.dump(linreg_best, open(\"../models/linreg_model.pkl\",\"wb\"))"
   ]
  },
  {
   "cell_type": "code",
   "execution_count": 213,
   "id": "4fc9e2d4-8663-4b96-a03d-485e97832a4c",
   "metadata": {},
   "outputs": [],
   "source": [
    "# # to load model (optional)\n",
    "# linreg_model = pickle.load(open(\"../models/linreg_model.pkl\",\"rb\"))"
   ]
  },
  {
   "cell_type": "markdown",
   "id": "841a19d2-5d3e-480b-ab3a-71a5fcd01a3c",
   "metadata": {
    "tags": []
   },
   "source": [
    "***"
   ]
  },
  {
   "cell_type": "markdown",
   "id": "7cc0ece8-ff7f-4dea-a39f-1ccf1f244c26",
   "metadata": {},
   "source": [
    "### XGBoost Modeling"
   ]
  },
  {
   "cell_type": "code",
   "execution_count": 186,
   "id": "d6a1088d-84ae-4359-a015-fe4c494aafe1",
   "metadata": {
    "tags": []
   },
   "outputs": [
    {
     "name": "stdout",
     "output_type": "stream",
     "text": [
      "Train score: 0.9939518469801436\n",
      "Test score: -2.6395777354592087\n"
     ]
    }
   ],
   "source": [
    "# initialize xgboost model\n",
    "xgb_model = XGBRegressor()\n",
    "\n",
    "# fit logistic regression model to xtrain\n",
    "xgb_model.fit(X_train, y_train)\n",
    "\n",
    "# get scores for train and test\n",
    "print(f\"Train score: {xgb_model.score(X_train, y_train)}\")\n",
    "print(f\"Test score: {xgb_model.score(X_test, y_test)}\")"
   ]
  },
  {
   "cell_type": "markdown",
   "id": "e2eab4e2-a49b-4e7c-a043-7fed10a1996d",
   "metadata": {},
   "source": [
    "An initial testing of a linear regression model is performed to poor results. Surprisingly, the test score performed better than the train score."
   ]
  },
  {
   "cell_type": "markdown",
   "id": "9b560c62-9189-403e-b630-6b1780246b7d",
   "metadata": {},
   "source": [
    "#### Feature Importance"
   ]
  },
  {
   "cell_type": "code",
   "execution_count": 189,
   "id": "86492bff-4613-42ef-9b8d-9d23c80753bb",
   "metadata": {
    "tags": []
   },
   "outputs": [
    {
     "data": {
      "text/plain": [
       "ratings_4.4                       0.743028\n",
       "longitude                         0.075493\n",
       "latitude                          0.044111\n",
       "availability_365                  0.025306\n",
       "ratings_4.2                       0.017839\n",
       "ratings_3.0                       0.015824\n",
       "license_Exempt                    0.008974\n",
       "roomtype_Shared room              0.007581\n",
       "month                             0.007200\n",
       "number_of_reviews                 0.007115\n",
       "neighgroup_Brooklyn               0.004937\n",
       "license_No License                0.004275\n",
       "roomtype_Entire home/apt          0.004216\n",
       "minimum_nights                    0.004137\n",
       "bedrooms                          0.003665\n",
       "neighborhood_avgprice             0.003599\n",
       "calculated_host_listings_count    0.003492\n",
       "baths                             0.002884\n",
       "number_of_reviews_ltm             0.002750\n",
       "last_review_year                  0.002109\n",
       "ratings_5                         0.001708\n",
       "roomtype_Hotel room               0.001597\n",
       "license_Has License               0.001450\n",
       "reviews_per_month                 0.001242\n",
       "neighgroup_Manhattan              0.001129\n",
       "ratings_4.6                       0.000900\n",
       "roomtype_Private room             0.000876\n",
       "beds                              0.000840\n",
       "ratings_No rating                 0.000812\n",
       "ratings_4.8                       0.000364\n",
       "ratings_New                       0.000318\n",
       "ratings_4.0                       0.000169\n",
       "neighgroup_Queens                 0.000061\n",
       "neighgroup_Staten Island          0.000000\n",
       "neighgroup_Bronx                  0.000000\n",
       "last_review_month                 0.000000\n",
       "ratings_less3                     0.000000\n",
       "dtype: float32"
      ]
     },
     "execution_count": 189,
     "metadata": {},
     "output_type": "execute_result"
    }
   ],
   "source": [
    "importances = xgb_model.feature_importances_\n",
    "\n",
    "feature_importances = pd.Series(importances, index=X_test.columns)\n",
    "\n",
    "feature_importances.sort_values(ascending=False)"
   ]
  },
  {
   "cell_type": "code",
   "execution_count": 195,
   "id": "0b6f5bb4-0072-4ded-b568-8a6075efb9b0",
   "metadata": {
    "tags": []
   },
   "outputs": [
    {
     "data": {
      "text/html": [
       "<div>\n",
       "<style scoped>\n",
       "    .dataframe tbody tr th:only-of-type {\n",
       "        vertical-align: middle;\n",
       "    }\n",
       "\n",
       "    .dataframe tbody tr th {\n",
       "        vertical-align: top;\n",
       "    }\n",
       "\n",
       "    .dataframe thead th {\n",
       "        text-align: right;\n",
       "    }\n",
       "</style>\n",
       "<table border=\"1\" class=\"dataframe\">\n",
       "  <thead>\n",
       "    <tr style=\"text-align: right;\">\n",
       "      <th></th>\n",
       "      <th>Importance</th>\n",
       "    </tr>\n",
       "  </thead>\n",
       "  <tbody>\n",
       "    <tr>\n",
       "      <th>ratings_New</th>\n",
       "      <td>15286.666992</td>\n",
       "    </tr>\n",
       "    <tr>\n",
       "      <th>ratings_3.0</th>\n",
       "      <td>8023.500000</td>\n",
       "    </tr>\n",
       "    <tr>\n",
       "      <th>license_No License</th>\n",
       "      <td>7687.615234</td>\n",
       "    </tr>\n",
       "    <tr>\n",
       "      <th>roomtype_Hotel room</th>\n",
       "      <td>5212.538574</td>\n",
       "    </tr>\n",
       "    <tr>\n",
       "      <th>ratings_4.0</th>\n",
       "      <td>4465.545410</td>\n",
       "    </tr>\n",
       "    <tr>\n",
       "      <th>license_Has License</th>\n",
       "      <td>3408.899902</td>\n",
       "    </tr>\n",
       "    <tr>\n",
       "      <th>number_of_reviews_ltm</th>\n",
       "      <td>3259.575195</td>\n",
       "    </tr>\n",
       "    <tr>\n",
       "      <th>roomtype_Entire home/apt</th>\n",
       "      <td>3154.581299</td>\n",
       "    </tr>\n",
       "    <tr>\n",
       "      <th>minimum_nights</th>\n",
       "      <td>2872.124023</td>\n",
       "    </tr>\n",
       "    <tr>\n",
       "      <th>last_review_year</th>\n",
       "      <td>2870.662354</td>\n",
       "    </tr>\n",
       "    <tr>\n",
       "      <th>calculated_host_listings_count</th>\n",
       "      <td>2501.109131</td>\n",
       "    </tr>\n",
       "    <tr>\n",
       "      <th>reviews_per_month</th>\n",
       "      <td>2383.556885</td>\n",
       "    </tr>\n",
       "    <tr>\n",
       "      <th>longitude</th>\n",
       "      <td>2211.152832</td>\n",
       "    </tr>\n",
       "    <tr>\n",
       "      <th>bedrooms</th>\n",
       "      <td>2162.798096</td>\n",
       "    </tr>\n",
       "    <tr>\n",
       "      <th>ratings_4.8</th>\n",
       "      <td>2045.333374</td>\n",
       "    </tr>\n",
       "    <tr>\n",
       "      <th>number_of_reviews</th>\n",
       "      <td>2020.742310</td>\n",
       "    </tr>\n",
       "    <tr>\n",
       "      <th>neighborhood_avgprice</th>\n",
       "      <td>1991.864380</td>\n",
       "    </tr>\n",
       "    <tr>\n",
       "      <th>baths</th>\n",
       "      <td>1968.672607</td>\n",
       "    </tr>\n",
       "    <tr>\n",
       "      <th>latitude</th>\n",
       "      <td>1933.640625</td>\n",
       "    </tr>\n",
       "    <tr>\n",
       "      <th>month</th>\n",
       "      <td>1886.470215</td>\n",
       "    </tr>\n",
       "    <tr>\n",
       "      <th>ratings_5</th>\n",
       "      <td>1750.261963</td>\n",
       "    </tr>\n",
       "    <tr>\n",
       "      <th>roomtype_Shared room</th>\n",
       "      <td>1742.533325</td>\n",
       "    </tr>\n",
       "    <tr>\n",
       "      <th>neighgroup_Brooklyn</th>\n",
       "      <td>1735.500000</td>\n",
       "    </tr>\n",
       "    <tr>\n",
       "      <th>beds</th>\n",
       "      <td>1689.894165</td>\n",
       "    </tr>\n",
       "    <tr>\n",
       "      <th>ratings_4.2</th>\n",
       "      <td>1613.404297</td>\n",
       "    </tr>\n",
       "    <tr>\n",
       "      <th>availability_365</th>\n",
       "      <td>1605.879028</td>\n",
       "    </tr>\n",
       "    <tr>\n",
       "      <th>roomtype_Private room</th>\n",
       "      <td>1420.615356</td>\n",
       "    </tr>\n",
       "    <tr>\n",
       "      <th>license_Exempt</th>\n",
       "      <td>1149.382935</td>\n",
       "    </tr>\n",
       "    <tr>\n",
       "      <th>ratings_4.4</th>\n",
       "      <td>1044.418579</td>\n",
       "    </tr>\n",
       "    <tr>\n",
       "      <th>neighgroup_Manhattan</th>\n",
       "      <td>1030.384644</td>\n",
       "    </tr>\n",
       "    <tr>\n",
       "      <th>ratings_No rating</th>\n",
       "      <td>838.888916</td>\n",
       "    </tr>\n",
       "    <tr>\n",
       "      <th>ratings_4.6</th>\n",
       "      <td>622.062500</td>\n",
       "    </tr>\n",
       "    <tr>\n",
       "      <th>neighgroup_Queens</th>\n",
       "      <td>13.000000</td>\n",
       "    </tr>\n",
       "  </tbody>\n",
       "</table>\n",
       "</div>"
      ],
      "text/plain": [
       "                                  Importance\n",
       "ratings_New                     15286.666992\n",
       "ratings_3.0                      8023.500000\n",
       "license_No License               7687.615234\n",
       "roomtype_Hotel room              5212.538574\n",
       "ratings_4.0                      4465.545410\n",
       "license_Has License              3408.899902\n",
       "number_of_reviews_ltm            3259.575195\n",
       "roomtype_Entire home/apt         3154.581299\n",
       "minimum_nights                   2872.124023\n",
       "last_review_year                 2870.662354\n",
       "calculated_host_listings_count   2501.109131\n",
       "reviews_per_month                2383.556885\n",
       "longitude                        2211.152832\n",
       "bedrooms                         2162.798096\n",
       "ratings_4.8                      2045.333374\n",
       "number_of_reviews                2020.742310\n",
       "neighborhood_avgprice            1991.864380\n",
       "baths                            1968.672607\n",
       "latitude                         1933.640625\n",
       "month                            1886.470215\n",
       "ratings_5                        1750.261963\n",
       "roomtype_Shared room             1742.533325\n",
       "neighgroup_Brooklyn              1735.500000\n",
       "beds                             1689.894165\n",
       "ratings_4.2                      1613.404297\n",
       "availability_365                 1605.879028\n",
       "roomtype_Private room            1420.615356\n",
       "license_Exempt                   1149.382935\n",
       "ratings_4.4                      1044.418579\n",
       "neighgroup_Manhattan             1030.384644\n",
       "ratings_No rating                 838.888916\n",
       "ratings_4.6                       622.062500\n",
       "neighgroup_Queens                  13.000000"
      ]
     },
     "execution_count": 195,
     "metadata": {},
     "output_type": "execute_result"
    }
   ],
   "source": [
    "# alternative booster importance\n",
    "booster = xgb_model.get_booster()\n",
    "importance_dict = booster.get_score(importance_type='cover')  \n",
    "\n",
    "# display\n",
    "importance_df = pd.DataFrame.from_dict(importance_dict, orient='index', columns=['Importance'])\n",
    "importance_df = importance_df.sort_values(by='Importance', ascending=False)\n",
    "importance_df"
   ]
  },
  {
   "cell_type": "markdown",
   "id": "b6618628-278d-4940-84a2-a83fed757c29",
   "metadata": {},
   "source": [
    "#### Set-up pipeline and gridsearch"
   ]
  },
  {
   "cell_type": "code",
   "execution_count": 219,
   "id": "5744abde-81f9-4aa0-80a5-36b1760e6a21",
   "metadata": {
    "tags": []
   },
   "outputs": [],
   "source": [
    "estimators = [(\"scaler\", StandardScaler()),\n",
    "              (\"pca\", PCA()),\n",
    "              ('xgb', XGBRegressor())]\n",
    "\n",
    "cachedir = mkdtemp()\n",
    "pipe = Pipeline(estimators, memory=cachedir)\n",
    "\n",
    "params = {\"scaler\": [StandardScaler(), None], \n",
    "          \"pca__n_components\": [5, 10, 20,]\n",
    "}\n",
    "\n",
    "grid_search = GridSearchCV(pipe, param_grid=params, cv=5)\n"
   ]
  },
  {
   "cell_type": "markdown",
   "id": "0368ece1-c195-4f04-b4d2-4fadc208761f",
   "metadata": {},
   "source": [
    "A pipeline and gridsearch structure is built to run the model through. The StandardScaler, PCA, and Linear Regression are used. "
   ]
  },
  {
   "cell_type": "markdown",
   "id": "436063eb-1220-40b9-aa3b-31e70df119ee",
   "metadata": {},
   "source": [
    "#### Fit the gridsearch best fit model"
   ]
  },
  {
   "cell_type": "code",
   "execution_count": 220,
   "id": "04e5acb5-bfc0-4fb4-bac1-eb70a854244f",
   "metadata": {
    "tags": []
   },
   "outputs": [],
   "source": [
    "xgb_best = grid_search.fit(X_train, y_train)"
   ]
  },
  {
   "cell_type": "code",
   "execution_count": 221,
   "id": "60dff8d3-5ea8-4016-becc-b3f428f60a8d",
   "metadata": {
    "tags": []
   },
   "outputs": [
    {
     "data": {
      "text/html": [
       "<style>#sk-container-id-4 {color: black;}#sk-container-id-4 pre{padding: 0;}#sk-container-id-4 div.sk-toggleable {background-color: white;}#sk-container-id-4 label.sk-toggleable__label {cursor: pointer;display: block;width: 100%;margin-bottom: 0;padding: 0.3em;box-sizing: border-box;text-align: center;}#sk-container-id-4 label.sk-toggleable__label-arrow:before {content: \"▸\";float: left;margin-right: 0.25em;color: #696969;}#sk-container-id-4 label.sk-toggleable__label-arrow:hover:before {color: black;}#sk-container-id-4 div.sk-estimator:hover label.sk-toggleable__label-arrow:before {color: black;}#sk-container-id-4 div.sk-toggleable__content {max-height: 0;max-width: 0;overflow: hidden;text-align: left;background-color: #f0f8ff;}#sk-container-id-4 div.sk-toggleable__content pre {margin: 0.2em;color: black;border-radius: 0.25em;background-color: #f0f8ff;}#sk-container-id-4 input.sk-toggleable__control:checked~div.sk-toggleable__content {max-height: 200px;max-width: 100%;overflow: auto;}#sk-container-id-4 input.sk-toggleable__control:checked~label.sk-toggleable__label-arrow:before {content: \"▾\";}#sk-container-id-4 div.sk-estimator input.sk-toggleable__control:checked~label.sk-toggleable__label {background-color: #d4ebff;}#sk-container-id-4 div.sk-label input.sk-toggleable__control:checked~label.sk-toggleable__label {background-color: #d4ebff;}#sk-container-id-4 input.sk-hidden--visually {border: 0;clip: rect(1px 1px 1px 1px);clip: rect(1px, 1px, 1px, 1px);height: 1px;margin: -1px;overflow: hidden;padding: 0;position: absolute;width: 1px;}#sk-container-id-4 div.sk-estimator {font-family: monospace;background-color: #f0f8ff;border: 1px dotted black;border-radius: 0.25em;box-sizing: border-box;margin-bottom: 0.5em;}#sk-container-id-4 div.sk-estimator:hover {background-color: #d4ebff;}#sk-container-id-4 div.sk-parallel-item::after {content: \"\";width: 100%;border-bottom: 1px solid gray;flex-grow: 1;}#sk-container-id-4 div.sk-label:hover label.sk-toggleable__label {background-color: #d4ebff;}#sk-container-id-4 div.sk-serial::before {content: \"\";position: absolute;border-left: 1px solid gray;box-sizing: border-box;top: 0;bottom: 0;left: 50%;z-index: 0;}#sk-container-id-4 div.sk-serial {display: flex;flex-direction: column;align-items: center;background-color: white;padding-right: 0.2em;padding-left: 0.2em;position: relative;}#sk-container-id-4 div.sk-item {position: relative;z-index: 1;}#sk-container-id-4 div.sk-parallel {display: flex;align-items: stretch;justify-content: center;background-color: white;position: relative;}#sk-container-id-4 div.sk-item::before, #sk-container-id-4 div.sk-parallel-item::before {content: \"\";position: absolute;border-left: 1px solid gray;box-sizing: border-box;top: 0;bottom: 0;left: 50%;z-index: -1;}#sk-container-id-4 div.sk-parallel-item {display: flex;flex-direction: column;z-index: 1;position: relative;background-color: white;}#sk-container-id-4 div.sk-parallel-item:first-child::after {align-self: flex-end;width: 50%;}#sk-container-id-4 div.sk-parallel-item:last-child::after {align-self: flex-start;width: 50%;}#sk-container-id-4 div.sk-parallel-item:only-child::after {width: 0;}#sk-container-id-4 div.sk-dashed-wrapped {border: 1px dashed gray;margin: 0 0.4em 0.5em 0.4em;box-sizing: border-box;padding-bottom: 0.4em;background-color: white;}#sk-container-id-4 div.sk-label label {font-family: monospace;font-weight: bold;display: inline-block;line-height: 1.2em;}#sk-container-id-4 div.sk-label-container {text-align: center;}#sk-container-id-4 div.sk-container {/* jupyter's `normalize.less` sets `[hidden] { display: none; }` but bootstrap.min.css set `[hidden] { display: none !important; }` so we also need the `!important` here to be able to override the default hidden behavior on the sphinx rendered scikit-learn.org. See: https://github.com/scikit-learn/scikit-learn/issues/21755 */display: inline-block !important;position: relative;}#sk-container-id-4 div.sk-text-repr-fallback {display: none;}</style><div id=\"sk-container-id-4\" class=\"sk-top-container\"><div class=\"sk-text-repr-fallback\"><pre>Pipeline(memory=&#x27;/var/folders/s2/vdwvjj2j24d4tg5yz10ycr080000gn/T/tmpujv7og1y&#x27;,\n",
       "         steps=[(&#x27;scaler&#x27;, None), (&#x27;pca&#x27;, PCA(n_components=20)),\n",
       "                (&#x27;xgb&#x27;,\n",
       "                 XGBRegressor(base_score=None, booster=None, callbacks=None,\n",
       "                              colsample_bylevel=None, colsample_bynode=None,\n",
       "                              colsample_bytree=None, early_stopping_rounds=None,\n",
       "                              enable_categorical=False, eval_metric=None,\n",
       "                              feature_types=None,...e,\n",
       "                              grow_policy=None, importance_type=None,\n",
       "                              interaction_constraints=None, learning_rate=None,\n",
       "                              max_bin=None, max_cat_threshold=None,\n",
       "                              max_cat_to_onehot=None, max_delta_step=None,\n",
       "                              max_depth=None, max_leaves=None,\n",
       "                              min_child_weight=None, missing=nan,\n",
       "                              monotone_constraints=None, n_estimators=100,\n",
       "                              n_jobs=None, num_parallel_tree=None,\n",
       "                              predictor=None, random_state=None, ...))])</pre><b>In a Jupyter environment, please rerun this cell to show the HTML representation or trust the notebook. <br />On GitHub, the HTML representation is unable to render, please try loading this page with nbviewer.org.</b></div><div class=\"sk-container\" hidden><div class=\"sk-item sk-dashed-wrapped\"><div class=\"sk-label-container\"><div class=\"sk-label sk-toggleable\"><input class=\"sk-toggleable__control sk-hidden--visually\" id=\"sk-estimator-id-13\" type=\"checkbox\" ><label for=\"sk-estimator-id-13\" class=\"sk-toggleable__label sk-toggleable__label-arrow\">Pipeline</label><div class=\"sk-toggleable__content\"><pre>Pipeline(memory=&#x27;/var/folders/s2/vdwvjj2j24d4tg5yz10ycr080000gn/T/tmpujv7og1y&#x27;,\n",
       "         steps=[(&#x27;scaler&#x27;, None), (&#x27;pca&#x27;, PCA(n_components=20)),\n",
       "                (&#x27;xgb&#x27;,\n",
       "                 XGBRegressor(base_score=None, booster=None, callbacks=None,\n",
       "                              colsample_bylevel=None, colsample_bynode=None,\n",
       "                              colsample_bytree=None, early_stopping_rounds=None,\n",
       "                              enable_categorical=False, eval_metric=None,\n",
       "                              feature_types=None,...e,\n",
       "                              grow_policy=None, importance_type=None,\n",
       "                              interaction_constraints=None, learning_rate=None,\n",
       "                              max_bin=None, max_cat_threshold=None,\n",
       "                              max_cat_to_onehot=None, max_delta_step=None,\n",
       "                              max_depth=None, max_leaves=None,\n",
       "                              min_child_weight=None, missing=nan,\n",
       "                              monotone_constraints=None, n_estimators=100,\n",
       "                              n_jobs=None, num_parallel_tree=None,\n",
       "                              predictor=None, random_state=None, ...))])</pre></div></div></div><div class=\"sk-serial\"><div class=\"sk-item\"><div class=\"sk-estimator sk-toggleable\"><input class=\"sk-toggleable__control sk-hidden--visually\" id=\"sk-estimator-id-14\" type=\"checkbox\" ><label for=\"sk-estimator-id-14\" class=\"sk-toggleable__label sk-toggleable__label-arrow\">None</label><div class=\"sk-toggleable__content\"><pre>None</pre></div></div></div><div class=\"sk-item\"><div class=\"sk-estimator sk-toggleable\"><input class=\"sk-toggleable__control sk-hidden--visually\" id=\"sk-estimator-id-15\" type=\"checkbox\" ><label for=\"sk-estimator-id-15\" class=\"sk-toggleable__label sk-toggleable__label-arrow\">PCA</label><div class=\"sk-toggleable__content\"><pre>PCA(n_components=20)</pre></div></div></div><div class=\"sk-item\"><div class=\"sk-estimator sk-toggleable\"><input class=\"sk-toggleable__control sk-hidden--visually\" id=\"sk-estimator-id-16\" type=\"checkbox\" ><label for=\"sk-estimator-id-16\" class=\"sk-toggleable__label sk-toggleable__label-arrow\">XGBRegressor</label><div class=\"sk-toggleable__content\"><pre>XGBRegressor(base_score=None, booster=None, callbacks=None,\n",
       "             colsample_bylevel=None, colsample_bynode=None,\n",
       "             colsample_bytree=None, early_stopping_rounds=None,\n",
       "             enable_categorical=False, eval_metric=None, feature_types=None,\n",
       "             gamma=None, gpu_id=None, grow_policy=None, importance_type=None,\n",
       "             interaction_constraints=None, learning_rate=None, max_bin=None,\n",
       "             max_cat_threshold=None, max_cat_to_onehot=None,\n",
       "             max_delta_step=None, max_depth=None, max_leaves=None,\n",
       "             min_child_weight=None, missing=nan, monotone_constraints=None,\n",
       "             n_estimators=100, n_jobs=None, num_parallel_tree=None,\n",
       "             predictor=None, random_state=None, ...)</pre></div></div></div></div></div></div></div>"
      ],
      "text/plain": [
       "Pipeline(memory='/var/folders/s2/vdwvjj2j24d4tg5yz10ycr080000gn/T/tmpujv7og1y',\n",
       "         steps=[('scaler', None), ('pca', PCA(n_components=20)),\n",
       "                ('xgb',\n",
       "                 XGBRegressor(base_score=None, booster=None, callbacks=None,\n",
       "                              colsample_bylevel=None, colsample_bynode=None,\n",
       "                              colsample_bytree=None, early_stopping_rounds=None,\n",
       "                              enable_categorical=False, eval_metric=None,\n",
       "                              feature_types=None,...e,\n",
       "                              grow_policy=None, importance_type=None,\n",
       "                              interaction_constraints=None, learning_rate=None,\n",
       "                              max_bin=None, max_cat_threshold=None,\n",
       "                              max_cat_to_onehot=None, max_delta_step=None,\n",
       "                              max_depth=None, max_leaves=None,\n",
       "                              min_child_weight=None, missing=nan,\n",
       "                              monotone_constraints=None, n_estimators=100,\n",
       "                              n_jobs=None, num_parallel_tree=None,\n",
       "                              predictor=None, random_state=None, ...))])"
      ]
     },
     "execution_count": 221,
     "metadata": {},
     "output_type": "execute_result"
    }
   ],
   "source": [
    "xgb_best.best_estimator_\n"
   ]
  },
  {
   "cell_type": "code",
   "execution_count": 224,
   "id": "349e6697-ae7b-402d-bbc7-553e61fea6ad",
   "metadata": {
    "tags": []
   },
   "outputs": [
    {
     "name": "stdout",
     "output_type": "stream",
     "text": [
      "The best fit scaler is: None\n",
      "The best fit number of PCA components is: PCA(n_components=20)\n",
      "The best fit model is: XGBRegressor(base_score=None, booster=None, callbacks=None,\n",
      "             colsample_bylevel=None, colsample_bynode=None,\n",
      "             colsample_bytree=None, early_stopping_rounds=None,\n",
      "             enable_categorical=False, eval_metric=None, feature_types=None,\n",
      "             gamma=None, gpu_id=None, grow_policy=None, importance_type=None,\n",
      "             interaction_constraints=None, learning_rate=None, max_bin=None,\n",
      "             max_cat_threshold=None, max_cat_to_onehot=None,\n",
      "             max_delta_step=None, max_depth=None, max_leaves=None,\n",
      "             min_child_weight=None, missing=nan, monotone_constraints=None,\n",
      "             n_estimators=100, n_jobs=None, num_parallel_tree=None,\n",
      "             predictor=None, random_state=None, ...)\n"
     ]
    }
   ],
   "source": [
    "print(f\"The best fit scaler is: {xgb_best.best_estimator_[0]}\")\n",
    "print(f\"The best fit number of PCA components is: {xgb_best.best_estimator_[1]}\")\n",
    "print(f\"The best fit model is: {xgb_best.best_estimator_[2]}\")"
   ]
  },
  {
   "cell_type": "markdown",
   "id": "72549c4b-9d99-4b53-9dd0-0e0e24534543",
   "metadata": {},
   "source": [
    "The gridsearch parameters improved the test score from 0.12 to 0.13, being able to explain 13% of the price information. For the gridsearch the StandardScaler performed better than no scaler, and PCA 10 components performed the best. Since the lowest number of PCA performed the best, this can indicate that the features might not be helping with the price prediction. Perhaps they are not linearly correlated with price. Furthur analysis can look into non-linear relationship modeling. "
   ]
  },
  {
   "cell_type": "code",
   "execution_count": 225,
   "id": "e13353c1-aea3-4a0d-8775-4a6d09ab5d22",
   "metadata": {
    "tags": []
   },
   "outputs": [
    {
     "name": "stdout",
     "output_type": "stream",
     "text": [
      "Train score: 0.9966952781456913\n",
      "Test score: -5.866609164841328\n"
     ]
    }
   ],
   "source": [
    "# linreg_best train and test scores\n",
    "print(f\"Train score: {xgb_best.score(X_train, y_train)}\")\n",
    "print(f\"Test score: {xgb_best.score(X_test, y_test)}\")"
   ]
  },
  {
   "cell_type": "code",
   "execution_count": 226,
   "id": "a5a71257-e5a4-4b72-91dd-8d07285e1c84",
   "metadata": {
    "tags": []
   },
   "outputs": [],
   "source": [
    "# make array of y_pred\n",
    "y_pred = xgb_best.predict(X_test)"
   ]
  },
  {
   "cell_type": "code",
   "execution_count": 227,
   "id": "ad5c363c-a26f-49d5-8913-1a35d5f981ce",
   "metadata": {
    "tags": []
   },
   "outputs": [
    {
     "name": "stdout",
     "output_type": "stream",
     "text": [
      "RMSE: 800.1524677769395\n"
     ]
    }
   ],
   "source": [
    "# Calculate MSE\n",
    "mse = mean_squared_error(y_test, y_pred)\n",
    "\n",
    "# Calculate RMSE\n",
    "rmse = np.sqrt(mse)\n",
    "\n",
    "print(\"RMSE:\", rmse)"
   ]
  },
  {
   "cell_type": "code",
   "execution_count": 228,
   "id": "df4ef141-7039-42f7-a144-063a3327b2f6",
   "metadata": {
    "tags": []
   },
   "outputs": [
    {
     "name": "stdout",
     "output_type": "stream",
     "text": [
      "MAE: 93.94426929049179\n"
     ]
    }
   ],
   "source": [
    "# Calculate MAE\n",
    "mae = mean_absolute_error(y_test, y_pred)\n",
    "\n",
    "print(\"MAE:\", mae)"
   ]
  },
  {
   "cell_type": "code",
   "execution_count": 229,
   "id": "47fb6f62-645f-4186-b9f7-a8fdb86f7da4",
   "metadata": {},
   "outputs": [
    {
     "data": {
      "text/html": [
       "<div>\n",
       "<style scoped>\n",
       "    .dataframe tbody tr th:only-of-type {\n",
       "        vertical-align: middle;\n",
       "    }\n",
       "\n",
       "    .dataframe tbody tr th {\n",
       "        vertical-align: top;\n",
       "    }\n",
       "\n",
       "    .dataframe thead th {\n",
       "        text-align: right;\n",
       "    }\n",
       "</style>\n",
       "<table border=\"1\" class=\"dataframe\">\n",
       "  <thead>\n",
       "    <tr style=\"text-align: right;\">\n",
       "      <th></th>\n",
       "      <th>True_y</th>\n",
       "      <th>Pred_y</th>\n",
       "    </tr>\n",
       "  </thead>\n",
       "  <tbody>\n",
       "    <tr>\n",
       "      <th>17392</th>\n",
       "      <td>165.0</td>\n",
       "      <td>129.286255</td>\n",
       "    </tr>\n",
       "    <tr>\n",
       "      <th>14299</th>\n",
       "      <td>225.0</td>\n",
       "      <td>135.994141</td>\n",
       "    </tr>\n",
       "    <tr>\n",
       "      <th>14753</th>\n",
       "      <td>112.0</td>\n",
       "      <td>184.175385</td>\n",
       "    </tr>\n",
       "    <tr>\n",
       "      <th>15306</th>\n",
       "      <td>200.0</td>\n",
       "      <td>190.553986</td>\n",
       "    </tr>\n",
       "    <tr>\n",
       "      <th>16482</th>\n",
       "      <td>48.0</td>\n",
       "      <td>49.969784</td>\n",
       "    </tr>\n",
       "    <tr>\n",
       "      <th>...</th>\n",
       "      <td>...</td>\n",
       "      <td>...</td>\n",
       "    </tr>\n",
       "    <tr>\n",
       "      <th>13289</th>\n",
       "      <td>149.0</td>\n",
       "      <td>123.623795</td>\n",
       "    </tr>\n",
       "    <tr>\n",
       "      <th>11555</th>\n",
       "      <td>254.0</td>\n",
       "      <td>320.550293</td>\n",
       "    </tr>\n",
       "    <tr>\n",
       "      <th>10644</th>\n",
       "      <td>166.0</td>\n",
       "      <td>82.079948</td>\n",
       "    </tr>\n",
       "    <tr>\n",
       "      <th>49</th>\n",
       "      <td>1000.0</td>\n",
       "      <td>982.707947</td>\n",
       "    </tr>\n",
       "    <tr>\n",
       "      <th>13704</th>\n",
       "      <td>400.0</td>\n",
       "      <td>276.464813</td>\n",
       "    </tr>\n",
       "  </tbody>\n",
       "</table>\n",
       "<p>4152 rows × 2 columns</p>\n",
       "</div>"
      ],
      "text/plain": [
       "       True_y      Pred_y\n",
       "17392   165.0  129.286255\n",
       "14299   225.0  135.994141\n",
       "14753   112.0  184.175385\n",
       "15306   200.0  190.553986\n",
       "16482    48.0   49.969784\n",
       "...       ...         ...\n",
       "13289   149.0  123.623795\n",
       "11555   254.0  320.550293\n",
       "10644   166.0   82.079948\n",
       "49     1000.0  982.707947\n",
       "13704   400.0  276.464813\n",
       "\n",
       "[4152 rows x 2 columns]"
      ]
     },
     "execution_count": 229,
     "metadata": {},
     "output_type": "execute_result"
    }
   ],
   "source": [
    "# compare y_pred to y_true\n",
    "\n",
    "# add to df\n",
    "y_truevspred = pd.DataFrame({\"True_y\": y_test, \"Pred_y\": y_pred})\n",
    "\n",
    "# display\n",
    "y_truevspred"
   ]
  },
  {
   "cell_type": "markdown",
   "id": "2c0ad152-814d-4bbb-81a8-6c5ef2c1456b",
   "metadata": {
    "tags": []
   },
   "source": [
    "#### Plots of predicted vs actual"
   ]
  },
  {
   "cell_type": "code",
   "execution_count": 230,
   "id": "fee144bb-16a0-4600-8507-173825a96c99",
   "metadata": {
    "tags": []
   },
   "outputs": [
    {
     "data": {
      "image/png": "[encoded data removed]",
      "text/plain": [
       "<Figure size 600x400 with 1 Axes>"
      ]
     },
     "metadata": {},
     "output_type": "display_data"
    }
   ],
   "source": [
    "# scatterplot\n",
    "\n",
    "plt.figure(figsize=(6,4))\n",
    "ax = sns.scatterplot(x=y_pred, y=y_test)\n",
    "plt.suptitle(\"Scatterplot of y_pred and y_test\")\n",
    "plt.xlabel(\"y_pred\")\n",
    "plt.ylabel(\"y_test\")\n",
    "\n",
    "x_vals = np.linspace(y_pred.min(), y_pred.max(), 100)\n",
    "ax.plot(x_vals, x_vals, color='red', linestyle='--', linewidth=2) \n",
    "\n",
    "plt.show()\n"
   ]
  },
  {
   "cell_type": "markdown",
   "id": "3323494e-4d2c-4b9e-b89a-27473c08060b",
   "metadata": {},
   "source": [
    "In this scatterplot of the predicted price values versus the actual price values, the predicted was capped at about 3,000, meanwhile the actual value went as high as 10,000. In linear regression, this punishes the model severely as the large values of error are squared, giving more weight to outliers. In the case of this dataset, the outliers are already large, and this magnifies the effect of the outliers, further punishing the model. Further analysis could look into handling the outliers."
   ]
  },
  {
   "cell_type": "code",
   "execution_count": 231,
   "id": "3ee8a409-43a3-48db-93d5-9d457d908b86",
   "metadata": {
    "tags": []
   },
   "outputs": [
    {
     "data": {
      "image/png": "[encoded data removed]",
      "text/plain": [
       "<Figure size 600x400 with 1 Axes>"
      ]
     },
     "metadata": {},
     "output_type": "display_data"
    }
   ],
   "source": [
    "# scatterplot\n",
    "\n",
    "plt.figure(figsize=(6,4))\n",
    "ax = sns.scatterplot(x=y_pred, y=y_test)\n",
    "plt.suptitle(\"Scatterplot of y_pred and y_test\")\n",
    "plt.xlabel(\"y_pred\")\n",
    "plt.ylabel(\"y_test\")\n",
    "\n",
    "x_vals = np.linspace(y_pred.min(), y_pred.max(), 100)\n",
    "ax.plot(x_vals, x_vals, color='red', linestyle='--', linewidth=2) \n",
    "\n",
    "plt.xlim(0, 1000)\n",
    "plt.ylim(0, 1000)\n",
    "\n",
    "plt.show()\n"
   ]
  },
  {
   "cell_type": "markdown",
   "id": "b7458a81-a1d5-4995-9215-51f73c118976",
   "metadata": {},
   "source": [
    "When zooming into the values less than 1,000, the model seemed to performed much better. With similar amounts above the line, showing when actual price is higher than predicted price, and a similar amount under the line, showing when predicted price is higher than actual price."
   ]
  },
  {
   "cell_type": "markdown",
   "id": "2b8ca139-1ab7-4ddf-995a-c958d7c9807c",
   "metadata": {},
   "source": [
    "#### Pickle and save model"
   ]
  },
  {
   "cell_type": "code",
   "execution_count": 232,
   "id": "76b0b747-6d7e-491b-91b9-b780619278de",
   "metadata": {
    "tags": []
   },
   "outputs": [],
   "source": [
    "pickle.dump(xgb_best, open(\"../models/xgb_model.pkl\",\"wb\"))"
   ]
  },
  {
   "cell_type": "markdown",
   "id": "5856bc3d-4748-4a7e-acb3-cf8b410b0e1e",
   "metadata": {},
   "source": [
    "_________________________________"
   ]
  },
  {
   "cell_type": "markdown",
   "id": "2a687140-9c27-4717-b39b-25b4e168e7de",
   "metadata": {},
   "source": [
    "### Random Forest Modeling"
   ]
  },
  {
   "cell_type": "code",
   "execution_count": 205,
   "id": "1aade341-5545-4e4c-9fc9-90d12991fbd5",
   "metadata": {
    "tags": []
   },
   "outputs": [
    {
     "name": "stdout",
     "output_type": "stream",
     "text": [
      "Train score: 0.8122421091184816\n",
      "Test score: -0.7002909249599998\n"
     ]
    }
   ],
   "source": [
    "# initialize rforest\n",
    "rforest_model = RandomForestRegressor()\n",
    "\n",
    "# fit logistic regression model to xtrain\n",
    "rforest_model.fit(X_train, y_train)\n",
    "\n",
    "# get scores for train and test\n",
    "print(f\"Train score: {rforest_model.score(X_train, y_train)}\")\n",
    "print(f\"Test score: {rforest_model.score(X_test, y_test)}\")"
   ]
  },
  {
   "cell_type": "markdown",
   "id": "a126eacf-9547-44a4-b3f5-2bf220a2a2a8",
   "metadata": {},
   "source": [
    "An initial testing of a linear regression model is performed to poor results. Surprisingly, the test score performed better than the train score."
   ]
  },
  {
   "cell_type": "markdown",
   "id": "fc24f64c-ecc0-4959-b9cb-2ff5fd26b9c7",
   "metadata": {},
   "source": [
    "#### Feature Importance"
   ]
  },
  {
   "cell_type": "code",
   "execution_count": 206,
   "id": "a2e526f7-641a-430a-a8d0-a1eb44b2be15",
   "metadata": {
    "tags": []
   },
   "outputs": [
    {
     "data": {
      "text/plain": [
       "longitude                         0.445679\n",
       "number_of_reviews                 0.098138\n",
       "ratings_4.4                       0.096865\n",
       "availability_365                  0.052972\n",
       "calculated_host_listings_count    0.049363\n",
       "latitude                          0.045004\n",
       "month                             0.028987\n",
       "number_of_reviews_ltm             0.020285\n",
       "roomtype_Entire home/apt          0.018187\n",
       "neighborhood_avgprice             0.016625\n",
       "reviews_per_month                 0.015528\n",
       "last_review_month                 0.014794\n",
       "baths                             0.013963\n",
       "bedrooms                          0.012730\n",
       "minimum_nights                    0.010664\n",
       "last_review_year                  0.009577\n",
       "ratings_4.2                       0.006729\n",
       "roomtype_Private room             0.006231\n",
       "license_No License                0.006124\n",
       "beds                              0.005428\n",
       "ratings_3.0                       0.005314\n",
       "neighgroup_Brooklyn               0.005288\n",
       "ratings_5                         0.002934\n",
       "roomtype_Shared room              0.002835\n",
       "ratings_No rating                 0.002694\n",
       "license_Exempt                    0.002466\n",
       "ratings_4.6                       0.001621\n",
       "neighgroup_Manhattan              0.001206\n",
       "roomtype_Hotel room               0.000936\n",
       "ratings_4.8                       0.000446\n",
       "license_Has License               0.000115\n",
       "ratings_4.0                       0.000097\n",
       "neighgroup_Queens                 0.000073\n",
       "neighgroup_Bronx                  0.000046\n",
       "ratings_New                       0.000033\n",
       "ratings_less3                     0.000013\n",
       "neighgroup_Staten Island          0.000013\n",
       "dtype: float64"
      ]
     },
     "execution_count": 206,
     "metadata": {},
     "output_type": "execute_result"
    }
   ],
   "source": [
    "importances = rforest_model.feature_importances_\n",
    "\n",
    "feature_importances = pd.Series(importances, index=X_test.columns)\n",
    "\n",
    "feature_importances.sort_values(ascending=False)"
   ]
  },
  {
   "cell_type": "code",
   "execution_count": 207,
   "id": "5e7a9309-c384-47d5-9d2b-ad5ecfc0e3a9",
   "metadata": {
    "tags": []
   },
   "outputs": [
    {
     "data": {
      "text/plain": [
       "latitude                         -0.081864\n",
       "longitude                         2.519599\n",
       "minimum_nights                    0.065425\n",
       "number_of_reviews                -0.151651\n",
       "reviews_per_month                -0.015117\n",
       "calculated_host_listings_count    0.047798\n",
       "availability_365                  0.860819\n",
       "number_of_reviews_ltm            -0.090243\n",
       "bedrooms                          0.071254\n",
       "beds                              0.005694\n",
       "baths                             0.115580\n",
       "month                             0.088647\n",
       "neighborhood_avgprice             3.147531\n",
       "last_review_month                 0.032423\n",
       "last_review_year                  0.027413\n",
       "neighgroup_Bronx                 -0.002690\n",
       "neighgroup_Brooklyn              -0.064587\n",
       "neighgroup_Manhattan              0.006201\n",
       "neighgroup_Queens                 0.000324\n",
       "neighgroup_Staten Island          0.000032\n",
       "roomtype_Entire home/apt         -0.048898\n",
       "roomtype_Hotel room              -0.023566\n",
       "roomtype_Private room             0.003344\n",
       "roomtype_Shared room              0.001043\n",
       "license_Exempt                    0.119319\n",
       "license_Has License               0.000082\n",
       "license_No License               -0.020728\n",
       "ratings_3.0                       0.000044\n",
       "ratings_4.0                       0.002402\n",
       "ratings_4.2                       0.611526\n",
       "ratings_4.4                       0.420929\n",
       "ratings_4.6                       0.000184\n",
       "ratings_4.8                       0.001574\n",
       "ratings_5                        -0.012787\n",
       "ratings_New                       0.000055\n",
       "ratings_No rating                 0.000145\n",
       "ratings_less3                    -0.000002\n",
       "dtype: float64"
      ]
     },
     "execution_count": 207,
     "metadata": {},
     "output_type": "execute_result"
    }
   ],
   "source": [
    "# Compute permutation importance\n",
    "result = permutation_importance(rforest_model, X_test, y_test, n_repeats=10, random_state=0)\n",
    "\n",
    "# Convert to Series for plotting\n",
    "perm_importances = pd.Series(result.importances_mean, index=X.columns)\n",
    "perm_importances"
   ]
  },
  {
   "cell_type": "markdown",
   "id": "6ed6f6ca-8ecf-46d4-9d89-1bd3924c97c8",
   "metadata": {},
   "source": [
    "#### Set-up pipeline and gridsearch"
   ]
  },
  {
   "cell_type": "code",
   "execution_count": 234,
   "id": "6a16c2d2-a3b3-47e4-be80-2c4c2a87b129",
   "metadata": {
    "tags": []
   },
   "outputs": [],
   "source": [
    "estimators = [(\"scaler\", StandardScaler()),\n",
    "              (\"pca\", PCA()),\n",
    "              ('rf', RandomForestRegressor())]\n",
    "\n",
    "cachedir = mkdtemp()\n",
    "pipe = Pipeline(estimators, memory=cachedir)\n",
    "\n",
    "params = {\"scaler\": [StandardScaler(), None], \n",
    "          \"pca__n_components\": [5, 10, 20,]\n",
    "}\n",
    "\n",
    "grid_search = GridSearchCV(pipe, param_grid=params, cv=5)\n"
   ]
  },
  {
   "cell_type": "markdown",
   "id": "e0eefabf-fefc-4db7-926f-4fc52af4bb54",
   "metadata": {},
   "source": [
    "A pipeline and gridsearch structure is built to run the model through. The StandardScaler, PCA, and Linear Regression are used. "
   ]
  },
  {
   "cell_type": "markdown",
   "id": "91788898-a005-46a0-87fc-316934c1562a",
   "metadata": {},
   "source": [
    "#### Fit the gridsearch best fit model"
   ]
  },
  {
   "cell_type": "code",
   "execution_count": 237,
   "id": "317f23d6-b57a-4503-97f7-0247e83e5e0e",
   "metadata": {
    "tags": []
   },
   "outputs": [],
   "source": [
    "rforest_best = grid_search.fit(X_train, y_train)"
   ]
  },
  {
   "cell_type": "code",
   "execution_count": 238,
   "id": "4f4015f9-c3d0-4aa7-b3af-f98678a594dc",
   "metadata": {
    "tags": []
   },
   "outputs": [
    {
     "data": {
      "text/html": [
       "<style>#sk-container-id-5 {color: black;}#sk-container-id-5 pre{padding: 0;}#sk-container-id-5 div.sk-toggleable {background-color: white;}#sk-container-id-5 label.sk-toggleable__label {cursor: pointer;display: block;width: 100%;margin-bottom: 0;padding: 0.3em;box-sizing: border-box;text-align: center;}#sk-container-id-5 label.sk-toggleable__label-arrow:before {content: \"▸\";float: left;margin-right: 0.25em;color: #696969;}#sk-container-id-5 label.sk-toggleable__label-arrow:hover:before {color: black;}#sk-container-id-5 div.sk-estimator:hover label.sk-toggleable__label-arrow:before {color: black;}#sk-container-id-5 div.sk-toggleable__content {max-height: 0;max-width: 0;overflow: hidden;text-align: left;background-color: #f0f8ff;}#sk-container-id-5 div.sk-toggleable__content pre {margin: 0.2em;color: black;border-radius: 0.25em;background-color: #f0f8ff;}#sk-container-id-5 input.sk-toggleable__control:checked~div.sk-toggleable__content {max-height: 200px;max-width: 100%;overflow: auto;}#sk-container-id-5 input.sk-toggleable__control:checked~label.sk-toggleable__label-arrow:before {content: \"▾\";}#sk-container-id-5 div.sk-estimator input.sk-toggleable__control:checked~label.sk-toggleable__label {background-color: #d4ebff;}#sk-container-id-5 div.sk-label input.sk-toggleable__control:checked~label.sk-toggleable__label {background-color: #d4ebff;}#sk-container-id-5 input.sk-hidden--visually {border: 0;clip: rect(1px 1px 1px 1px);clip: rect(1px, 1px, 1px, 1px);height: 1px;margin: -1px;overflow: hidden;padding: 0;position: absolute;width: 1px;}#sk-container-id-5 div.sk-estimator {font-family: monospace;background-color: #f0f8ff;border: 1px dotted black;border-radius: 0.25em;box-sizing: border-box;margin-bottom: 0.5em;}#sk-container-id-5 div.sk-estimator:hover {background-color: #d4ebff;}#sk-container-id-5 div.sk-parallel-item::after {content: \"\";width: 100%;border-bottom: 1px solid gray;flex-grow: 1;}#sk-container-id-5 div.sk-label:hover label.sk-toggleable__label {background-color: #d4ebff;}#sk-container-id-5 div.sk-serial::before {content: \"\";position: absolute;border-left: 1px solid gray;box-sizing: border-box;top: 0;bottom: 0;left: 50%;z-index: 0;}#sk-container-id-5 div.sk-serial {display: flex;flex-direction: column;align-items: center;background-color: white;padding-right: 0.2em;padding-left: 0.2em;position: relative;}#sk-container-id-5 div.sk-item {position: relative;z-index: 1;}#sk-container-id-5 div.sk-parallel {display: flex;align-items: stretch;justify-content: center;background-color: white;position: relative;}#sk-container-id-5 div.sk-item::before, #sk-container-id-5 div.sk-parallel-item::before {content: \"\";position: absolute;border-left: 1px solid gray;box-sizing: border-box;top: 0;bottom: 0;left: 50%;z-index: -1;}#sk-container-id-5 div.sk-parallel-item {display: flex;flex-direction: column;z-index: 1;position: relative;background-color: white;}#sk-container-id-5 div.sk-parallel-item:first-child::after {align-self: flex-end;width: 50%;}#sk-container-id-5 div.sk-parallel-item:last-child::after {align-self: flex-start;width: 50%;}#sk-container-id-5 div.sk-parallel-item:only-child::after {width: 0;}#sk-container-id-5 div.sk-dashed-wrapped {border: 1px dashed gray;margin: 0 0.4em 0.5em 0.4em;box-sizing: border-box;padding-bottom: 0.4em;background-color: white;}#sk-container-id-5 div.sk-label label {font-family: monospace;font-weight: bold;display: inline-block;line-height: 1.2em;}#sk-container-id-5 div.sk-label-container {text-align: center;}#sk-container-id-5 div.sk-container {/* jupyter's `normalize.less` sets `[hidden] { display: none; }` but bootstrap.min.css set `[hidden] { display: none !important; }` so we also need the `!important` here to be able to override the default hidden behavior on the sphinx rendered scikit-learn.org. See: https://github.com/scikit-learn/scikit-learn/issues/21755 */display: inline-block !important;position: relative;}#sk-container-id-5 div.sk-text-repr-fallback {display: none;}</style><div id=\"sk-container-id-5\" class=\"sk-top-container\"><div class=\"sk-text-repr-fallback\"><pre>Pipeline(memory=&#x27;/var/folders/s2/vdwvjj2j24d4tg5yz10ycr080000gn/T/tmp81bnbsi1&#x27;,\n",
       "         steps=[(&#x27;scaler&#x27;, StandardScaler()), (&#x27;pca&#x27;, PCA(n_components=5)),\n",
       "                (&#x27;rf&#x27;, RandomForestRegressor())])</pre><b>In a Jupyter environment, please rerun this cell to show the HTML representation or trust the notebook. <br />On GitHub, the HTML representation is unable to render, please try loading this page with nbviewer.org.</b></div><div class=\"sk-container\" hidden><div class=\"sk-item sk-dashed-wrapped\"><div class=\"sk-label-container\"><div class=\"sk-label sk-toggleable\"><input class=\"sk-toggleable__control sk-hidden--visually\" id=\"sk-estimator-id-17\" type=\"checkbox\" ><label for=\"sk-estimator-id-17\" class=\"sk-toggleable__label sk-toggleable__label-arrow\">Pipeline</label><div class=\"sk-toggleable__content\"><pre>Pipeline(memory=&#x27;/var/folders/s2/vdwvjj2j24d4tg5yz10ycr080000gn/T/tmp81bnbsi1&#x27;,\n",
       "         steps=[(&#x27;scaler&#x27;, StandardScaler()), (&#x27;pca&#x27;, PCA(n_components=5)),\n",
       "                (&#x27;rf&#x27;, RandomForestRegressor())])</pre></div></div></div><div class=\"sk-serial\"><div class=\"sk-item\"><div class=\"sk-estimator sk-toggleable\"><input class=\"sk-toggleable__control sk-hidden--visually\" id=\"sk-estimator-id-18\" type=\"checkbox\" ><label for=\"sk-estimator-id-18\" class=\"sk-toggleable__label sk-toggleable__label-arrow\">StandardScaler</label><div class=\"sk-toggleable__content\"><pre>StandardScaler()</pre></div></div></div><div class=\"sk-item\"><div class=\"sk-estimator sk-toggleable\"><input class=\"sk-toggleable__control sk-hidden--visually\" id=\"sk-estimator-id-19\" type=\"checkbox\" ><label for=\"sk-estimator-id-19\" class=\"sk-toggleable__label sk-toggleable__label-arrow\">PCA</label><div class=\"sk-toggleable__content\"><pre>PCA(n_components=5)</pre></div></div></div><div class=\"sk-item\"><div class=\"sk-estimator sk-toggleable\"><input class=\"sk-toggleable__control sk-hidden--visually\" id=\"sk-estimator-id-20\" type=\"checkbox\" ><label for=\"sk-estimator-id-20\" class=\"sk-toggleable__label sk-toggleable__label-arrow\">RandomForestRegressor</label><div class=\"sk-toggleable__content\"><pre>RandomForestRegressor()</pre></div></div></div></div></div></div></div>"
      ],
      "text/plain": [
       "Pipeline(memory='/var/folders/s2/vdwvjj2j24d4tg5yz10ycr080000gn/T/tmp81bnbsi1',\n",
       "         steps=[('scaler', StandardScaler()), ('pca', PCA(n_components=5)),\n",
       "                ('rf', RandomForestRegressor())])"
      ]
     },
     "execution_count": 238,
     "metadata": {},
     "output_type": "execute_result"
    }
   ],
   "source": [
    "rforest_best.best_estimator_\n"
   ]
  },
  {
   "cell_type": "code",
   "execution_count": 239,
   "id": "00db6644-7daa-4565-b126-da828c820f86",
   "metadata": {
    "tags": []
   },
   "outputs": [
    {
     "name": "stdout",
     "output_type": "stream",
     "text": [
      "The best fit scaler is: StandardScaler()\n",
      "The best fit number of PCA components is: PCA(n_components=5)\n",
      "The best fit model is: RandomForestRegressor()\n"
     ]
    }
   ],
   "source": [
    "print(f\"The best fit scaler is: {rforest_best.best_estimator_[0]}\")\n",
    "print(f\"The best fit number of PCA components is: {rforest_best.best_estimator_[1]}\")\n",
    "print(f\"The best fit model is: {rforest_best.best_estimator_[2]}\")"
   ]
  },
  {
   "cell_type": "markdown",
   "id": "2a34e246-ec9c-4c68-b4ec-19b9fdf478da",
   "metadata": {},
   "source": [
    "The gridsearch parameters improved the test score from 0.12 to 0.13, being able to explain 13% of the price information. For the gridsearch the StandardScaler performed better than no scaler, and PCA 10 components performed the best. Since the lowest number of PCA performed the best, this can indicate that the features might not be helping with the price prediction. Perhaps they are not linearly correlated with price. Furthur analysis can look into non-linear relationship modeling. "
   ]
  },
  {
   "cell_type": "code",
   "execution_count": 240,
   "id": "38c3dc4f-1429-41a9-a976-dac2d76f62c0",
   "metadata": {
    "tags": []
   },
   "outputs": [
    {
     "name": "stdout",
     "output_type": "stream",
     "text": [
      "Train score: -0.15188394291277763\n",
      "Test score: -0.0642819683216751\n"
     ]
    }
   ],
   "source": [
    "# linreg_best train and test scores\n",
    "print(f\"Train score: {rforest_best.score(X_train, y_train)}\")\n",
    "print(f\"Test score: {rforest_best.score(X_test, y_test)}\")"
   ]
  },
  {
   "cell_type": "code",
   "execution_count": 241,
   "id": "472aa9ad-ad53-4f7f-ba9d-7332761cf580",
   "metadata": {
    "tags": []
   },
   "outputs": [],
   "source": [
    "# make array of y_pred\n",
    "y_pred = rforest_best.predict(X_test)"
   ]
  },
  {
   "cell_type": "code",
   "execution_count": 242,
   "id": "f8efbad6-ff85-45e3-a835-3b76144e060f",
   "metadata": {
    "tags": []
   },
   "outputs": [
    {
     "name": "stdout",
     "output_type": "stream",
     "text": [
      "RMSE: 315.01405898440083\n"
     ]
    }
   ],
   "source": [
    "# Calculate MSE\n",
    "mse = mean_squared_error(y_test, y_pred)\n",
    "\n",
    "# Calculate RMSE\n",
    "rmse = np.sqrt(mse)\n",
    "\n",
    "print(\"RMSE:\", rmse)"
   ]
  },
  {
   "cell_type": "code",
   "execution_count": 243,
   "id": "083c219b-65d6-42e4-a363-4da0330e2ada",
   "metadata": {
    "tags": []
   },
   "outputs": [
    {
     "name": "stdout",
     "output_type": "stream",
     "text": [
      "MAE: 91.52006021194605\n"
     ]
    }
   ],
   "source": [
    "# Calculate MAE\n",
    "mae = mean_absolute_error(y_test, y_pred)\n",
    "\n",
    "print(\"MAE:\", mae)"
   ]
  },
  {
   "cell_type": "code",
   "execution_count": 244,
   "id": "1f4c57f0-9c05-408e-86b3-73aa4c6c9f54",
   "metadata": {},
   "outputs": [
    {
     "data": {
      "text/html": [
       "<div>\n",
       "<style scoped>\n",
       "    .dataframe tbody tr th:only-of-type {\n",
       "        vertical-align: middle;\n",
       "    }\n",
       "\n",
       "    .dataframe tbody tr th {\n",
       "        vertical-align: top;\n",
       "    }\n",
       "\n",
       "    .dataframe thead th {\n",
       "        text-align: right;\n",
       "    }\n",
       "</style>\n",
       "<table border=\"1\" class=\"dataframe\">\n",
       "  <thead>\n",
       "    <tr style=\"text-align: right;\">\n",
       "      <th></th>\n",
       "      <th>True_y</th>\n",
       "      <th>Pred_y</th>\n",
       "    </tr>\n",
       "  </thead>\n",
       "  <tbody>\n",
       "    <tr>\n",
       "      <th>17392</th>\n",
       "      <td>165.0</td>\n",
       "      <td>180.62</td>\n",
       "    </tr>\n",
       "    <tr>\n",
       "      <th>14299</th>\n",
       "      <td>225.0</td>\n",
       "      <td>126.23</td>\n",
       "    </tr>\n",
       "    <tr>\n",
       "      <th>14753</th>\n",
       "      <td>112.0</td>\n",
       "      <td>159.13</td>\n",
       "    </tr>\n",
       "    <tr>\n",
       "      <th>15306</th>\n",
       "      <td>200.0</td>\n",
       "      <td>119.28</td>\n",
       "    </tr>\n",
       "    <tr>\n",
       "      <th>16482</th>\n",
       "      <td>48.0</td>\n",
       "      <td>73.10</td>\n",
       "    </tr>\n",
       "    <tr>\n",
       "      <th>...</th>\n",
       "      <td>...</td>\n",
       "      <td>...</td>\n",
       "    </tr>\n",
       "    <tr>\n",
       "      <th>13289</th>\n",
       "      <td>149.0</td>\n",
       "      <td>165.54</td>\n",
       "    </tr>\n",
       "    <tr>\n",
       "      <th>11555</th>\n",
       "      <td>254.0</td>\n",
       "      <td>152.19</td>\n",
       "    </tr>\n",
       "    <tr>\n",
       "      <th>10644</th>\n",
       "      <td>166.0</td>\n",
       "      <td>71.54</td>\n",
       "    </tr>\n",
       "    <tr>\n",
       "      <th>49</th>\n",
       "      <td>1000.0</td>\n",
       "      <td>222.12</td>\n",
       "    </tr>\n",
       "    <tr>\n",
       "      <th>13704</th>\n",
       "      <td>400.0</td>\n",
       "      <td>301.91</td>\n",
       "    </tr>\n",
       "  </tbody>\n",
       "</table>\n",
       "<p>4152 rows × 2 columns</p>\n",
       "</div>"
      ],
      "text/plain": [
       "       True_y  Pred_y\n",
       "17392   165.0  180.62\n",
       "14299   225.0  126.23\n",
       "14753   112.0  159.13\n",
       "15306   200.0  119.28\n",
       "16482    48.0   73.10\n",
       "...       ...     ...\n",
       "13289   149.0  165.54\n",
       "11555   254.0  152.19\n",
       "10644   166.0   71.54\n",
       "49     1000.0  222.12\n",
       "13704   400.0  301.91\n",
       "\n",
       "[4152 rows x 2 columns]"
      ]
     },
     "execution_count": 244,
     "metadata": {},
     "output_type": "execute_result"
    }
   ],
   "source": [
    "# compare y_pred to y_true\n",
    "\n",
    "# add to df\n",
    "y_truevspred = pd.DataFrame({\"True_y\": y_test, \"Pred_y\": y_pred})\n",
    "\n",
    "# display\n",
    "y_truevspred"
   ]
  },
  {
   "cell_type": "markdown",
   "id": "8fa9a954-11bb-4ca5-95a9-985d80a7d8ca",
   "metadata": {
    "tags": []
   },
   "source": [
    "#### Plots of predicted vs actual"
   ]
  },
  {
   "cell_type": "code",
   "execution_count": 245,
   "id": "15cb1660-352e-4038-bed9-52f39f6e0136",
   "metadata": {
    "tags": []
   },
   "outputs": [
    {
     "data": {
      "image/png": "[encoded data removed]",
      "text/plain": [
       "<Figure size 600x400 with 1 Axes>"
      ]
     },
     "metadata": {},
     "output_type": "display_data"
    }
   ],
   "source": [
    "# scatterplot\n",
    "\n",
    "plt.figure(figsize=(6,4))\n",
    "ax = sns.scatterplot(x=y_pred, y=y_test)\n",
    "plt.suptitle(\"Scatterplot of y_pred and y_test\")\n",
    "plt.xlabel(\"y_pred\")\n",
    "plt.ylabel(\"y_test\")\n",
    "\n",
    "x_vals = np.linspace(y_pred.min(), y_pred.max(), 100)\n",
    "ax.plot(x_vals, x_vals, color='red', linestyle='--', linewidth=2) \n",
    "\n",
    "plt.show()\n"
   ]
  },
  {
   "cell_type": "markdown",
   "id": "b28d6bb5-b5ad-4398-8958-ebd45e0ae467",
   "metadata": {},
   "source": [
    "In this scatterplot of the predicted price values versus the actual price values, the predicted was capped at about 3,000, meanwhile the actual value went as high as 10,000. In linear regression, this punishes the model severely as the large values of error are squared, giving more weight to outliers. In the case of this dataset, the outliers are already large, and this magnifies the effect of the outliers, further punishing the model. Further analysis could look into handling the outliers."
   ]
  },
  {
   "cell_type": "code",
   "execution_count": 246,
   "id": "c0a54cb7-34bf-42d7-a284-d0d84ad0555f",
   "metadata": {
    "tags": []
   },
   "outputs": [
    {
     "data": {
      "image/png": "[encoded data removed]",
      "text/plain": [
       "<Figure size 600x400 with 1 Axes>"
      ]
     },
     "metadata": {},
     "output_type": "display_data"
    }
   ],
   "source": [
    "# scatterplot\n",
    "\n",
    "plt.figure(figsize=(6,4))\n",
    "ax = sns.scatterplot(x=y_pred, y=y_test)\n",
    "plt.suptitle(\"Scatterplot of y_pred and y_test\")\n",
    "plt.xlabel(\"y_pred\")\n",
    "plt.ylabel(\"y_test\")\n",
    "\n",
    "x_vals = np.linspace(y_pred.min(), y_pred.max(), 100)\n",
    "ax.plot(x_vals, x_vals, color='red', linestyle='--', linewidth=2) \n",
    "\n",
    "plt.xlim(0, 1000)\n",
    "plt.ylim(0, 1000)\n",
    "\n",
    "plt.show()\n"
   ]
  },
  {
   "cell_type": "markdown",
   "id": "028fee7a-2275-4ab5-b70a-40856fda5e30",
   "metadata": {},
   "source": [
    "When zooming into the values less than 1,000, the model seemed to performed much better. With similar amounts above the line, showing when actual price is higher than predicted price, and a similar amount under the line, showing when predicted price is higher than actual price."
   ]
  },
  {
   "cell_type": "markdown",
   "id": "dbabc581-d42c-4222-9369-c79ddafa0707",
   "metadata": {},
   "source": [
    "#### Pickle and save model"
   ]
  },
  {
   "cell_type": "code",
   "execution_count": 247,
   "id": "bf90e28c-4f57-4bfc-97bc-939f48a03310",
   "metadata": {
    "tags": []
   },
   "outputs": [],
   "source": [
    "pickle.dump(rforest_best, open(\"../models/rf_model.pkl\",\"wb\"))"
   ]
  }
 ],
 "metadata": {
  "kernelspec": {
   "display_name": "Python 3 (ipykernel)",
   "language": "python",
   "name": "python3"
  },
  "language_info": {
   "codemirror_mode": {
    "name": "ipython",
    "version": 3
   },
   "file_extension": ".py",
   "mimetype": "text/x-python",
   "name": "python",
   "nbconvert_exporter": "python",
   "pygments_lexer": "ipython3",
   "version": "3.11.5"
  }
 },
 "nbformat": 4,
 "nbformat_minor": 5
}
